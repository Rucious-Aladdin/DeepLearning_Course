{
  "cells": [
    {
      "cell_type": "markdown",
      "metadata": {
        "id": "98c7592f"
      },
      "source": [
        "**참고문헌: 핸즈온 머신러닝(2판), 올레리앙 제롱 지음, 박해선 옮김, 11장 – 심층 신경망 훈련하기**"
      ],
      "id": "98c7592f"
    },
    {
      "cell_type": "markdown",
      "metadata": {
        "id": "d64f3e3e"
      },
      "source": [
        "<table align=\"left\">\n",
        "  <td>\n",
        "    <a target=\"_blank\" href=\"https://colab.research.google.com/github/rickiepark/handson-ml2/blob/master/11_training_deep_neural_networks.ipynb\"><img src=\"https://www.tensorflow.org/images/colab_logo_32px.png\" />구글 코랩에서 실행하기</a>\n",
        "  </td>\n",
        "</table>"
      ],
      "id": "d64f3e3e"
    },
    {
      "cell_type": "markdown",
      "metadata": {
        "id": "ac978c5c"
      },
      "source": [
        "# 설정"
      ],
      "id": "ac978c5c"
    },
    {
      "cell_type": "markdown",
      "metadata": {
        "id": "2587df6c"
      },
      "source": [
        "먼저 몇 개의 모듈을 임포트합니다. 맷플롯립 그래프를 인라인으로 출력하도록 만들고 그림을 저장하는 함수를 준비합니다. 또한 파이썬 버전이 3.5 이상인지 확인합니다(파이썬 2.x에서도 동작하지만 곧 지원이 중단되므로 파이썬 3을 사용하는 것이 좋습니다). 사이킷런 버전이 0.20 이상인지와 텐서플로 버전이 2.0 이상인지 확인합니다."
      ],
      "id": "2587df6c"
    },
    {
      "cell_type": "code",
      "execution_count": null,
      "metadata": {
        "id": "3b742d72"
      },
      "outputs": [],
      "source": [
        "# 파이썬 ≥3.5 필수\n",
        "import sys\n",
        "assert sys.version_info >= (3, 5)\n",
        "\n",
        "# 사이킷런 ≥0.20 필수\n",
        "import sklearn\n",
        "assert sklearn.__version__ >= \"0.20\"\n",
        "\n",
        "# 텐서플로 ≥2.0 필수\n",
        "import tensorflow as tf\n",
        "from tensorflow import keras\n",
        "assert tf.__version__ >= \"2.0\"\n",
        "\n",
        "%load_ext tensorboard\n",
        "\n",
        "# 공통 모듈 임포트\n",
        "import numpy as np\n",
        "import os\n",
        "\n",
        "# 노트북 실행 결과를 동일하게 유지하기 위해\n",
        "np.random.seed(42)\n",
        "\n",
        "# 깔끔한 그래프 출력을 위해\n",
        "%matplotlib inline\n",
        "import matplotlib as mpl\n",
        "import matplotlib.pyplot as plt\n",
        "mpl.rc('axes', labelsize=14)\n",
        "mpl.rc('xtick', labelsize=12)\n",
        "mpl.rc('ytick', labelsize=12)\n",
        "\n",
        "# 그림을 저장할 위치\n",
        "PROJECT_ROOT_DIR = \".\"\n",
        "CHAPTER_ID = \"deep\"\n",
        "IMAGES_PATH = os.path.join(PROJECT_ROOT_DIR, \"images\", CHAPTER_ID)\n",
        "os.makedirs(IMAGES_PATH, exist_ok=True)\n",
        "\n",
        "def save_fig(fig_id, tight_layout=True, fig_extension=\"png\", resolution=300):\n",
        "    path = os.path.join(IMAGES_PATH, fig_id + \".\" + fig_extension)\n",
        "    print(\"그림 저장:\", fig_id)\n",
        "    if tight_layout:\n",
        "        plt.tight_layout()\n",
        "    plt.savefig(path, format=fig_extension, dpi=resolution)"
      ],
      "id": "3b742d72"
    },
    {
      "cell_type": "markdown",
      "metadata": {
        "id": "uutx5XFHcixw"
      },
      "source": [
        "# 고속 옵티마이저"
      ],
      "id": "uutx5XFHcixw"
    },
    {
      "cell_type": "markdown",
      "metadata": {
        "id": "6iNxhxZqQ5XS"
      },
      "source": [
        "### Gradient Descent (GD) vs. Stochastic Gradient Descent (SGD)"
      ],
      "id": "6iNxhxZqQ5XS"
    },
    {
      "cell_type": "markdown",
      "metadata": {
        "id": "FAEpRcdUQ80m"
      },
      "source": [
        "#### GD\n",
        "• 한번 학습할 때 모든 학습데이터를 가지고 연산을 진행하고, 이에 따라 연산량이 많아 학습 속도가 느린 단점\n",
        "#### SGD\n",
        "• 학습이 빠르게 이뤄진다는 장점이 있지만, 좌측 하단 그림의 빨간 선처럼 지그재그로 핑퐁하면서 불안정한 학습과정. 이러한 과정은 local minima(지역 최소점 과 saddle point(안장점)에 빠질 수 있다는 치명적인 단점"
      ],
      "id": "FAEpRcdUQ80m"
    },
    {
      "cell_type": "markdown",
      "metadata": {
        "id": "a460ab6b"
      },
      "source": [
        "## 모멘텀 옵티마이저"
      ],
      "id": "a460ab6b"
    },
    {
      "cell_type": "code",
      "execution_count": null,
      "metadata": {
        "id": "51de2a64"
      },
      "outputs": [],
      "source": [
        "optimizer = keras.optimizers.SGD(learning_rate=0.001, momentum=0.9)"
      ],
      "id": "51de2a64"
    },
    {
      "cell_type": "markdown",
      "metadata": {
        "id": "ef7bd778"
      },
      "source": [
        "## 네스테로프 가속 경사"
      ],
      "id": "ef7bd778"
    },
    {
      "cell_type": "code",
      "execution_count": null,
      "metadata": {
        "id": "79d96d0e"
      },
      "outputs": [],
      "source": [
        "optimizer = keras.optimizers.SGD(learning_rate=0.001, momentum=0.9, nesterov=True)"
      ],
      "id": "79d96d0e"
    },
    {
      "cell_type": "markdown",
      "metadata": {
        "id": "fc22c7de"
      },
      "source": [
        "## AdaGrad"
      ],
      "id": "fc22c7de"
    },
    {
      "cell_type": "code",
      "execution_count": null,
      "metadata": {
        "id": "5449bc99"
      },
      "outputs": [],
      "source": [
        "optimizer = keras.optimizers.Adagrad(learning_rate=0.001)"
      ],
      "id": "5449bc99"
    },
    {
      "cell_type": "markdown",
      "metadata": {
        "id": "d4fa4e86"
      },
      "source": [
        "## RMSProp"
      ],
      "id": "d4fa4e86"
    },
    {
      "cell_type": "code",
      "execution_count": null,
      "metadata": {
        "id": "f9eb7cc2"
      },
      "outputs": [],
      "source": [
        "optimizer = keras.optimizers.RMSprop(learning_rate=0.001, rho=0.9)"
      ],
      "id": "f9eb7cc2"
    },
    {
      "cell_type": "markdown",
      "metadata": {
        "id": "47e2d51a"
      },
      "source": [
        "## Adam 옵티마이저"
      ],
      "id": "47e2d51a"
    },
    {
      "cell_type": "code",
      "execution_count": null,
      "metadata": {
        "id": "e4b0fbf5"
      },
      "outputs": [],
      "source": [
        "optimizer = keras.optimizers.Adam(learning_rate=0.001, beta_1=0.9, beta_2=0.999)"
      ],
      "id": "e4b0fbf5"
    },
    {
      "cell_type": "markdown",
      "metadata": {
        "id": "ef2091ee"
      },
      "source": [
        "## Adamax 옵티마이저"
      ],
      "id": "ef2091ee"
    },
    {
      "cell_type": "code",
      "execution_count": null,
      "metadata": {
        "id": "0516e24f"
      },
      "outputs": [],
      "source": [
        "optimizer = keras.optimizers.Adamax(learning_rate=0.001, beta_1=0.9, beta_2=0.999)"
      ],
      "id": "0516e24f"
    },
    {
      "cell_type": "markdown",
      "metadata": {
        "id": "2b4f1575"
      },
      "source": [
        "## Nadam 옵티마이저"
      ],
      "id": "2b4f1575"
    },
    {
      "cell_type": "code",
      "execution_count": null,
      "metadata": {
        "id": "133149d5"
      },
      "outputs": [],
      "source": [
        "optimizer = keras.optimizers.Nadam(learning_rate=0.001, beta_1=0.9, beta_2=0.999)"
      ],
      "id": "133149d5"
    },
    {
      "cell_type": "markdown",
      "metadata": {
        "id": "00b929be"
      },
      "source": [
        "## 학습률 스케줄링"
      ],
      "id": "00b929be"
    },
    {
      "cell_type": "code",
      "execution_count": null,
      "metadata": {
        "colab": {
          "base_uri": "https://localhost:8080/"
        },
        "id": "ViVWRKHD0TKy",
        "outputId": "7cd193ee-c5e2-4571-d2de-a32e9ca0742e"
      },
      "outputs": [
        {
          "name": "stdout",
          "output_type": "stream",
          "text": [
            "Downloading data from https://storage.googleapis.com/tensorflow/tf-keras-datasets/mnist.npz\n",
            "11493376/11490434 [==============================] - 0s 0us/step\n",
            "11501568/11490434 [==============================] - 0s 0us/step\n"
          ]
        }
      ],
      "source": [
        "from keras.datasets import mnist\n",
        "from tensorflow.keras.utils import to_categorical\n",
        "\n",
        "(X_train, y_train), (X_valid, y_valid) = mnist.load_data()\n",
        "X_train = X_train.reshape((60000,28,28,1))\n",
        "X_train_scaled = X_train.astype('float32') / 255\n",
        "\n",
        "X_valid = X_valid.reshape((10000,28,28,1))\n",
        "X_valid_scaled = X_valid.astype('float32') / 255"
      ],
      "id": "ViVWRKHD0TKy"
    },
    {
      "cell_type": "markdown",
      "metadata": {
        "id": "26f519b2"
      },
      "source": [
        "### 거듭제곱 스케줄링"
      ],
      "id": "26f519b2"
    },
    {
      "cell_type": "markdown",
      "metadata": {
        "id": "66b9b49e"
      },
      "source": [
        "```lr = lr0 / (1 + steps / s)**c```\n",
        "* 케라스는 `c=1`과 `s = 1 / decay`을 사용합니다"
      ],
      "id": "66b9b49e"
    },
    {
      "cell_type": "code",
      "execution_count": null,
      "metadata": {
        "id": "342bff85"
      },
      "outputs": [],
      "source": [
        "optimizer = keras.optimizers.SGD(learning_rate=0.01, decay=1e-4)"
      ],
      "id": "342bff85"
    },
    {
      "cell_type": "code",
      "execution_count": null,
      "metadata": {
        "id": "2d98b804"
      },
      "outputs": [],
      "source": [
        "model = keras.models.Sequential([\n",
        "    keras.layers.Flatten(input_shape=[28, 28]),\n",
        "    keras.layers.Dense(300, activation=\"selu\", kernel_initializer=\"lecun_normal\"),\n",
        "    keras.layers.Dense(100, activation=\"selu\", kernel_initializer=\"lecun_normal\"),\n",
        "    keras.layers.Dense(10, activation=\"softmax\")\n",
        "])\n",
        "model.compile(loss=\"sparse_categorical_crossentropy\", optimizer=optimizer, metrics=[\"accuracy\"])"
      ],
      "id": "2d98b804"
    },
    {
      "cell_type": "code",
      "execution_count": null,
      "metadata": {
        "colab": {
          "base_uri": "https://localhost:8080/"
        },
        "id": "2e11b1cf",
        "outputId": "722f0f4f-f66a-476f-ab0c-3841a253b8da"
      },
      "outputs": [
        {
          "name": "stdout",
          "output_type": "stream",
          "text": [
            "Epoch 1/25\n",
            "1875/1875 [==============================] - 12s 4ms/step - loss: 0.4353 - accuracy: 0.8816 - val_loss: 0.2972 - val_accuracy: 0.9182\n",
            "Epoch 2/25\n",
            "1875/1875 [==============================] - 5s 3ms/step - loss: 0.2929 - accuracy: 0.9176 - val_loss: 0.2685 - val_accuracy: 0.9253\n",
            "Epoch 3/25\n",
            "1875/1875 [==============================] - 5s 3ms/step - loss: 0.2653 - accuracy: 0.9252 - val_loss: 0.2489 - val_accuracy: 0.9306\n",
            "Epoch 4/25\n",
            "1875/1875 [==============================] - 6s 3ms/step - loss: 0.2467 - accuracy: 0.9307 - val_loss: 0.2355 - val_accuracy: 0.9347\n",
            "Epoch 5/25\n",
            "1875/1875 [==============================] - 5s 3ms/step - loss: 0.2322 - accuracy: 0.9349 - val_loss: 0.2245 - val_accuracy: 0.9365\n",
            "Epoch 6/25\n",
            "1875/1875 [==============================] - 5s 3ms/step - loss: 0.2201 - accuracy: 0.9384 - val_loss: 0.2150 - val_accuracy: 0.9390\n",
            "Epoch 7/25\n",
            "1875/1875 [==============================] - 5s 3ms/step - loss: 0.2095 - accuracy: 0.9417 - val_loss: 0.2076 - val_accuracy: 0.9413\n",
            "Epoch 8/25\n",
            "1875/1875 [==============================] - 5s 3ms/step - loss: 0.2008 - accuracy: 0.9436 - val_loss: 0.1999 - val_accuracy: 0.9436\n",
            "Epoch 9/25\n",
            "1875/1875 [==============================] - 5s 3ms/step - loss: 0.1932 - accuracy: 0.9462 - val_loss: 0.1933 - val_accuracy: 0.9454\n",
            "Epoch 10/25\n",
            "1875/1875 [==============================] - 5s 3ms/step - loss: 0.1863 - accuracy: 0.9483 - val_loss: 0.1888 - val_accuracy: 0.9470\n",
            "Epoch 11/25\n",
            "1875/1875 [==============================] - 5s 3ms/step - loss: 0.1805 - accuracy: 0.9492 - val_loss: 0.1842 - val_accuracy: 0.9476\n",
            "Epoch 12/25\n",
            "1875/1875 [==============================] - 5s 3ms/step - loss: 0.1752 - accuracy: 0.9510 - val_loss: 0.1786 - val_accuracy: 0.9495\n",
            "Epoch 13/25\n",
            "1875/1875 [==============================] - 5s 3ms/step - loss: 0.1703 - accuracy: 0.9528 - val_loss: 0.1755 - val_accuracy: 0.9502\n",
            "Epoch 14/25\n",
            "1875/1875 [==============================] - 6s 3ms/step - loss: 0.1657 - accuracy: 0.9536 - val_loss: 0.1718 - val_accuracy: 0.9514\n",
            "Epoch 15/25\n",
            "1875/1875 [==============================] - 5s 3ms/step - loss: 0.1618 - accuracy: 0.9550 - val_loss: 0.1685 - val_accuracy: 0.9515\n",
            "Epoch 16/25\n",
            "1875/1875 [==============================] - 5s 3ms/step - loss: 0.1582 - accuracy: 0.9557 - val_loss: 0.1656 - val_accuracy: 0.9521\n",
            "Epoch 17/25\n",
            "1875/1875 [==============================] - 5s 3ms/step - loss: 0.1549 - accuracy: 0.9570 - val_loss: 0.1636 - val_accuracy: 0.9534\n",
            "Epoch 18/25\n",
            "1875/1875 [==============================] - 5s 3ms/step - loss: 0.1518 - accuracy: 0.9578 - val_loss: 0.1597 - val_accuracy: 0.9544\n",
            "Epoch 19/25\n",
            "1875/1875 [==============================] - 5s 3ms/step - loss: 0.1489 - accuracy: 0.9583 - val_loss: 0.1568 - val_accuracy: 0.9564\n",
            "Epoch 20/25\n",
            "1875/1875 [==============================] - 5s 3ms/step - loss: 0.1462 - accuracy: 0.9595 - val_loss: 0.1555 - val_accuracy: 0.9565\n",
            "Epoch 21/25\n",
            "1875/1875 [==============================] - 5s 3ms/step - loss: 0.1437 - accuracy: 0.9598 - val_loss: 0.1536 - val_accuracy: 0.9560\n",
            "Epoch 22/25\n",
            "1875/1875 [==============================] - 5s 3ms/step - loss: 0.1413 - accuracy: 0.9604 - val_loss: 0.1515 - val_accuracy: 0.9565\n",
            "Epoch 23/25\n",
            "1875/1875 [==============================] - 5s 3ms/step - loss: 0.1392 - accuracy: 0.9613 - val_loss: 0.1491 - val_accuracy: 0.9573\n",
            "Epoch 24/25\n",
            "1875/1875 [==============================] - 5s 3ms/step - loss: 0.1371 - accuracy: 0.9621 - val_loss: 0.1485 - val_accuracy: 0.9582\n",
            "Epoch 25/25\n",
            "1875/1875 [==============================] - 5s 3ms/step - loss: 0.1352 - accuracy: 0.9623 - val_loss: 0.1465 - val_accuracy: 0.9580\n"
          ]
        }
      ],
      "source": [
        "n_epochs = 25\n",
        "history = model.fit(X_train_scaled, y_train, epochs=n_epochs,\n",
        "                    validation_data=(X_valid_scaled, y_valid))"
      ],
      "id": "2e11b1cf"
    },
    {
      "cell_type": "code",
      "execution_count": null,
      "metadata": {
        "colab": {
          "base_uri": "https://localhost:8080/",
          "height": 302
        },
        "id": "7923309f",
        "outputId": "356ab0a1-52fb-4c36-817a-adde054385ee"
      },
      "outputs": [
        {
          "data": {
            "image/png": "[encoded data removed]",
            "text/plain": [
              "<Figure size 432x288 with 1 Axes>"
            ]
          },
          "metadata": {},
          "output_type": "display_data"
        }
      ],
      "source": [
        "import math\n",
        "\n",
        "learning_rate = 0.01\n",
        "decay = 1e-4\n",
        "batch_size = 32\n",
        "n_steps_per_epoch = math.ceil(len(X_train) / batch_size)\n",
        "epochs = np.arange(n_epochs)\n",
        "lrs = learning_rate / (1 + decay * epochs * n_steps_per_epoch)\n",
        "\n",
        "plt.plot(epochs, lrs,  \"o-\")\n",
        "plt.axis([0, n_epochs - 1, 0, 0.01])\n",
        "plt.xlabel(\"Epoch\")\n",
        "plt.ylabel(\"Learning Rate\")\n",
        "plt.title(\"Power Scheduling\", fontsize=14)\n",
        "plt.grid(True)\n",
        "plt.show()"
      ],
      "id": "7923309f"
    },
    {
      "cell_type": "markdown",
      "metadata": {
        "id": "f8b6321f"
      },
      "source": [
        "### 지수 기반 스케줄링"
      ],
      "id": "f8b6321f"
    },
    {
      "cell_type": "markdown",
      "metadata": {
        "id": "e9f53408"
      },
      "source": [
        "```lr = lr0 * 0.1**(epoch / s)```"
      ],
      "id": "e9f53408"
    },
    {
      "cell_type": "code",
      "execution_count": null,
      "metadata": {
        "id": "33cc902a"
      },
      "outputs": [],
      "source": [
        "def exponential_decay_fn(epoch):\n",
        "    return 0.01 * 0.1**(epoch / 20)"
      ],
      "id": "33cc902a"
    },
    {
      "cell_type": "code",
      "execution_count": null,
      "metadata": {
        "id": "0502d4a0"
      },
      "outputs": [],
      "source": [
        "def exponential_decay(lr0, s):\n",
        "    def exponential_decay_fn(epoch):\n",
        "        return lr0 * 0.1**(epoch / s)\n",
        "    return exponential_decay_fn\n",
        "\n",
        "exponential_decay_fn = exponential_decay(lr0=0.01, s=20)"
      ],
      "id": "0502d4a0"
    },
    {
      "cell_type": "code",
      "execution_count": null,
      "metadata": {
        "id": "51fd5066"
      },
      "outputs": [],
      "source": [
        "model = keras.models.Sequential([\n",
        "    keras.layers.Flatten(input_shape=[28, 28]),\n",
        "    keras.layers.Dense(300, activation=\"selu\", kernel_initializer=\"lecun_normal\"),\n",
        "    keras.layers.Dense(100, activation=\"selu\", kernel_initializer=\"lecun_normal\"),\n",
        "    keras.layers.Dense(10, activation=\"softmax\")\n",
        "])\n",
        "model.compile(loss=\"sparse_categorical_crossentropy\", optimizer=\"nadam\", metrics=[\"accuracy\"])\n",
        "n_epochs = 25"
      ],
      "id": "51fd5066"
    },
    {
      "cell_type": "code",
      "execution_count": null,
      "metadata": {
        "colab": {
          "base_uri": "https://localhost:8080/"
        },
        "id": "359412e2",
        "outputId": "b402b821-f0c0-46d2-8b6c-09f4c7bd7e1c"
      },
      "outputs": [
        {
          "name": "stdout",
          "output_type": "stream",
          "text": [
            "Epoch 1/25\n",
            "1875/1875 [==============================] - 8s 3ms/step - loss: 0.4310 - accuracy: 0.8924 - val_loss: 0.2540 - val_accuracy: 0.9452 - lr: 0.0100\n",
            "Epoch 2/25\n",
            "1875/1875 [==============================] - 6s 3ms/step - loss: 0.2343 - accuracy: 0.9460 - val_loss: 0.2484 - val_accuracy: 0.9433 - lr: 0.0089\n",
            "Epoch 3/25\n",
            "1875/1875 [==============================] - 10s 5ms/step - loss: 0.1805 - accuracy: 0.9582 - val_loss: 0.1450 - val_accuracy: 0.9663 - lr: 0.0079\n",
            "Epoch 4/25\n",
            "1875/1875 [==============================] - 6s 3ms/step - loss: 0.1464 - accuracy: 0.9665 - val_loss: 0.2204 - val_accuracy: 0.9590 - lr: 0.0071\n",
            "Epoch 5/25\n",
            "1875/1875 [==============================] - 6s 3ms/step - loss: 0.1284 - accuracy: 0.9718 - val_loss: 0.1523 - val_accuracy: 0.9689 - lr: 0.0063\n",
            "Epoch 6/25\n",
            "1875/1875 [==============================] - 6s 3ms/step - loss: 0.1098 - accuracy: 0.9761 - val_loss: 0.1863 - val_accuracy: 0.9720 - lr: 0.0056\n",
            "Epoch 7/25\n",
            "1875/1875 [==============================] - 6s 3ms/step - loss: 0.0866 - accuracy: 0.9806 - val_loss: 0.1641 - val_accuracy: 0.9743 - lr: 0.0050\n",
            "Epoch 8/25\n",
            "1875/1875 [==============================] - 6s 3ms/step - loss: 0.0777 - accuracy: 0.9829 - val_loss: 0.1492 - val_accuracy: 0.9743 - lr: 0.0045\n",
            "Epoch 9/25\n",
            "1875/1875 [==============================] - 6s 3ms/step - loss: 0.0606 - accuracy: 0.9864 - val_loss: 0.1809 - val_accuracy: 0.9731 - lr: 0.0040\n",
            "Epoch 10/25\n",
            "1875/1875 [==============================] - 7s 3ms/step - loss: 0.0467 - accuracy: 0.9891 - val_loss: 0.2143 - val_accuracy: 0.9697 - lr: 0.0035\n",
            "Epoch 11/25\n",
            "1875/1875 [==============================] - 6s 3ms/step - loss: 0.0403 - accuracy: 0.9903 - val_loss: 0.1691 - val_accuracy: 0.9774 - lr: 0.0032\n",
            "Epoch 12/25\n",
            "1875/1875 [==============================] - 6s 3ms/step - loss: 0.0332 - accuracy: 0.9922 - val_loss: 0.1965 - val_accuracy: 0.9758 - lr: 0.0028\n",
            "Epoch 13/25\n",
            "1875/1875 [==============================] - 7s 3ms/step - loss: 0.0270 - accuracy: 0.9934 - val_loss: 0.1946 - val_accuracy: 0.9770 - lr: 0.0025\n",
            "Epoch 14/25\n",
            "1875/1875 [==============================] - 7s 3ms/step - loss: 0.0198 - accuracy: 0.9951 - val_loss: 0.2248 - val_accuracy: 0.9769 - lr: 0.0022\n",
            "Epoch 15/25\n",
            "1875/1875 [==============================] - 7s 4ms/step - loss: 0.0193 - accuracy: 0.9950 - val_loss: 0.2179 - val_accuracy: 0.9789 - lr: 0.0020\n",
            "Epoch 16/25\n",
            "1875/1875 [==============================] - 7s 3ms/step - loss: 0.0139 - accuracy: 0.9961 - val_loss: 0.2359 - val_accuracy: 0.9786 - lr: 0.0018\n",
            "Epoch 17/25\n",
            "1875/1875 [==============================] - 6s 3ms/step - loss: 0.0109 - accuracy: 0.9969 - val_loss: 0.2259 - val_accuracy: 0.9796 - lr: 0.0016\n",
            "Epoch 18/25\n",
            "1875/1875 [==============================] - 6s 3ms/step - loss: 0.0099 - accuracy: 0.9972 - val_loss: 0.2597 - val_accuracy: 0.9795 - lr: 0.0014\n",
            "Epoch 19/25\n",
            "1875/1875 [==============================] - 6s 3ms/step - loss: 0.0074 - accuracy: 0.9978 - val_loss: 0.2343 - val_accuracy: 0.9806 - lr: 0.0013\n",
            "Epoch 20/25\n",
            "1875/1875 [==============================] - 6s 3ms/step - loss: 0.0067 - accuracy: 0.9980 - val_loss: 0.2659 - val_accuracy: 0.9804 - lr: 0.0011\n",
            "Epoch 21/25\n",
            "1875/1875 [==============================] - 7s 4ms/step - loss: 0.0069 - accuracy: 0.9980 - val_loss: 0.2861 - val_accuracy: 0.9793 - lr: 0.0010\n",
            "Epoch 22/25\n",
            "1875/1875 [==============================] - 6s 3ms/step - loss: 0.0056 - accuracy: 0.9984 - val_loss: 0.2629 - val_accuracy: 0.9812 - lr: 8.9125e-04\n",
            "Epoch 23/25\n",
            "1875/1875 [==============================] - 6s 3ms/step - loss: 0.0041 - accuracy: 0.9987 - val_loss: 0.2590 - val_accuracy: 0.9817 - lr: 7.9433e-04\n",
            "Epoch 24/25\n",
            "1875/1875 [==============================] - 6s 3ms/step - loss: 0.0038 - accuracy: 0.9987 - val_loss: 0.2520 - val_accuracy: 0.9806 - lr: 7.0795e-04\n",
            "Epoch 25/25\n",
            "1875/1875 [==============================] - 7s 4ms/step - loss: 0.0037 - accuracy: 0.9988 - val_loss: 0.2689 - val_accuracy: 0.9812 - lr: 6.3096e-04\n"
          ]
        }
      ],
      "source": [
        "lr_scheduler = keras.callbacks.LearningRateScheduler(exponential_decay_fn)\n",
        "history = model.fit(X_train_scaled, y_train, epochs=n_epochs,\n",
        "                    validation_data=(X_valid_scaled, y_valid),\n",
        "                    callbacks=[lr_scheduler])"
      ],
      "id": "359412e2"
    },
    {
      "cell_type": "code",
      "execution_count": null,
      "metadata": {
        "colab": {
          "base_uri": "https://localhost:8080/",
          "height": 302
        },
        "id": "b332c6b7",
        "outputId": "36d20aba-c4a2-4f42-d994-1fd0bea47423"
      },
      "outputs": [
        {
          "data": {
            "image/png": "[encoded data removed]",
            "text/plain": [
              "<Figure size 432x288 with 1 Axes>"
            ]
          },
          "metadata": {},
          "output_type": "display_data"
        }
      ],
      "source": [
        "plt.plot(history.epoch, history.history[\"lr\"], \"o-\")\n",
        "plt.axis([0, n_epochs - 1, 0, 0.011])\n",
        "plt.xlabel(\"Epoch\")\n",
        "plt.ylabel(\"Learning Rate\")\n",
        "plt.title(\"Exponential Scheduling\", fontsize=14)\n",
        "plt.grid(True)\n",
        "plt.show()"
      ],
      "id": "b332c6b7"
    },
    {
      "cell_type": "markdown",
      "metadata": {
        "id": "1e8f6dee"
      },
      "source": [
        "이 스케줄 함수는 두 번째 매개변수로 현재 학습률을 받을 수 있습니다:"
      ],
      "id": "1e8f6dee"
    },
    {
      "cell_type": "code",
      "execution_count": null,
      "metadata": {
        "id": "a0deabfa"
      },
      "outputs": [],
      "source": [
        "def exponential_decay_fn(epoch, lr):\n",
        "    return lr * 0.1**(1 / 20)"
      ],
      "id": "a0deabfa"
    },
    {
      "cell_type": "markdown",
      "metadata": {
        "id": "4e9a727c"
      },
      "source": [
        "에포크가 아니라 반복마다 학습률을 업데이트하려면 사용자 정의 콜백 클래스를 작성해야 합니다:"
      ],
      "id": "4e9a727c"
    },
    {
      "cell_type": "code",
      "execution_count": null,
      "metadata": {
        "colab": {
          "base_uri": "https://localhost:8080/"
        },
        "id": "cbe59eb1",
        "outputId": "652efe8d-eabf-43e0-8ab9-2b05a11b6819"
      },
      "outputs": [
        {
          "name": "stdout",
          "output_type": "stream",
          "text": [
            "Epoch 1/25\n",
            "1875/1875 [==============================] - 9s 4ms/step - loss: 0.4147 - accuracy: 0.8941 - val_loss: 0.3989 - val_accuracy: 0.8941 - lr: 0.0089\n",
            "Epoch 2/25\n",
            "1875/1875 [==============================] - 8s 4ms/step - loss: 0.2340 - accuracy: 0.9439 - val_loss: 0.2056 - val_accuracy: 0.9567 - lr: 0.0079\n",
            "Epoch 3/25\n",
            "1875/1875 [==============================] - 8s 4ms/step - loss: 0.1753 - accuracy: 0.9585 - val_loss: 0.1515 - val_accuracy: 0.9663 - lr: 0.0071\n",
            "Epoch 4/25\n",
            "1875/1875 [==============================] - 9s 5ms/step - loss: 0.1502 - accuracy: 0.9656 - val_loss: 0.1491 - val_accuracy: 0.9648 - lr: 0.0063\n",
            "Epoch 5/25\n",
            "1875/1875 [==============================] - 8s 4ms/step - loss: 0.1148 - accuracy: 0.9732 - val_loss: 0.2015 - val_accuracy: 0.9567 - lr: 0.0056\n",
            "Epoch 6/25\n",
            "1875/1875 [==============================] - 8s 4ms/step - loss: 0.1031 - accuracy: 0.9766 - val_loss: 0.1634 - val_accuracy: 0.9708 - lr: 0.0050\n",
            "Epoch 7/25\n",
            "1875/1875 [==============================] - 8s 4ms/step - loss: 0.0865 - accuracy: 0.9806 - val_loss: 0.1632 - val_accuracy: 0.9736 - lr: 0.0045\n",
            "Epoch 8/25\n",
            "1875/1875 [==============================] - 8s 4ms/step - loss: 0.0700 - accuracy: 0.9837 - val_loss: 0.1653 - val_accuracy: 0.9748 - lr: 0.0040\n",
            "Epoch 9/25\n",
            "1875/1875 [==============================] - 8s 4ms/step - loss: 0.0537 - accuracy: 0.9879 - val_loss: 0.1443 - val_accuracy: 0.9789 - lr: 0.0035\n",
            "Epoch 10/25\n",
            "1875/1875 [==============================] - 8s 4ms/step - loss: 0.0442 - accuracy: 0.9895 - val_loss: 0.1739 - val_accuracy: 0.9753 - lr: 0.0032\n",
            "Epoch 11/25\n",
            "1875/1875 [==============================] - 8s 4ms/step - loss: 0.0422 - accuracy: 0.9901 - val_loss: 0.1916 - val_accuracy: 0.9774 - lr: 0.0028\n",
            "Epoch 12/25\n",
            "1875/1875 [==============================] - 8s 5ms/step - loss: 0.0298 - accuracy: 0.9929 - val_loss: 0.1919 - val_accuracy: 0.9786 - lr: 0.0025\n",
            "Epoch 13/25\n",
            "1875/1875 [==============================] - 8s 4ms/step - loss: 0.0218 - accuracy: 0.9944 - val_loss: 0.1793 - val_accuracy: 0.9790 - lr: 0.0022\n",
            "Epoch 14/25\n",
            "1875/1875 [==============================] - 8s 4ms/step - loss: 0.0200 - accuracy: 0.9949 - val_loss: 0.2000 - val_accuracy: 0.9790 - lr: 0.0020\n",
            "Epoch 15/25\n",
            "1875/1875 [==============================] - 8s 5ms/step - loss: 0.0172 - accuracy: 0.9957 - val_loss: 0.1661 - val_accuracy: 0.9802 - lr: 0.0018\n",
            "Epoch 16/25\n",
            "1875/1875 [==============================] - 8s 4ms/step - loss: 0.0112 - accuracy: 0.9969 - val_loss: 0.1887 - val_accuracy: 0.9805 - lr: 0.0016\n",
            "Epoch 17/25\n",
            "1875/1875 [==============================] - 8s 4ms/step - loss: 0.0114 - accuracy: 0.9969 - val_loss: 0.1979 - val_accuracy: 0.9788 - lr: 0.0014\n",
            "Epoch 18/25\n",
            "1875/1875 [==============================] - 9s 5ms/step - loss: 0.0082 - accuracy: 0.9975 - val_loss: 0.1995 - val_accuracy: 0.9794 - lr: 0.0013\n",
            "Epoch 19/25\n",
            "1875/1875 [==============================] - 8s 4ms/step - loss: 0.0074 - accuracy: 0.9978 - val_loss: 0.2025 - val_accuracy: 0.9820 - lr: 0.0011\n",
            "Epoch 20/25\n",
            "1875/1875 [==============================] - 8s 5ms/step - loss: 0.0047 - accuracy: 0.9986 - val_loss: 0.2145 - val_accuracy: 0.9815 - lr: 0.0010\n",
            "Epoch 21/25\n",
            "1875/1875 [==============================] - 8s 4ms/step - loss: 0.0044 - accuracy: 0.9987 - val_loss: 0.2066 - val_accuracy: 0.9822 - lr: 8.9125e-04\n",
            "Epoch 22/25\n",
            "1875/1875 [==============================] - 8s 4ms/step - loss: 0.0042 - accuracy: 0.9988 - val_loss: 0.2115 - val_accuracy: 0.9836 - lr: 7.9433e-04\n",
            "Epoch 23/25\n",
            "1875/1875 [==============================] - 8s 4ms/step - loss: 0.0034 - accuracy: 0.9989 - val_loss: 0.2213 - val_accuracy: 0.9829 - lr: 7.0795e-04\n",
            "Epoch 24/25\n",
            "1875/1875 [==============================] - 8s 4ms/step - loss: 0.0028 - accuracy: 0.9991 - val_loss: 0.2213 - val_accuracy: 0.9821 - lr: 6.3096e-04\n",
            "Epoch 25/25\n",
            "1875/1875 [==============================] - 8s 4ms/step - loss: 0.0024 - accuracy: 0.9992 - val_loss: 0.2345 - val_accuracy: 0.9809 - lr: 5.6234e-04\n"
          ]
        }
      ],
      "source": [
        "K = keras.backend\n",
        "\n",
        "class ExponentialDecay(keras.callbacks.Callback):\n",
        "    def __init__(self, s=40000):\n",
        "        super().__init__()\n",
        "        self.s = s\n",
        "\n",
        "    def on_batch_begin(self, batch, logs=None):\n",
        "        # 노트: 에포크마다 `batch` 매개변수가 재설정됩니다\n",
        "        lr = K.get_value(self.model.optimizer.lr)\n",
        "        K.set_value(self.model.optimizer.lr, lr * 0.1**(1 / s))\n",
        "\n",
        "    def on_epoch_end(self, epoch, logs=None):\n",
        "        logs = logs or {}\n",
        "        logs['lr'] = K.get_value(self.model.optimizer.lr)\n",
        "\n",
        "model = keras.models.Sequential([\n",
        "    keras.layers.Flatten(input_shape=[28, 28]),\n",
        "    keras.layers.Dense(300, activation=\"selu\", kernel_initializer=\"lecun_normal\"),\n",
        "    keras.layers.Dense(100, activation=\"selu\", kernel_initializer=\"lecun_normal\"),\n",
        "    keras.layers.Dense(10, activation=\"softmax\")\n",
        "])\n",
        "lr0 = 0.01\n",
        "optimizer = keras.optimizers.Nadam(learning_rate=lr0)\n",
        "model.compile(loss=\"sparse_categorical_crossentropy\", optimizer=optimizer, metrics=[\"accuracy\"])\n",
        "n_epochs = 25\n",
        "\n",
        "s = 20 * len(X_train) // 32 # 20 에포크 동안 스텝 횟수 (배치 크기 = 32)\n",
        "exp_decay = ExponentialDecay(s)\n",
        "history = model.fit(X_train_scaled, y_train, epochs=n_epochs,\n",
        "                    validation_data=(X_valid_scaled, y_valid),\n",
        "                    callbacks=[exp_decay])"
      ],
      "id": "cbe59eb1"
    },
    {
      "cell_type": "code",
      "execution_count": null,
      "metadata": {
        "id": "50c79aa8"
      },
      "outputs": [],
      "source": [
        "n_steps = n_epochs * len(X_train) // 32\n",
        "steps = np.arange(n_steps)\n",
        "lrs = lr0 * 0.1**(steps / s)"
      ],
      "id": "50c79aa8"
    },
    {
      "cell_type": "code",
      "execution_count": null,
      "metadata": {
        "colab": {
          "base_uri": "https://localhost:8080/",
          "height": 302
        },
        "id": "7d141614",
        "outputId": "2f664c2b-30dd-456f-b8bb-4b5759ede3a0",
        "scrolled": true
      },
      "outputs": [
        {
          "data": {
            "image/png": "[encoded data removed]",
            "text/plain": [
              "<Figure size 432x288 with 1 Axes>"
            ]
          },
          "metadata": {},
          "output_type": "display_data"
        }
      ],
      "source": [
        "plt.plot(steps, lrs, \"-\", linewidth=2)\n",
        "plt.axis([0, n_steps - 1, 0, lr0 * 1.1])\n",
        "plt.xlabel(\"Batch\")\n",
        "plt.ylabel(\"Learning Rate\")\n",
        "plt.title(\"Exponential Scheduling (per batch)\", fontsize=14)\n",
        "plt.grid(True)\n",
        "plt.show()"
      ],
      "id": "7d141614"
    },
    {
      "cell_type": "markdown",
      "metadata": {
        "id": "1497740d"
      },
      "source": [
        "### 기간별 고정 스케줄링"
      ],
      "id": "1497740d"
    },
    {
      "cell_type": "code",
      "execution_count": null,
      "metadata": {
        "id": "3866e87a"
      },
      "outputs": [],
      "source": [
        "def piecewise_constant_fn(epoch):\n",
        "    if epoch < 5:\n",
        "        return 0.01\n",
        "    elif epoch < 15:\n",
        "        return 0.005\n",
        "    else:\n",
        "        return 0.001"
      ],
      "id": "3866e87a"
    },
    {
      "cell_type": "code",
      "execution_count": null,
      "metadata": {
        "id": "2db9f1ec"
      },
      "outputs": [],
      "source": [
        "def piecewise_constant(boundaries, values):\n",
        "    boundaries = np.array([0] + boundaries)\n",
        "    values = np.array(values)\n",
        "    def piecewise_constant_fn(epoch):\n",
        "        return values[np.argmax(boundaries > epoch) - 1]\n",
        "    return piecewise_constant_fn\n",
        "\n",
        "piecewise_constant_fn = piecewise_constant([5, 15], [0.01, 0.005, 0.001])"
      ],
      "id": "2db9f1ec"
    },
    {
      "cell_type": "code",
      "execution_count": null,
      "metadata": {
        "colab": {
          "background_save": true,
          "base_uri": "https://localhost:8080/"
        },
        "id": "c57664bc",
        "outputId": "9de02b61-6307-41d4-fda6-c7afa25a412e"
      },
      "outputs": [
        {
          "name": "stdout",
          "output_type": "stream",
          "text": [
            "Epoch 1/25\n",
            "1875/1875 [==============================] - 7s 3ms/step - loss: 0.4371 - accuracy: 0.8916 - val_loss: 0.2888 - val_accuracy: 0.9267 - lr: 0.0100\n",
            "Epoch 2/25\n",
            "1875/1875 [==============================] - 6s 3ms/step - loss: 0.2733 - accuracy: 0.9376 - val_loss: 0.2623 - val_accuracy: 0.9468 - lr: 0.0100\n",
            "Epoch 3/25\n",
            "1875/1875 [==============================] - 6s 3ms/step - loss: 0.2204 - accuracy: 0.9528 - val_loss: 0.2656 - val_accuracy: 0.9506 - lr: 0.0100\n",
            "Epoch 4/25\n",
            "1875/1875 [==============================] - 6s 3ms/step - loss: 0.2077 - accuracy: 0.9576 - val_loss: 0.1938 - val_accuracy: 0.9612 - lr: 0.0100\n",
            "Epoch 5/25\n",
            "1875/1875 [==============================] - 6s 3ms/step - loss: 0.1957 - accuracy: 0.9614 - val_loss: 0.2725 - val_accuracy: 0.9527 - lr: 0.0100\n",
            "Epoch 6/25\n",
            "1875/1875 [==============================] - 7s 3ms/step - loss: 0.0891 - accuracy: 0.9788 - val_loss: 0.1653 - val_accuracy: 0.9669 - lr: 0.0050\n",
            "Epoch 7/25\n",
            "1875/1875 [==============================] - 6s 3ms/step - loss: 0.0879 - accuracy: 0.9803 - val_loss: 0.1614 - val_accuracy: 0.9705 - lr: 0.0050\n",
            "Epoch 8/25\n",
            "1875/1875 [==============================] - 6s 3ms/step - loss: 0.0795 - accuracy: 0.9828 - val_loss: 0.1741 - val_accuracy: 0.9695 - lr: 0.0050\n",
            "Epoch 9/25\n",
            "1875/1875 [==============================] - 7s 3ms/step - loss: 0.0729 - accuracy: 0.9849 - val_loss: 0.2049 - val_accuracy: 0.9693 - lr: 0.0050\n",
            "Epoch 10/25\n",
            "1875/1875 [==============================] - 6s 3ms/step - loss: 0.0769 - accuracy: 0.9843 - val_loss: 0.2108 - val_accuracy: 0.9742 - lr: 0.0050\n",
            "Epoch 11/25\n",
            "1875/1875 [==============================] - 6s 3ms/step - loss: 0.0660 - accuracy: 0.9865 - val_loss: 0.2065 - val_accuracy: 0.9776 - lr: 0.0050\n",
            "Epoch 12/25\n",
            "1875/1875 [==============================] - 6s 3ms/step - loss: 0.0732 - accuracy: 0.9865 - val_loss: 0.2330 - val_accuracy: 0.9721 - lr: 0.0050\n",
            "Epoch 13/25\n",
            "1875/1875 [==============================] - 6s 3ms/step - loss: 0.0651 - accuracy: 0.9876 - val_loss: 0.3105 - val_accuracy: 0.9642 - lr: 0.0050\n",
            "Epoch 14/25\n",
            "1875/1875 [==============================] - 7s 4ms/step - loss: 0.0572 - accuracy: 0.9888 - val_loss: 0.2923 - val_accuracy: 0.9679 - lr: 0.0050\n",
            "Epoch 15/25\n",
            "1875/1875 [==============================] - 6s 3ms/step - loss: 0.0647 - accuracy: 0.9881 - val_loss: 0.2418 - val_accuracy: 0.9752 - lr: 0.0050\n",
            "Epoch 16/25\n",
            "1875/1875 [==============================] - 6s 3ms/step - loss: 0.0247 - accuracy: 0.9937 - val_loss: 0.1799 - val_accuracy: 0.9790 - lr: 0.0010\n",
            "Epoch 17/25\n",
            "1875/1875 [==============================] - 6s 3ms/step - loss: 0.0147 - accuracy: 0.9955 - val_loss: 0.1806 - val_accuracy: 0.9794 - lr: 0.0010\n",
            "Epoch 18/25\n",
            "1875/1875 [==============================] - 6s 3ms/step - loss: 0.0118 - accuracy: 0.9963 - val_loss: 0.1942 - val_accuracy: 0.9814 - lr: 0.0010\n",
            "Epoch 19/25\n",
            "1875/1875 [==============================] - 6s 3ms/step - loss: 0.0113 - accuracy: 0.9966 - val_loss: 0.2006 - val_accuracy: 0.9804 - lr: 0.0010\n",
            "Epoch 20/25\n",
            "1875/1875 [==============================] - 7s 3ms/step - loss: 0.0099 - accuracy: 0.9968 - val_loss: 0.1986 - val_accuracy: 0.9813 - lr: 0.0010\n",
            "Epoch 21/25\n",
            "1875/1875 [==============================] - 6s 3ms/step - loss: 0.0090 - accuracy: 0.9970 - val_loss: 0.1901 - val_accuracy: 0.9817 - lr: 0.0010\n",
            "Epoch 22/25\n",
            "1875/1875 [==============================] - 6s 3ms/step - loss: 0.0089 - accuracy: 0.9972 - val_loss: 0.2104 - val_accuracy: 0.9804 - lr: 0.0010\n",
            "Epoch 23/25\n",
            "1875/1875 [==============================] - 7s 3ms/step - loss: 0.0083 - accuracy: 0.9973 - val_loss: 0.2025 - val_accuracy: 0.9814 - lr: 0.0010\n",
            "Epoch 24/25\n",
            "1875/1875 [==============================] - 7s 3ms/step - loss: 0.0078 - accuracy: 0.9974 - val_loss: 0.2053 - val_accuracy: 0.9826 - lr: 0.0010\n",
            "Epoch 25/25\n",
            "1875/1875 [==============================] - 7s 3ms/step - loss: 0.0089 - accuracy: 0.9971 - val_loss: 0.2316 - val_accuracy: 0.9790 - lr: 0.0010\n"
          ]
        }
      ],
      "source": [
        "lr_scheduler = keras.callbacks.LearningRateScheduler(piecewise_constant_fn)\n",
        "\n",
        "model = keras.models.Sequential([\n",
        "    keras.layers.Flatten(input_shape=[28, 28]),\n",
        "    keras.layers.Dense(300, activation=\"selu\", kernel_initializer=\"lecun_normal\"),\n",
        "    keras.layers.Dense(100, activation=\"selu\", kernel_initializer=\"lecun_normal\"),\n",
        "    keras.layers.Dense(10, activation=\"softmax\")\n",
        "])\n",
        "model.compile(loss=\"sparse_categorical_crossentropy\", optimizer=\"nadam\", metrics=[\"accuracy\"])\n",
        "n_epochs = 25\n",
        "history = model.fit(X_train_scaled, y_train, epochs=n_epochs,\n",
        "                    validation_data=(X_valid_scaled, y_valid),\n",
        "                    callbacks=[lr_scheduler])"
      ],
      "id": "c57664bc"
    },
    {
      "cell_type": "code",
      "execution_count": null,
      "metadata": {
        "colab": {
          "background_save": true
        },
        "id": "be5f9a08",
        "outputId": "ba141060-1453-442d-fefc-96d6e2bac33d"
      },
      "outputs": [
        {
          "data": {
            "image/png": "[encoded data removed]",
            "text/plain": [
              "<Figure size 432x288 with 1 Axes>"
            ]
          },
          "metadata": {},
          "output_type": "display_data"
        }
      ],
      "source": [
        "plt.plot(history.epoch, [piecewise_constant_fn(epoch) for epoch in history.epoch], \"o-\")\n",
        "plt.axis([0, n_epochs - 1, 0, 0.011])\n",
        "plt.xlabel(\"Epoch\")\n",
        "plt.ylabel(\"Learning Rate\")\n",
        "plt.title(\"Piecewise Constant Scheduling\", fontsize=14)\n",
        "plt.grid(True)\n",
        "plt.show()"
      ],
      "id": "be5f9a08"
    },
    {
      "cell_type": "markdown",
      "metadata": {
        "id": "34442fd7"
      },
      "source": [
        "### 성능 기반 스케줄링"
      ],
      "id": "34442fd7"
    },
    {
      "cell_type": "code",
      "execution_count": null,
      "metadata": {
        "colab": {
          "background_save": true
        },
        "id": "bc141ae3"
      },
      "outputs": [],
      "source": [
        "tf.random.set_seed(42)\n",
        "np.random.seed(42)"
      ],
      "id": "bc141ae3"
    },
    {
      "cell_type": "code",
      "execution_count": null,
      "metadata": {
        "colab": {
          "background_save": true
        },
        "id": "36228807",
        "outputId": "00611460-674c-4c5e-e81a-a4f4034053b3"
      },
      "outputs": [
        {
          "name": "stdout",
          "output_type": "stream",
          "text": [
            "Epoch 1/25\n",
            "1875/1875 [==============================] - 5s 3ms/step - loss: 0.2703 - accuracy: 0.9192 - val_loss: 0.1813 - val_accuracy: 0.9468 - lr: 0.0200\n",
            "Epoch 2/25\n",
            "1875/1875 [==============================] - 5s 3ms/step - loss: 0.1480 - accuracy: 0.9553 - val_loss: 0.1605 - val_accuracy: 0.9529 - lr: 0.0200\n",
            "Epoch 3/25\n",
            "1875/1875 [==============================] - 5s 3ms/step - loss: 0.1162 - accuracy: 0.9654 - val_loss: 0.1128 - val_accuracy: 0.9675 - lr: 0.0200\n",
            "Epoch 4/25\n",
            "1875/1875 [==============================] - 5s 3ms/step - loss: 0.1023 - accuracy: 0.9694 - val_loss: 0.1345 - val_accuracy: 0.9625 - lr: 0.0200\n",
            "Epoch 5/25\n",
            "1875/1875 [==============================] - 5s 3ms/step - loss: 0.0922 - accuracy: 0.9732 - val_loss: 0.1223 - val_accuracy: 0.9657 - lr: 0.0200\n",
            "Epoch 6/25\n",
            "1875/1875 [==============================] - 5s 3ms/step - loss: 0.0815 - accuracy: 0.9758 - val_loss: 0.1341 - val_accuracy: 0.9690 - lr: 0.0200\n",
            "Epoch 7/25\n",
            "1875/1875 [==============================] - 5s 3ms/step - loss: 0.0768 - accuracy: 0.9780 - val_loss: 0.1234 - val_accuracy: 0.9695 - lr: 0.0200\n",
            "Epoch 8/25\n",
            "1875/1875 [==============================] - 5s 3ms/step - loss: 0.0711 - accuracy: 0.9803 - val_loss: 0.1812 - val_accuracy: 0.9576 - lr: 0.0200\n",
            "Epoch 9/25\n",
            "1875/1875 [==============================] - 5s 3ms/step - loss: 0.0263 - accuracy: 0.9915 - val_loss: 0.0801 - val_accuracy: 0.9797 - lr: 0.0100\n",
            "Epoch 10/25\n",
            "1875/1875 [==============================] - 5s 3ms/step - loss: 0.0142 - accuracy: 0.9953 - val_loss: 0.0814 - val_accuracy: 0.9801 - lr: 0.0100\n",
            "Epoch 11/25\n",
            "1875/1875 [==============================] - 5s 3ms/step - loss: 0.0090 - accuracy: 0.9974 - val_loss: 0.0790 - val_accuracy: 0.9813 - lr: 0.0100\n",
            "Epoch 12/25\n",
            "1875/1875 [==============================] - 5s 3ms/step - loss: 0.0065 - accuracy: 0.9980 - val_loss: 0.0787 - val_accuracy: 0.9818 - lr: 0.0100\n",
            "Epoch 13/25\n",
            "1875/1875 [==============================] - 5s 3ms/step - loss: 0.0044 - accuracy: 0.9989 - val_loss: 0.0723 - val_accuracy: 0.9822 - lr: 0.0100\n",
            "Epoch 14/25\n",
            "1875/1875 [==============================] - 5s 3ms/step - loss: 0.0027 - accuracy: 0.9996 - val_loss: 0.0782 - val_accuracy: 0.9833 - lr: 0.0100\n",
            "Epoch 15/25\n",
            "1875/1875 [==============================] - 5s 3ms/step - loss: 0.0020 - accuracy: 0.9998 - val_loss: 0.0788 - val_accuracy: 0.9822 - lr: 0.0100\n",
            "Epoch 16/25\n",
            "1875/1875 [==============================] - 5s 3ms/step - loss: 0.0016 - accuracy: 0.9998 - val_loss: 0.0786 - val_accuracy: 0.9834 - lr: 0.0100\n",
            "Epoch 17/25\n",
            "1875/1875 [==============================] - 5s 3ms/step - loss: 0.0012 - accuracy: 0.9999 - val_loss: 0.0784 - val_accuracy: 0.9842 - lr: 0.0100\n",
            "Epoch 18/25\n",
            "1875/1875 [==============================] - 5s 3ms/step - loss: 9.2148e-04 - accuracy: 1.0000 - val_loss: 0.0802 - val_accuracy: 0.9839 - lr: 0.0100\n",
            "Epoch 19/25\n",
            "1875/1875 [==============================] - 5s 3ms/step - loss: 7.3353e-04 - accuracy: 1.0000 - val_loss: 0.0792 - val_accuracy: 0.9846 - lr: 0.0050\n",
            "Epoch 20/25\n",
            "1875/1875 [==============================] - 5s 3ms/step - loss: 6.5229e-04 - accuracy: 1.0000 - val_loss: 0.0789 - val_accuracy: 0.9846 - lr: 0.0050\n",
            "Epoch 21/25\n",
            "1875/1875 [==============================] - 5s 3ms/step - loss: 6.2054e-04 - accuracy: 1.0000 - val_loss: 0.0793 - val_accuracy: 0.9845 - lr: 0.0050\n",
            "Epoch 22/25\n",
            "1875/1875 [==============================] - 5s 3ms/step - loss: 5.9159e-04 - accuracy: 1.0000 - val_loss: 0.0798 - val_accuracy: 0.9846 - lr: 0.0050\n",
            "Epoch 23/25\n",
            "1875/1875 [==============================] - 5s 3ms/step - loss: 5.6730e-04 - accuracy: 1.0000 - val_loss: 0.0801 - val_accuracy: 0.9844 - lr: 0.0050\n",
            "Epoch 24/25\n",
            "1875/1875 [==============================] - 5s 3ms/step - loss: 5.3131e-04 - accuracy: 1.0000 - val_loss: 0.0804 - val_accuracy: 0.9846 - lr: 0.0025\n",
            "Epoch 25/25\n",
            "1875/1875 [==============================] - 5s 3ms/step - loss: 5.1920e-04 - accuracy: 1.0000 - val_loss: 0.0806 - val_accuracy: 0.9846 - lr: 0.0025\n"
          ]
        }
      ],
      "source": [
        "lr_scheduler = keras.callbacks.ReduceLROnPlateau(factor=0.5, patience=5)\n",
        "\n",
        "model = keras.models.Sequential([\n",
        "    keras.layers.Flatten(input_shape=[28, 28]),\n",
        "    keras.layers.Dense(300, activation=\"selu\", kernel_initializer=\"lecun_normal\"),\n",
        "    keras.layers.Dense(100, activation=\"selu\", kernel_initializer=\"lecun_normal\"),\n",
        "    keras.layers.Dense(10, activation=\"softmax\")\n",
        "])\n",
        "optimizer = keras.optimizers.SGD(learning_rate=0.02, momentum=0.9)\n",
        "model.compile(loss=\"sparse_categorical_crossentropy\", optimizer=optimizer, metrics=[\"accuracy\"])\n",
        "n_epochs = 25\n",
        "history = model.fit(X_train_scaled, y_train, epochs=n_epochs,\n",
        "                    validation_data=(X_valid_scaled, y_valid),\n",
        "                    callbacks=[lr_scheduler])"
      ],
      "id": "36228807"
    },
    {
      "cell_type": "code",
      "execution_count": null,
      "metadata": {
        "colab": {
          "background_save": true
        },
        "id": "0958da34",
        "outputId": "dc14cd6c-64a6-40c9-cbe5-c593b54cc50b"
      },
      "outputs": [
        {
          "data": {
            "image/png": "[encoded data removed]",
            "text/plain": [
              "<Figure size 432x288 with 2 Axes>"
            ]
          },
          "metadata": {},
          "output_type": "display_data"
        }
      ],
      "source": [
        "plt.plot(history.epoch, history.history[\"lr\"], \"bo-\")\n",
        "plt.xlabel(\"Epoch\")\n",
        "plt.ylabel(\"Learning Rate\", color='b')\n",
        "plt.tick_params('y', colors='b')\n",
        "plt.gca().set_xlim(0, n_epochs - 1)\n",
        "plt.grid(True)\n",
        "\n",
        "ax2 = plt.gca().twinx()\n",
        "ax2.plot(history.epoch, history.history[\"val_loss\"], \"r^-\")\n",
        "ax2.set_ylabel('Validation Loss', color='r')\n",
        "ax2.tick_params('y', colors='r')\n",
        "\n",
        "plt.title(\"Reduce LR on Plateau\", fontsize=14)\n",
        "plt.show()"
      ],
      "id": "0958da34"
    },
    {
      "cell_type": "markdown",
      "metadata": {
        "id": "a6b9f808"
      },
      "source": [
        "### tf.keras 스케줄러"
      ],
      "id": "a6b9f808"
    },
    {
      "cell_type": "code",
      "execution_count": null,
      "metadata": {
        "colab": {
          "background_save": true
        },
        "id": "a7c7404f",
        "outputId": "7b44b605-be4f-4573-9415-bad5c3a15c7b"
      },
      "outputs": [
        {
          "name": "stdout",
          "output_type": "stream",
          "text": [
            "Epoch 1/25\n",
            "1875/1875 [==============================] - 5s 3ms/step - loss: 0.4454 - accuracy: 0.8770 - val_loss: 0.3033 - val_accuracy: 0.9126\n",
            "Epoch 2/25\n",
            "1875/1875 [==============================] - 5s 2ms/step - loss: 0.2927 - accuracy: 0.9165 - val_loss: 0.2725 - val_accuracy: 0.9218\n",
            "Epoch 3/25\n",
            "1875/1875 [==============================] - 5s 2ms/step - loss: 0.2632 - accuracy: 0.9255 - val_loss: 0.2484 - val_accuracy: 0.9262\n",
            "Epoch 4/25\n",
            "1875/1875 [==============================] - 5s 3ms/step - loss: 0.2432 - accuracy: 0.9304 - val_loss: 0.2363 - val_accuracy: 0.9297\n",
            "Epoch 5/25\n",
            "1875/1875 [==============================] - 5s 3ms/step - loss: 0.2270 - accuracy: 0.9350 - val_loss: 0.2242 - val_accuracy: 0.9355\n",
            "Epoch 6/25\n",
            "1875/1875 [==============================] - 5s 3ms/step - loss: 0.2136 - accuracy: 0.9395 - val_loss: 0.2103 - val_accuracy: 0.9385\n",
            "Epoch 7/25\n",
            "1875/1875 [==============================] - 5s 3ms/step - loss: 0.2024 - accuracy: 0.9427 - val_loss: 0.2045 - val_accuracy: 0.9390\n",
            "Epoch 8/25\n",
            "1875/1875 [==============================] - 5s 3ms/step - loss: 0.1931 - accuracy: 0.9451 - val_loss: 0.1961 - val_accuracy: 0.9420\n",
            "Epoch 9/25\n",
            "1875/1875 [==============================] - 5s 3ms/step - loss: 0.1852 - accuracy: 0.9476 - val_loss: 0.1902 - val_accuracy: 0.9443\n",
            "Epoch 10/25\n",
            "1875/1875 [==============================] - 5s 3ms/step - loss: 0.1786 - accuracy: 0.9498 - val_loss: 0.1846 - val_accuracy: 0.9458\n",
            "Epoch 11/25\n",
            "1875/1875 [==============================] - 5s 3ms/step - loss: 0.1730 - accuracy: 0.9514 - val_loss: 0.1784 - val_accuracy: 0.9471\n",
            "Epoch 12/25\n",
            "1875/1875 [==============================] - 5s 3ms/step - loss: 0.1682 - accuracy: 0.9529 - val_loss: 0.1784 - val_accuracy: 0.9477\n",
            "Epoch 13/25\n",
            "1875/1875 [==============================] - 5s 3ms/step - loss: 0.1641 - accuracy: 0.9541 - val_loss: 0.1724 - val_accuracy: 0.9488\n",
            "Epoch 14/25\n",
            "1875/1875 [==============================] - 5s 3ms/step - loss: 0.1607 - accuracy: 0.9548 - val_loss: 0.1704 - val_accuracy: 0.9492\n",
            "Epoch 15/25\n",
            "1875/1875 [==============================] - 5s 3ms/step - loss: 0.1575 - accuracy: 0.9558 - val_loss: 0.1677 - val_accuracy: 0.9505\n",
            "Epoch 16/25\n",
            "1875/1875 [==============================] - 5s 3ms/step - loss: 0.1550 - accuracy: 0.9563 - val_loss: 0.1655 - val_accuracy: 0.9520\n",
            "Epoch 17/25\n",
            "1875/1875 [==============================] - 5s 3ms/step - loss: 0.1528 - accuracy: 0.9570 - val_loss: 0.1641 - val_accuracy: 0.9519\n",
            "Epoch 18/25\n",
            "1875/1875 [==============================] - 5s 3ms/step - loss: 0.1507 - accuracy: 0.9576 - val_loss: 0.1628 - val_accuracy: 0.9518\n",
            "Epoch 19/25\n",
            "1875/1875 [==============================] - 5s 3ms/step - loss: 0.1491 - accuracy: 0.9579 - val_loss: 0.1605 - val_accuracy: 0.9528\n",
            "Epoch 20/25\n",
            "1875/1875 [==============================] - 5s 3ms/step - loss: 0.1475 - accuracy: 0.9582 - val_loss: 0.1594 - val_accuracy: 0.9538\n",
            "Epoch 21/25\n",
            "1875/1875 [==============================] - 5s 3ms/step - loss: 0.1461 - accuracy: 0.9589 - val_loss: 0.1591 - val_accuracy: 0.9531\n",
            "Epoch 22/25\n",
            "1875/1875 [==============================] - 5s 3ms/step - loss: 0.1450 - accuracy: 0.9591 - val_loss: 0.1581 - val_accuracy: 0.9534\n",
            "Epoch 23/25\n",
            "1875/1875 [==============================] - 5s 3ms/step - loss: 0.1440 - accuracy: 0.9595 - val_loss: 0.1571 - val_accuracy: 0.9533\n",
            "Epoch 24/25\n",
            "1875/1875 [==============================] - 5s 3ms/step - loss: 0.1431 - accuracy: 0.9597 - val_loss: 0.1564 - val_accuracy: 0.9534\n",
            "Epoch 25/25\n",
            "1875/1875 [==============================] - 5s 3ms/step - loss: 0.1422 - accuracy: 0.9596 - val_loss: 0.1561 - val_accuracy: 0.9548\n"
          ]
        }
      ],
      "source": [
        "model = keras.models.Sequential([\n",
        "    keras.layers.Flatten(input_shape=[28, 28]),\n",
        "    keras.layers.Dense(300, activation=\"selu\", kernel_initializer=\"lecun_normal\"),\n",
        "    keras.layers.Dense(100, activation=\"selu\", kernel_initializer=\"lecun_normal\"),\n",
        "    keras.layers.Dense(10, activation=\"softmax\")\n",
        "])\n",
        "s = 20 * len(X_train) // 32 # number of steps in 20 epochs (batch size = 32)\n",
        "learning_rate = keras.optimizers.schedules.ExponentialDecay(0.01, s, 0.1)\n",
        "optimizer = keras.optimizers.SGD(learning_rate)\n",
        "model.compile(loss=\"sparse_categorical_crossentropy\", optimizer=optimizer, metrics=[\"accuracy\"])\n",
        "n_epochs = 25\n",
        "history = model.fit(X_train_scaled, y_train, epochs=n_epochs,\n",
        "                    validation_data=(X_valid_scaled, y_valid))"
      ],
      "id": "a7c7404f"
    },
    {
      "cell_type": "markdown",
      "metadata": {
        "id": "f4f53731"
      },
      "source": [
        "구간별 고정 스케줄링은 다음을 사용하세요:"
      ],
      "id": "f4f53731"
    },
    {
      "cell_type": "code",
      "execution_count": null,
      "metadata": {
        "colab": {
          "background_save": true
        },
        "id": "b6bd2108"
      },
      "outputs": [],
      "source": [
        "learning_rate = keras.optimizers.schedules.PiecewiseConstantDecay(\n",
        "    boundaries=[5. * n_steps_per_epoch, 15. * n_steps_per_epoch],\n",
        "    values=[0.01, 0.005, 0.001])"
      ],
      "id": "b6bd2108"
    },
    {
      "cell_type": "markdown",
      "metadata": {
        "id": "b5e90440"
      },
      "source": [
        "### 1사이클 스케줄링"
      ],
      "id": "b5e90440"
    },
    {
      "cell_type": "code",
      "execution_count": null,
      "metadata": {
        "colab": {
          "background_save": true
        },
        "id": "a12bb0d3"
      },
      "outputs": [],
      "source": [
        "K = keras.backend\n",
        "\n",
        "class ExponentialLearningRate(keras.callbacks.Callback):\n",
        "    def __init__(self, factor):\n",
        "        self.factor = factor\n",
        "        self.rates = []\n",
        "        self.losses = []\n",
        "    def on_batch_end(self, batch, logs):\n",
        "        self.rates.append(K.get_value(self.model.optimizer.lr))\n",
        "        self.losses.append(logs[\"loss\"])\n",
        "        K.set_value(self.model.optimizer.lr, self.model.optimizer.lr * self.factor)\n",
        "\n",
        "def find_learning_rate(model, X, y, epochs=1, batch_size=32, min_rate=10**-5, max_rate=10):\n",
        "    init_weights = model.get_weights()\n",
        "    iterations = math.ceil(len(X) / batch_size) * epochs\n",
        "    factor = np.exp(np.log(max_rate / min_rate) / iterations)\n",
        "    init_lr = K.get_value(model.optimizer.lr)\n",
        "    K.set_value(model.optimizer.lr, min_rate)\n",
        "    exp_lr = ExponentialLearningRate(factor)\n",
        "    history = model.fit(X, y, epochs=epochs, batch_size=batch_size,\n",
        "                        callbacks=[exp_lr])\n",
        "    K.set_value(model.optimizer.lr, init_lr)\n",
        "    model.set_weights(init_weights)\n",
        "    return exp_lr.rates, exp_lr.losses\n",
        "\n",
        "def plot_lr_vs_loss(rates, losses):\n",
        "    plt.plot(rates, losses)\n",
        "    plt.gca().set_xscale('log')\n",
        "    plt.hlines(min(losses), min(rates), max(rates))\n",
        "    plt.axis([min(rates), max(rates), min(losses), (losses[0] + min(losses)) / 2])\n",
        "    plt.xlabel(\"Learning rate\")\n",
        "    plt.ylabel(\"Loss\")"
      ],
      "id": "a12bb0d3"
    },
    {
      "cell_type": "markdown",
      "metadata": {
        "id": "9d720015"
      },
      "source": [
        "**경고**: `on_batch_end()` 메서드에서 `logs[\"loss\"]`로 배치 손실을 모으지만 텐서플로 2.2.0에서 (에포크의) 평균 손실로 바뀌었습니다. (텐서플로 2.2 이상을 사용한다면) 이런 이유로 아래 그래프가 이전보다 훨씬 부드럽습니다. 이는 그래프에서 배치 손실이 폭주하기 시작하는 지점과 그렇지 않은 지점 사이에 지연이 있다는 뜻입니다. 따라서 변동이 심한 그래프에서는 조금 더 작은 학습률을 선택해야 합니다. 또한 `ExponentialLearningRate` 콜백을 조금 바꾸어 (현재 평균 손실과 이전 평균 손실을 기반으로) 배치 손실을 계산할 수 있습니다:\n",
        "\n",
        "```python\n",
        "class ExponentialLearningRate(keras.callbacks.Callback):\n",
        "    def __init__(self, factor):\n",
        "        self.factor = factor\n",
        "        self.rates = []\n",
        "        self.losses = []\n",
        "    def on_epoch_begin(self, epoch, logs=None):\n",
        "        self.prev_loss = 0\n",
        "    def on_batch_end(self, batch, logs=None):\n",
        "        batch_loss = logs[\"loss\"] * (batch + 1) - self.prev_loss * batch\n",
        "        self.prev_loss = logs[\"loss\"]\n",
        "        self.rates.append(K.get_value(self.model.optimizer.lr))\n",
        "        self.losses.append(batch_loss)\n",
        "        K.set_value(self.model.optimizer.lr, self.model.optimizer.lr * self.factor)\n",
        "```"
      ],
      "id": "9d720015"
    },
    {
      "cell_type": "code",
      "execution_count": null,
      "metadata": {
        "colab": {
          "background_save": true
        },
        "id": "c505fa7e"
      },
      "outputs": [],
      "source": [
        "tf.random.set_seed(42)\n",
        "np.random.seed(42)\n",
        "\n",
        "model = keras.models.Sequential([\n",
        "    keras.layers.Flatten(input_shape=[28, 28]),\n",
        "    keras.layers.Dense(300, activation=\"selu\", kernel_initializer=\"lecun_normal\"),\n",
        "    keras.layers.Dense(100, activation=\"selu\", kernel_initializer=\"lecun_normal\"),\n",
        "    keras.layers.Dense(10, activation=\"softmax\")\n",
        "])\n",
        "model.compile(loss=\"sparse_categorical_crossentropy\",\n",
        "              optimizer=keras.optimizers.SGD(learning_rate=1e-3),\n",
        "              metrics=[\"accuracy\"])"
      ],
      "id": "c505fa7e"
    },
    {
      "cell_type": "code",
      "execution_count": null,
      "metadata": {
        "colab": {
          "background_save": true
        },
        "id": "037cf66e",
        "outputId": "6ac0fae3-966f-417e-eb43-4cedd7477e53"
      },
      "outputs": [
        {
          "name": "stdout",
          "output_type": "stream",
          "text": [
            "469/469 [==============================] - 2s 4ms/step - loss: 4791483392.0000 - accuracy: 0.3325\n"
          ]
        },
        {
          "data": {
            "image/png": "[encoded data removed]",
            "text/plain": [
              "<Figure size 432x288 with 1 Axes>"
            ]
          },
          "metadata": {},
          "output_type": "display_data"
        }
      ],
      "source": [
        "batch_size = 128\n",
        "rates, losses = find_learning_rate(model, X_train_scaled, y_train, epochs=1, batch_size=batch_size)\n",
        "plot_lr_vs_loss(rates, losses)"
      ],
      "id": "037cf66e"
    },
    {
      "cell_type": "code",
      "execution_count": null,
      "metadata": {
        "colab": {
          "background_save": true
        },
        "id": "ce18733d"
      },
      "outputs": [],
      "source": [
        "class OneCycleScheduler(keras.callbacks.Callback):\n",
        "    def __init__(self, iterations, max_rate, start_rate=None,\n",
        "                 last_iterations=None, last_rate=None):\n",
        "        self.iterations = iterations\n",
        "        self.max_rate = max_rate\n",
        "        self.start_rate = start_rate or max_rate / 10\n",
        "        self.last_iterations = last_iterations or iterations // 10 + 1\n",
        "        self.half_iteration = (iterations - self.last_iterations) // 2\n",
        "        self.last_rate = last_rate or self.start_rate / 1000\n",
        "        self.iteration = 0\n",
        "    def _interpolate(self, iter1, iter2, rate1, rate2):\n",
        "        return ((rate2 - rate1) * (self.iteration - iter1)\n",
        "                / (iter2 - iter1) + rate1)\n",
        "    def on_batch_begin(self, batch, logs):\n",
        "        if self.iteration < self.half_iteration:\n",
        "            rate = self._interpolate(0, self.half_iteration, self.start_rate, self.max_rate)\n",
        "        elif self.iteration < 2 * self.half_iteration:\n",
        "            rate = self._interpolate(self.half_iteration, 2 * self.half_iteration,\n",
        "                                     self.max_rate, self.start_rate)\n",
        "        else:\n",
        "            rate = self._interpolate(2 * self.half_iteration, self.iterations,\n",
        "                                     self.start_rate, self.last_rate)\n",
        "        self.iteration += 1\n",
        "        K.set_value(self.model.optimizer.lr, rate)"
      ],
      "id": "ce18733d"
    }
  ],
  "metadata": {
    "accelerator": "GPU",
    "colab": {
      "provenance": []
    },
    "kernelspec": {
      "display_name": "Python 3",
      "language": "python",
      "name": "python3"
    },
    "language_info": {
      "codemirror_mode": {
        "name": "ipython",
        "version": 3
      },
      "file_extension": ".py",
      "mimetype": "text/x-python",
      "name": "python",
      "nbconvert_exporter": "python",
      "pygments_lexer": "ipython3",
      "version": "3.7.3"
    },
    "nav_menu": {
      "height": "360px",
      "width": "416px"
    },
    "toc": {
      "navigate_menu": true,
      "number_sections": true,
      "sideBar": true,
      "threshold": 6,
      "toc_cell": false,
      "toc_section_display": "block",
      "toc_window_display": false
    }
  },
  "nbformat": 4,
  "nbformat_minor": 5
}