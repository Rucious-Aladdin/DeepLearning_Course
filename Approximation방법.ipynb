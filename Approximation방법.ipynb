{
  "cells": [
    {
      "cell_type": "markdown",
      "id": "38a57428",
      "metadata": {
        "id": "38a57428"
      },
      "source": [
        "# Approximation(근사치)\n",
        "- 근사치는 참값(True value)과 비슷한 True value에 가까운 값을 의미함<br>\n",
        "- 참값(True value)을 계산하기 너무 어렵거나 알수 없는 경우 approximation을 이용함<br>\n",
        "\\- 근사치를 사용하는 대표적인 경우는 숫자를 반올림하는 경우임\n",
        "\n",
        "Approximation 대상 | 대표적인 방법 | \n",
        ":----                       | :----\n",
        "미분가능함수                | Taylor Series\n",
        "Data를 이용한 선형근사화    | Linear Regression\n",
        "Data를 이용한 일반적 근사화 | Deep Neural Network"
      ]
    },
    {
      "cell_type": "markdown",
      "id": "03a914fe",
      "metadata": {
        "id": "03a914fe"
      },
      "source": [
        "## 1. Taylor Series\n",
        "- 미적분학(differential and integral calculus)에서, 테일러 급수(Taylor series)는 도함수(derivative function )들의 한 점에서의 값으로 계산된 항의 무한합으로 해석함수를 나타내는 방법"
      ]
    },
    {
      "cell_type": "markdown",
      "id": "eefb90c8",
      "metadata": {
        "id": "eefb90c8"
      },
      "source": [
        "#### 1.1 정의: Taylor Series\n",
        "- smooth function $f: R \\rightarrow R$ 및 실수(real number) $a \\in R$이 주어졌을 때, $f$의 Taylor Series는 다음과 같은 power series이다\n",
        "$$\n",
        "\\begin{align}\n",
        "f(x) &=\\sum_{n=0}^{\\infty} \\frac{f^{(n)}(a)}{n!}(x-a)^{n} \\\\\n",
        "       &= f(a) + f^{(1)}(a)(x-a) + \\frac{1}{2} f^{(2)}(a)(x-a)^2 + \\frac{1}{6} f^{(3)}(a)(x-a)^3 + \\cdots\n",
        "\\end{align}\n",
        "$$"
      ]
    },
    {
      "cell_type": "markdown",
      "id": "b5db0097",
      "metadata": {
        "id": "b5db0097"
      },
      "source": [
        "#### 1.2 Maclaurin Series\n",
        "- $a=0$인 Taylor Series\n",
        "$$\n",
        "\\begin{align}\n",
        "T_f(x) &=\\sum_{n=0}^{\\infty} \\frac{f^{(n)}(0)}{n!}x^{n} \\\\\n",
        "       &= f(0) + f^{(1)}(0)x + \\frac{1}{2} f^{(2)}(0)x^2 + \\frac{1}{6} f^{(3)}(0)x^3 + \\cdots\n",
        "\\end{align}\n",
        "$$"
      ]
    },
    {
      "cell_type": "markdown",
      "id": "03a4a723",
      "metadata": {
        "id": "03a4a723"
      },
      "source": [
        "#### 1.3 다변수 Taylor Series\n",
        "- Taylor Series는 2개 이상의 다변수로 일반화될 수 있음. $d$개의 변수를 가지는 smooth function $f: R^{d} \\rightarrow R$의 Taylor는 다음과 같다.\n",
        "$$\n",
        "\\begin{align}\n",
        "f(x_1, ..., x_d) &= \\sum_{n_1=0}^{\\infty} \\cdots \\sum_{n_d=0}^{\\infty} \n",
        "     \\frac{f^{(n_1)}(a_1) \\cdots f^{(n_d)}(a_d)}{n_1! \\cdots n_d!} (x_1-a_1)^{n_1} \\cdots (x_d-a_d)^{n_d}\\\\\n",
        "       &= f(a_1 \\cdots a_d)  \\\\\n",
        "       & \\ \\ \\ + \\frac{1}{1!} \\sum_{j=1}^{d} \\frac{\\partial f(a_1, \\cdots, a_d)}{\\partial x_j} (x_j - a_j) \\\\\n",
        "       & \\ \\ \\ + \\frac{1}{2!} \\sum_{k=1}^{d} \\sum_{j=1}^{d} \n",
        "                    \\frac{\\partial^2 f(a_1, \\cdots, a_d)}{\\partial x_j \\partial x_k} \n",
        "                    (x_k - a_k)(x_j - a_j) \\\\\n",
        "       & \\ \\ \\ + \\frac{1}{3!} \\sum_{l=1}^{d} \\sum_{k=1}^{d} \\sum_{j=1}^{d} \n",
        "                    \\frac{\\partial^3 f(a_1, \\cdots, a_d)}{\\partial x_l \\partial x_j \\partial x_k} \n",
        "                    (x_l - a_l)(x_k - a_k)(x_j - a_j) + \\cdots\n",
        "\\end{align}\n",
        "$$"
      ]
    },
    {
      "cell_type": "markdown",
      "id": "05d7e5e5",
      "metadata": {
        "id": "05d7e5e5"
      },
      "source": [
        "### 1.2 Taylor Series를 이용한 선형 근사(Linear Approximation)\n",
        "- 선형 근사(linear approximation)는 어떤 함수를 선형 함수, 즉 일차 함수 만으로 근사하는 것을 말함<br>\n",
        "\\- 다음 그림과 같이 어떤 점 근처를 확대하면 확대할수록 (미분 가능한) 함수의 그래프와 그 점에서의 접선은 비슷해진다는 사실을 이용한 근사방법<br>\n",
        "\\- *참고블로그: 미분 가능한 조건 (https://m.blog.naver.com/saomath/221971803914)\n",
        "- 어떤 점  $x=a$에서 미분가능한 함수 $f(x)$가 있을 때, 그 점에서의 접선의 방정식 $g(x)$는 다음과 같음\n",
        "$$f(x) = f(a) + f'(a)(x-a) + \\varepsilon $$\n",
        "이다. 이 때 $f(x)$의 approximation\n",
        "$$f(x) \\approx f(a) +f'(a)(x-a)$$\n",
        "를 $f$의 $a$에서의 선형근사(Linear Approximation)이라고 한다. 이는 Tayler 정리에 의하여 얻어진\n",
        "$$f(x) = f(a) + f'(a)(x-a) + \\varepsilon $$\n",
        "에서 approximation $\\varepsilon \\approx 0$를 취한 것으로 볼 수 있다. "
      ]
    },
    {
      "cell_type": "markdown",
      "id": "91ee6fa9",
      "metadata": {
        "id": "91ee6fa9"
      },
      "source": [
        "#### 연습문제 1\n",
        "$\\sqrt{4.01}$을 함수 $f(x)=\\sqrt{x}$의 $a=4$에서의 Linear approximation을 사용해서 근사값을 구하시오"
      ]
    },
    {
      "cell_type": "code",
      "execution_count": null,
      "id": "bd1ec64d",
      "metadata": {
        "id": "bd1ec64d",
        "outputId": "a076a095-9485-4de3-c8ec-69b3ba0beb40"
      },
      "outputs": [
        {
          "data": {
            "text/plain": [
              "2.0025"
            ]
          },
          "execution_count": 1,
          "metadata": {},
          "output_type": "execute_result"
        }
      ],
      "source": [
        "import numpy as np\n",
        "\n",
        "def f_sqrt(x):\n",
        "    return np.sqrt(x)\n",
        "\n",
        "def d1_sqrt(x):\n",
        "    return 1/(2*np.sqrt(x))\n",
        "\n",
        "def approx(x, a):\n",
        "    return f_sqrt(a) + d1_sqrt(a)*(x-a)\n",
        "\n",
        "approx(4.01, 4)"
      ]
    },
    {
      "cell_type": "code",
      "execution_count": null,
      "id": "9e60c3af",
      "metadata": {
        "id": "9e60c3af",
        "outputId": "d77d8447-b021-40a3-fc7a-b42246fa3a4c"
      },
      "outputs": [
        {
          "data": {
            "text/plain": [
              "2.0024984394500787"
            ]
          },
          "execution_count": 2,
          "metadata": {},
          "output_type": "execute_result"
        }
      ],
      "source": [
        "np.sqrt(4.01)"
      ]
    },
    {
      "cell_type": "code",
      "execution_count": null,
      "id": "f9ec628a",
      "metadata": {
        "id": "f9ec628a",
        "outputId": "9dc2250d-ef06-4dd2-9423-13c3c96fe05f"
      },
      "outputs": [
        {
          "data": {
            "text/plain": [
              "1.5605499212867358e-06"
            ]
          },
          "execution_count": 3,
          "metadata": {},
          "output_type": "execute_result"
        }
      ],
      "source": [
        "approx(4.01, 4) - np.sqrt(4.01)"
      ]
    },
    {
      "cell_type": "code",
      "execution_count": null,
      "id": "7c801378",
      "metadata": {
        "id": "7c801378",
        "outputId": "13f66abc-7c76-444b-95da-2e87ac2f1f09"
      },
      "outputs": [
        {
          "name": "stdout",
          "output_type": "stream",
          "text": [
            "[2.         2.13793103 2.27586207 2.4137931  2.55172414 2.68965517\n",
            " 2.82758621 2.96551724 3.10344828 3.24137931 3.37931034 3.51724138\n",
            " 3.65517241 3.79310345 3.93103448 4.06896552 4.20689655 4.34482759\n",
            " 4.48275862 4.62068966 4.75862069 4.89655172 5.03448276 5.17241379\n",
            " 5.31034483 5.44827586 5.5862069  5.72413793 5.86206897 6.        ]\n"
          ]
        }
      ],
      "source": [
        "a_set = np.linspace(2, 6, 30)\n",
        "print(a_set)"
      ]
    },
    {
      "cell_type": "code",
      "execution_count": null,
      "id": "e421d6b2",
      "metadata": {
        "id": "e421d6b2",
        "outputId": "849d478f-f098-4d2a-c72f-6ebf2f615740"
      },
      "outputs": [
        {
          "data": {
            "text/plain": [
              "array([1.22357438e-01, 9.98376500e-02, 8.08498604e-02, 6.48397536e-02,\n",
              "       5.13628600e-02, 4.00584074e-02, 3.06303588e-02, 2.28334188e-02,\n",
              "       1.64625453e-02, 1.13449771e-02, 7.33409609e-03, 4.30464734e-03,\n",
              "       2.14897689e-03, 7.74041965e-04, 9.90136808e-05, 5.33389250e-05,\n",
              "       5.75161556e-04, 1.61002712e-03, 3.10981314e-03, 5.03184033e-03,\n",
              "       7.33812971e-03, 9.99477847e-03, 1.29714328e-02, 1.62408408e-02,\n",
              "       1.97784708e-02, 2.35621854e-02, 2.75719606e-02, 3.17896441e-02,\n",
              "       3.61987455e-02, 4.07842543e-02])"
            ]
          },
          "execution_count": 5,
          "metadata": {},
          "output_type": "execute_result"
        }
      ],
      "source": [
        "app = approx(4.01, a_set)\n",
        "error = np.abs(np.sqrt(4.01) - app)\n",
        "error"
      ]
    },
    {
      "cell_type": "code",
      "execution_count": null,
      "id": "8d5987f5",
      "metadata": {
        "id": "8d5987f5",
        "outputId": "7d02b941-8e55-4a5d-8978-b116dbd4eddb"
      },
      "outputs": [
        {
          "data": {
            "image/png": "[encoded data removed]",
            "text/plain": [
              "<Figure size 360x216 with 1 Axes>"
            ]
          },
          "metadata": {
            "needs_background": "light"
          },
          "output_type": "display_data"
        }
      ],
      "source": [
        "import matplotlib.pyplot as plt\n",
        "fig = plt.figure(figsize=(5, 3))\n",
        "plt.plot(a_set, error)\n",
        "plt.title('Linear Approximation Error')\n",
        "plt.xlabel('a: Approximation Point')\n",
        "plt.ylabel('Error');\n",
        "plt.show()"
      ]
    },
    {
      "cell_type": "markdown",
      "id": "ea8e44c4",
      "metadata": {
        "id": "ea8e44c4"
      },
      "source": [
        "#### 연습문제 2\n",
        "함수 $f(x)=(x-4)^2-2$에 대해  a_set = np.linspace(0, 8, 20)에서의 Linear approximation을 사용해서 근사값을 구하시오"
      ]
    },
    {
      "cell_type": "markdown",
      "id": "e1fc32ba",
      "metadata": {
        "id": "e1fc32ba"
      },
      "source": [
        "### 1.3 Taylor Series를 이용한 2차근사(Quadratic Approximation)\n",
        "- Taylor에서 approxiamtion을 위해 2차항까지 이용한 방법\n",
        "$$\n",
        "\\begin{align}\n",
        "T_f(x) &\\approx \\sum_{n=0}^{2} \\frac{f^{(n)}(a)}{n!}(x-a)^{n} \\\\\n",
        "       &= f(a) + f^{(1)}(a)(x-a) + \\frac{1}{2} f^{(2)}(a)(x-a)^2 \n",
        "\\end{align}\n",
        "$$"
      ]
    },
    {
      "cell_type": "markdown",
      "id": "20dce754",
      "metadata": {
        "id": "20dce754"
      },
      "source": [
        "(과제 1)<br>\n",
        "함수 $f(x)=(x-4)^2-2$에 대해  a_set = np.linspace(0, 8, 20)에서의 Quadratic approximation을 사용해서 근사값을 구하는 program을 작성하시오 "
      ]
    },
    {
      "cell_type": "markdown",
      "id": "7f3592ee",
      "metadata": {
        "id": "7f3592ee"
      },
      "source": [
        "Taylor 시리즈: 미분과 **power function**\n",
        "퓨리에 시리즈:   Sine, Cosine     **주기함수**"
      ]
    },
    {
      "cell_type": "markdown",
      "id": "c3c07e8c",
      "metadata": {
        "id": "c3c07e8c"
      },
      "source": [
        "### 2. Statistical Model"
      ]
    },
    {
      "cell_type": "markdown",
      "id": "6bd428d7",
      "metadata": {
        "id": "6bd428d7"
      },
      "source": [
        "### 2.1 다양한 궁금증\n",
        "- 아빠의 키$(x)$가 크면 아이의 키$(y)$도 클까?<br><br>\n",
        "- 아이의 키  $y$에 영향을 미칠 것으로 예상할 수 있는 변수\n",
        "\n",
        "변수 | 설명\n",
        ":--- |:----\n",
        " $$x_1$$ | 유전자\n",
        " $$x_2$$ | 1일 영양섭취량\n",
        " $$x_3$$ | 스트레스지수\n",
        " $$\\vdots$$ | $$\\vdots$$\n",
        " $$x_{p}$$ | 형제 수\n",
        "\n",
        "$\\Longrightarrow $ $y$에 영향을 미칠 것으로 예상되는 $x_1$와 $y$  사이에는 어떤 관계가 있을까? 하나의 $x$변수와 $y$의 관계<br>\n",
        "$\\Longrightarrow $ $y$에 영향을 미칠 것으로 예상되는 $x_1$과 $x_2$에 대해,  $x_1$과 $x_2$ 사이에는 어떤 관계가 있을까?<br>\n",
        "$\\Longrightarrow $ $y$에 영향을 미칠 것으로 예상되는 $x_1, x_2, ..., x_{p}$와 $y$  사이에는 어떤 관계가 있을까?  여러개의 $x_i$변수와 $y$의 관계<br><br>\n",
        "- 통계학에서, 회귀 분석(regression analysis)은 independent variable들 $X = \\left(x_1, ..., x_{p}  \\right)$과 관찰된 연속형 변수 $y$들에 대해 두 변수 사이의 통계적 Model을 구하는 방법"
      ]
    },
    {
      "cell_type": "markdown",
      "id": "abef425e",
      "metadata": {
        "id": "abef425e"
      },
      "source": [
        "### 2.2 다루는 문제의 상황\n",
        "#####   $Data$에 기반한 분석\n",
        "- Unknown function: $y=f(z_1, z_2, ..., z_{K})$<br>\n",
        "우리가 생각하고 있는 $f(z_1, ..., z_{K})$가 unknown 함수라는 의미는 세상에 존재하는 임의의  System을 대변한다는 의미임<br>\n",
        "- 우리가 다루려고 하는 문제의 상황<br>\n",
        "\\- $f(z_1, z_2, ..., z_{K})$는 unknown이지만 다행히 $Sample$  $y_i, i=1, 2, ..., n$은 얻을 수 있는 상황임<br>\n",
        "\\- 이러한 $Sample \\ y_i, i=1,2,...,n$들을 통해 unknown 세상을 일부 들여다 볼수 있다는 의미임<br>\n",
        "\n",
        "##### 관측 가능한 세상\n",
        "$y=f(z_1, z_2, ..., z_K)$\n",
        "- 우리가 가지고 있는 사전지식을 이용하여 $y$에 영향을 미칠 것이라고 짐작되는 $x_1, x_2, ..., x_{p}$을 선정\n",
        "- $\\left( x_1, x_2, ..., x_{p} \\right)$들과 관측된 $y$의 관계를 근사화(approximation)\n",
        "- $z_i$와 $x_l$이 일치할 수도 있고 그렇지 않을 수도 있음\n",
        "- $x_1, x_2, ..., x_{p}$들이 잘 선정되었는지는 feature selection, feature extraction등의 방법을 이용하여 확인\n",
        "\n",
        "<figure>\n",
        "<img src=\"https://drive.google.com/uc?export=view&id=1eaCjN2yPAWzNNZUz9baaj2xeOWHk5GxC\"/, width = 600, height = 250>\n",
        "</figure>\n",
        "\n",
        "\n",
        "\\- (주의)일반적으로 통계학에서는 𝑆𝑎𝑚𝑝𝑙𝑒이라는 의미는 모집단(population)에서 추출된 값으로 $iid(independent \\ and \\ identical \\ distribution)$을 의미하지만 기계학습에서는 $iid$를 의미하지는 않을 수 있음<br>\n",
        "$Y \\sim N(\\mu, \\sigma^2)$일 때, $Sample \\ Y_1, Y_2, ..., Y_n$은 다음 식이 성립한다<br>\n",
        "$$Y_i \\sim N(\\mu, \\sigma^2), i=1,...,n$$\n",
        "$$P(Y_1 = y_1, Y_2 = y_2, ...Y_n = y_n)=P(Y_1 = y_1)P(Y_2 = y_2)...P(Y_n = y_n)=\\prod_{i=1}^{n}P(Y_i = y_i)$$"
      ]
    },
    {
      "cell_type": "markdown",
      "id": "791e0115",
      "metadata": {
        "id": "791e0115"
      },
      "source": [
        "####  [참고] 인공지능에서 사용하는 2가지 independent의 의미\n",
        "- 선형대수학: linear independt $a . b = 0$ <br>\n",
        "- 통계학: 확률변수 $X_1, X_2$에 한 결합확률 $P(X_1 = x_1, X_2 = x_2)=P(X_1=x_1) \\times P(X_2 = x_2)$"
      ]
    },
    {
      "cell_type": "markdown",
      "id": "2c6cc130",
      "metadata": {
        "id": "2c6cc130"
      },
      "source": [
        "### 2.3  공분산과 상관관계 \n",
        "- (참고) 확률변수 $X$가 확률질량분포 $P(X=x)$ 또는 확률밀도함수 $f(x)$를 따를 때<br>\n",
        "\\- 기대치 $E(X)$는 다음과 같음 \n",
        "$$E(X)= \\sum_{x \\in \\mathcal X}xP(X=x)$$\n",
        "$$E(X) = \\int_{x \\in  \\mathcal X}xf(x)dx$$\n",
        "\\- 주사위를 던지는 시행에서의 기대치는 다음과 같음<br>\n",
        "   $X=$주사위 눈금의 수, $X \\in \\mathcal X = (1,2,3,4,5,6)$\n",
        "   $$P(X=x)=\n",
        "\\begin{cases}\n",
        "1/6, & \\mbox{if } x \\mbox{=1,2,3,4,5,6} \\\\\n",
        "0 & \\mbox{ otherwise}\n",
        "\\end{cases}$$\n",
        "$$E(X) = \\sum_{x=1}^{6} x P(X=x)= \\sum_{x=1}^{6} x \\frac{1}{6}=\\frac {21}{6}=3.5$$\n",
        "\n",
        "<br>\n",
        "- 공분산(covariance)은 두 확률변수(pairwise) 간의 선형관계를 파악하는 방법<br>\n",
        "- 동시에 여러개의 확률변수간의 관계를 이야기하는 것이 아님<br>\n",
        "- 확률변수 $X_1$와 $X_2$의 기댓값과 분산을 각각 $\\left( \\mu_{1}, \\sigma_{1}^2 \\right)$과   $\\left( \\mu_{2}, \\sigma_{2}^2 \\right)$라고 할 때\n",
        " 공분산$(Covariance)$은 다음과 같이 정의됨<br><br>\n",
        "\n",
        "#####  (1) 공분산(Covariance)\n",
        "##### 정의\n",
        "$ \\begin{align}\n",
        "\\qquad  Cov(X_1, X_2) & = E(X_1-\\mu_1)(X_2-\\mu_2)\\\\\n",
        "                      & = E(X_1 X_2 - \\mu_2 X_1 - \\mu_1 X_2 + \\mu_1 \\mu_2)\\\\\n",
        "                      & = E(X_1 X_2) - \\mu_2 E(X_1) - \\mu_1 E(X_2) + \\mu_1 \\mu_2\\\\\n",
        "                      & = E(X_1 X_2) - \\mu_1 \\mu_2\n",
        "\\end{align}$<br><br>"
      ]
    },
    {
      "cell_type": "markdown",
      "id": "5e2e0249",
      "metadata": {
        "id": "5e2e0249"
      },
      "source": [
        "$  \n",
        "Var(X) = E(X-\\mu)^2\n",
        "$"
      ]
    },
    {
      "cell_type": "markdown",
      "id": "327b5846",
      "metadata": {
        "id": "327b5846"
      },
      "source": [
        "##### 성질<br>\n",
        "$\\quad$ $Cov(X, X)=Var(X)$<br>\n",
        "$\\quad$ $Cov(X, Y)=Cov(Y, X)$<br>\n",
        "$\\quad$ $Cov(aX, bY)=abCov(X, Y)$<br>\n",
        "$\\quad$ $Cov(aX+bY, U)=aCov(X, U) + bCov(Y, U)$<br> \n",
        " "
      ]
    },
    {
      "cell_type": "markdown",
      "source": [
        "##### 공분산행렬(Covariance Matrix)\n",
        "Column vector인  확률변수 $X=(X_1, ..., X_p)$와 $Y=(Y_1, ..., Y_p)$의 기댓값이 각각 $\\mu_X$와 $\\mu_Y$라고 할 때 $m \\times n$ 공분산행렬은 다음과 같다<br>\n",
        "$\\quad$ $Cov(X, Y) = E\\left((X-\\mu_X)(Y-\\mu_Y)\\right)$<br>\n",
        "$\\quad$ $Cov(X, Y) = Cov(Y, X)$\n"
      ],
      "metadata": {
        "id": "c3sWZ2rUl3b7"
      },
      "id": "c3sWZ2rUl3b7"
    },
    {
      "cell_type": "markdown",
      "source": [
        "##### 표본공분산(Sample Covariance)\n",
        "피어슨 상관계수에 사용되는 표본 공분산(sample covariance)은 다음과 같다.<br>\n",
        "$\\quad$ $Cov(X, Y) = \\frac{\\sum_{i=1}^{n}(X_i- \\bar X)(Y_i- \\bar Y)}{n-1}$<br>\n",
        "$\\quad$ "
      ],
      "metadata": {
        "id": "dwAY4OP3l4Vl"
      },
      "id": "dwAY4OP3l4Vl"
    },
    {
      "cell_type": "markdown",
      "id": "fc96a028",
      "metadata": {
        "id": "fc96a028"
      },
      "source": [
        "#####  (2) 상관관계\n",
        "- 모집단(Population)에 적용되는 Pearson's correlation coefficient, $\\rho_{X_1 X_2}$<br>\n",
        "$ \\begin{align}\n",
        "\\qquad \\rho_{X_1 X_2} &= \\frac{Cov(X_1, X_2)}{\\sigma_{X_1}\\sigma_{X_2}}\n",
        "\\end{align}$<br>\n",
        "\n",
        "$$ -1\\le \\rho \\le 1$$\n",
        "<br>\n",
        "- 표본(Sample)에 적용되는 Pearson's correlation coefficient, $r_{X_1 X_2}$<br>\n",
        "$ \\begin{align}\n",
        "\\qquad r_{X_1 X_2} = \\frac{S_{X_1 X_2}}   {S_{X_1 X_1} S_{X_2 X_2}}\n",
        "\\end{align}$<br>\n",
        "<br>\n",
        "$ \\qquad$ 여기서 $S_{X_1 X_2} = \\sum_{i=1}^n (x_{1i}-\\bar{x_1})(x_{2i}-\\bar{x_2})$, \n",
        "$S_{X_1 X_1} = \\sqrt{     \\sum_{i=1}^n (x_{1i}-\\bar{x_1})^2   }$, \n",
        "$S_{X_2 X_2} = \\sqrt{     \\sum_{i=1}^n (x_{2i}-\\bar{x_2})^2   }$<br>"
      ]
    },
    {
      "cell_type": "markdown",
      "id": "53137f97",
      "metadata": {
        "id": "53137f97"
      },
      "source": [
        "### 2.4  선형회귀분석"
      ]
    },
    {
      "cell_type": "markdown",
      "id": "804bc650",
      "metadata": {
        "id": "804bc650"
      },
      "source": [
        "#### (1) 선형회귀의 Model과 가정\n",
        "- 선형회귀(Linear regression)는 종속 변수 $y$와 한 개 이상의 독립 변수 (또는 설명 변수) $X=\\left(x_1, \\cdots ,x_{p}  \\right)$와의 선형 관계를 추정하는 통계적 모델링 기법\n",
        "$$ \n",
        "\\begin{align}\n",
        "Model에 \\ 대한 \\ 가정: \\ y &= g(x_1, ..., x_{p}) + \\varepsilon \\\\\n",
        "           &= w_0 + w_1 x_1 + \\cdots + w_{p} x_{p} + \\varepsilon \\\\\n",
        "Error에 \\ 대한 \\ 가정: \\  \\varepsilon & \\sim (0, \\Sigma)\n",
        "\\end{align}\n",
        "$$ <br>\n",
        "\n",
        "$$\n",
        "\\begin{align}\n",
        "\\Sigma\n",
        " &=\n",
        "\\begin{bmatrix}\n",
        "\\sigma_{11} & \\cdots &  \\sigma_{1c} \\\\\n",
        "\\vdots & \\ddots & \\vdots \\\\\n",
        "\\sigma_{c1} & \\cdots &  \\sigma_{nn}\n",
        "\\end{bmatrix} \\\\\n",
        "\\sigma_{ij} &= E \\left[ \\varepsilon_i - E \\left( \\varepsilon_i \\right) \\right] \\left[ \\varepsilon_i - E \\left( \\varepsilon_i \\right) \\right] = E \\left(  \\varepsilon_i \\varepsilon_j \\right)\n",
        "\\end{align}\n",
        "$$"
      ]
    },
    {
      "cell_type": "markdown",
      "source": [
        "<figure>\n",
        "<img src=\"https://drive.google.com/uc?export=view&id=1qPgR0Ttz1wfz_f4rJ0wqqYO7PMnhqjiI\"/, height=300, width=600>\n",
        "</figure>"
      ],
      "metadata": {
        "id": "3sJHWH1dlS26"
      },
      "id": "3sJHWH1dlS26"
    },
    {
      "cell_type": "markdown",
      "source": [
        "<figure>\n",
        "<img src=\"https://drive.google.com/uc?export=view&id=1R8vK4dSWDtDxV5ZPkJNuS-Z6ozpBbbth\"/>\n",
        "</figure>\n"
      ],
      "metadata": {
        "id": "aREPx4ywflwM"
      },
      "id": "aREPx4ywflwM"
    },
    {
      "cell_type": "markdown",
      "id": "aff62c9a",
      "metadata": {
        "id": "aff62c9a"
      },
      "source": [
        "#### (2) Linear Model Parameter $w= \\left(w_0, w_1, \\cdots, w_{p}  \\right)$ 의 추정\n",
        "- dataset $(X_i, y_i), i=1,...,n$를 이용하여 $ \\widehat{w} $을 추정(estimation)하는 방법으로 2가지 방법이 있음<br>\n",
        "\\- Analytical Method<br>\n",
        "\\- Gradient Descent Method<br>"
      ]
    },
    {
      "cell_type": "markdown",
      "id": "a5a7483f",
      "metadata": {
        "id": "a5a7483f"
      },
      "source": [
        "#####   (2.1) Analytical Method를 이용한  Regression Parameter $W$ 추정\n",
        "  1.  Linear Regression Model Problem<br>\n",
        "  - Quadratic Programming임<br>\n",
        "  \\- Objective function: Quadratic form<br>\n",
        "  \\- Constraints: Linear form<br><br>\n",
        "\n",
        "------\n",
        "$\n",
        "\\begin{align}\n",
        " & Objective function \\ \\ \\   \\underset{w}{minimize} \\ \\ L(w) =  \\varepsilon^T\\varepsilon  \\\\\n",
        " & subject \\ to \\qquad \\qquad  y = Xw + \\varepsilon  \n",
        "\\end{align}\n",
        "$ \n",
        "------\n",
        "------\n",
        "\n",
        "\n",
        "<br>\n",
        "  1.  Parameter Estimation<br>\n",
        "  - $n$개의 $X_i=[x_{i1}, x_{i2}, ..., x_{ip}], i=1,2,...,n$의 조건에서 $n$개의 $y_i$를 관측<br>\n",
        "    $ y_i =w_0 + w_1 x_{i1} + \\cdots + w_{p} x_{ip} + \\varepsilon_i, i=1,...,n $ <br>\n"
      ]
    },
    {
      "cell_type": "markdown",
      "id": "abad76d1",
      "metadata": {
        "id": "abad76d1"
      },
      "source": [
        "##### 벡터 표현\n",
        "\n",
        "$\n",
        "\\begin{align}\n",
        "\\qquad y_1 &= w_0 + w_1 x_{11} + w_2 x_{21} + ...  + w_p x_{1p} + \\varepsilon_1 \\\\\n",
        "       y_2 &= w_0 + w_1 x_{12} + w_2 x_{22} + ...  + w_p x_{2p} + \\varepsilon_2 \\\\\n",
        "           &. \\\\\n",
        "           &. \\\\\n",
        "           &. \\\\\n",
        "       y_n &= w_0 + w_1 x_{1n} + w_2 x_{2n} + ...  + w_p x_{np} + \\varepsilon_n\n",
        "\\end{align}   \n",
        "$\n",
        "\n",
        "\n",
        "$\\Longrightarrow \\qquad  y=Xw+\\varepsilon$\n",
        "\n",
        "$ \\qquad \\qquad\n",
        "y = \n",
        "\\begin{bmatrix}\n",
        "y_1 \\\\\n",
        "y_2 \\\\\n",
        "\\vdots \\\\\n",
        "y_n \\\\\n",
        "\\end{bmatrix}\n",
        "$, \n",
        "$\n",
        "X =\n",
        "\\begin{bmatrix}\n",
        "x_{11} \\ x_{12} & \\cdots & x_{1p} \\\\\n",
        "x_{21} \\ x_{22} & \\cdots & x_{2p} \\\\\n",
        "\\vdots \\ \\vdots & \\ddots & \\vdots \\\\\n",
        "x_{n1} \\ x_{n2} & \\cdots & x_{np} \\\\\n",
        "\\end{bmatrix}\n",
        "$, \n",
        "$\n",
        "w = \n",
        "\\begin{bmatrix}\n",
        "w_1 \\\\\n",
        "w_2 \\\\\n",
        "\\vdots \\\\\n",
        "w_p \\\\\n",
        "\\end{bmatrix}\n",
        "$, \n",
        "$\n",
        "\\varepsilon = \n",
        "\\begin{bmatrix}\n",
        "\\varepsilon_1 \\\\\n",
        "\\varepsilon_2 \\\\\n",
        "\\vdots \\\\\n",
        "\\varepsilon_n \\\\\n",
        "\\end{bmatrix}\n",
        "$\n",
        "\n",
        "$\\qquad \\qquad \\quad (n \\times 1)  \\qquad \\qquad  (n \\times p) \\qquad \\qquad  (n \\times 1) \\qquad  (n \\times 1)$"
      ]
    },
    {
      "cell_type": "markdown",
      "id": "ff1de535",
      "metadata": {
        "id": "ff1de535"
      },
      "source": [
        "$ \\underset{(n \\times 1)}{y} = \\underset{(n \\times p)}{X} \\underset{(p \\times 1)}{w} + \\underset{(n \\times 1)}{\\varepsilon}$ <br><br>\n",
        "$Loss(w) = \\varepsilon^T\\varepsilon = (y-Xw)^T(y-Xw)=y^Ty-2w^TX^Ty+w^TX^TXw$ <br><br>\n",
        "$\\frac{\\partial Loss(w)}{\\partial w}=0$를 만족하는 $w$를 구하면 됨<br>\n",
        "$\\frac{\\partial Loss(w)}{\\partial w}=-2X^Ty+2X^TXw$<br>\n",
        "$ {w} = (X^TX)^{-1}X^Ty $"
      ]
    },
    {
      "cell_type": "markdown",
      "id": "897135d9",
      "metadata": {
        "id": "897135d9"
      },
      "source": [
        "#####   (2.2) Gradient Descent Method를 이용한 Regression Parameter $w$추정"
      ]
    },
    {
      "cell_type": "markdown",
      "id": "bdbe920d",
      "metadata": {
        "id": "bdbe920d"
      },
      "source": [
        "- $Gradient Descent$를 이용한 방법<br>\n",
        "$ \\qquad w^{(i+1)} = w^{(i)} - \\rho \\nabla L(w^{(i)}) $<br>\n",
        "$\\qquad 여기서 \\ \\rho: 학습율,  \\nabla L(w^{(i)})={\\frac{\\partial L(w)}{\\partial w}}|_{w=w^{i}}$\n",
        "\n",
        "<figure>\n",
        "<img src=\"https://drive.google.com/uc?export=view&id=1txeHBV8wu7E_W1sMvYvPxxJBmeL4wrjz\"/, height=400,width=600>\n",
        "</figure>\n"
      ]
    },
    {
      "cell_type": "markdown",
      "id": "d7b3a048",
      "metadata": {
        "id": "d7b3a048"
      },
      "source": [
        "#### (예제 1) Gradient Descent 예\n",
        "$y=x^2$의 최소값을 Gradient descent를 이용하여 찾는 프로그램을 작성하시오"
      ]
    },
    {
      "cell_type": "code",
      "execution_count": null,
      "id": "b761d581",
      "metadata": {
        "id": "b761d581"
      },
      "outputs": [],
      "source": [
        "import random\n",
        "import matplotlib.pyplot as plt\n",
        "\n",
        "def f(x):\n",
        "     return x ** 2"
      ]
    },
    {
      "cell_type": "code",
      "execution_count": null,
      "id": "ac783a0d",
      "metadata": {
        "colab": {
          "base_uri": "https://localhost:8080/",
          "height": 265
        },
        "id": "ac783a0d",
        "outputId": "017492f4-be67-4869-9441-9bbbae3d7e4d"
      },
      "outputs": [
        {
          "output_type": "display_data",
          "data": {
            "text/plain": [
              "<Figure size 432x288 with 1 Axes>"
            ],
            "image/png": "[encoded data removed]"
          },
          "metadata": {
            "needs_background": "light"
          }
        }
      ],
      "source": [
        "# 그래프를 그릴 x값의 범위 (-3.0, -2.9, ..., 2.9, 3.0)\n",
        "xs = [x / 10 for x in range(-30, 31)]\n",
        "# 그래프를 그릴 y 좌표들\n",
        "ys = [f(x) for x in xs]\n",
        "\n",
        "plt.plot(xs, ys)\n",
        "plt.show()"
      ]
    },
    {
      "cell_type": "markdown",
      "id": "878eceae",
      "metadata": {
        "id": "878eceae"
      },
      "source": [
        "#### (예제 2) Linear Regression의 예"
      ]
    },
    {
      "cell_type": "markdown",
      "id": "a3ada5f3",
      "metadata": {
        "id": "a3ada5f3"
      },
      "source": [
        "- 가상 data의 생성"
      ]
    },
    {
      "cell_type": "code",
      "execution_count": null,
      "id": "a30523a8",
      "metadata": {
        "id": "a30523a8"
      },
      "outputs": [],
      "source": [
        "import numpy.random as rnd\n",
        "X = 3*rnd.rand(100, 1) # X=100개의 난수를 생성하여 3를 곱한 수\n",
        "y = 2 + 4*X + rnd.randn(100, 1)  # 생성된 난수 X를 이용하여 y 난수를 생성"
      ]
    },
    {
      "cell_type": "markdown",
      "id": "c01b0f18",
      "metadata": {
        "id": "c01b0f18"
      },
      "source": [
        "-  (X, y)의 plot"
      ]
    },
    {
      "cell_type": "code",
      "execution_count": null,
      "id": "3bdde766",
      "metadata": {
        "id": "3bdde766",
        "outputId": "3f6df5c0-b093-456e-dd6c-cf924b2a0406"
      },
      "outputs": [
        {
          "data": {
            "image/png": "[encoded data removed]",
            "text/plain": [
              "<Figure size 432x288 with 1 Axes>"
            ]
          },
          "metadata": {
            "needs_background": "light"
          },
          "output_type": "display_data"
        }
      ],
      "source": [
        "import matplotlib\n",
        "import matplotlib.pyplot as plt\n",
        "\n",
        "plt.plot(X, y, \"r.\")\n",
        "plt.xlabel(\"$x$\", fontsize=18)\n",
        "plt.ylabel(\"$y$\", rotation=0, fontsize=12)\n",
        "plt.axis([-1, 4, 0, 16])\n",
        "plt.show()"
      ]
    },
    {
      "cell_type": "markdown",
      "id": "9a97910f",
      "metadata": {
        "id": "9a97910f"
      },
      "source": [
        "- sklearn을 이용한 Regression parameter의 추정"
      ]
    },
    {
      "cell_type": "code",
      "execution_count": null,
      "id": "f88d9d5f",
      "metadata": {
        "id": "f88d9d5f",
        "outputId": "30ad02d1-6081-40dd-fe70-6d57cb619315"
      },
      "outputs": [
        {
          "name": "stdout",
          "output_type": "stream",
          "text": [
            "intercept =\n",
            "[2.34386919]\n",
            "\n",
            "slope =\n",
            "[[3.83431572]]\n",
            "\n"
          ]
        }
      ],
      "source": [
        "from sklearn.linear_model import LinearRegression\n",
        "\n",
        "lin_reg = LinearRegression()\n",
        "lin_reg.fit(X, y)\n",
        "intercept = lin_reg.intercept_  # intercept_는 class내의 내부변수\n",
        "slope = lin_reg.coef_\n",
        "\n",
        "print('intercept =\\n{}\\n'.format(intercept))\n",
        "print('slope =\\n{}\\n'.format(slope))\n"
      ]
    },
    {
      "cell_type": "markdown",
      "id": "866eb994",
      "metadata": {
        "id": "866eb994"
      },
      "source": [
        "- Regression (X, y)의 관계식 그래프"
      ]
    },
    {
      "cell_type": "code",
      "execution_count": null,
      "id": "550cf650",
      "metadata": {
        "id": "550cf650",
        "outputId": "de466133-6725-47c9-a4b5-506584c50342"
      },
      "outputs": [
        {
          "data": {
            "image/png": "[encoded data removed]",
            "text/plain": [
              "<Figure size 432x288 with 1 Axes>"
            ]
          },
          "metadata": {
            "needs_background": "light"
          },
          "output_type": "display_data"
        }
      ],
      "source": [
        "import matplotlib\n",
        "import matplotlib.pyplot as plt\n",
        "\n",
        "y_predict = lin_reg.predict(X)\n",
        "plt.plot(X, y_predict, \"r-\", linewidth=2, label=\"Predictions\")\n",
        "\n",
        "plt.plot(X, y, \"b.\")\n",
        "plt.xlabel(\"$x_1$\", fontsize=12)\n",
        "plt.ylabel(\"$y$\", rotation=0, fontsize=12)\n",
        "plt.legend(loc=\"upper left\", fontsize=12)\n",
        "plt.axis([-1, 4, 0, 16])\n",
        "plt.show()"
      ]
    },
    {
      "cell_type": "markdown",
      "id": "4bd5d8a6",
      "metadata": {
        "id": "4bd5d8a6"
      },
      "source": [
        "- X_new=[[1], [2], [3]] 일 때 y의 예측값을 출력"
      ]
    },
    {
      "cell_type": "code",
      "execution_count": null,
      "id": "226b7e80",
      "metadata": {
        "id": "226b7e80",
        "outputId": "d244d750-8a99-4f96-f654-0d03437b941b"
      },
      "outputs": [
        {
          "data": {
            "text/plain": [
              "array([[ 6.1781849 ],\n",
              "       [13.84681633],\n",
              "       [10.01250062]])"
            ]
          },
          "execution_count": 47,
          "metadata": {},
          "output_type": "execute_result"
        }
      ],
      "source": [
        "X_new = [[1],[3], [2]]\n",
        "y_predict = lin_reg.predict(X_new)\n",
        "y_predict"
      ]
    },
    {
      "cell_type": "markdown",
      "id": "810fcaa9",
      "metadata": {
        "id": "810fcaa9"
      },
      "source": [
        "#### (예제 2) Non-linear Regression의 예"
      ]
    },
    {
      "cell_type": "markdown",
      "id": "283cbd95",
      "metadata": {
        "id": "283cbd95"
      },
      "source": [
        "- $(X, y)$ dataset 생성"
      ]
    },
    {
      "cell_type": "code",
      "execution_count": null,
      "id": "4c597aff",
      "metadata": {
        "id": "4c597aff",
        "outputId": "08b09df2-ce24-4fed-a449-9a3b0b3d2038"
      },
      "outputs": [
        {
          "data": {
            "image/png": "[encoded data removed]",
            "text/plain": [
              "<Figure size 432x288 with 1 Axes>"
            ]
          },
          "metadata": {
            "needs_background": "light"
          },
          "output_type": "display_data"
        }
      ],
      "source": [
        "m = 100\n",
        "X = 6 * np.random.rand(m,1) - 3\n",
        "y = 0.5 * X**2 + X + 2 + np.random.randn(m, 1)\n",
        "\n",
        "plt.plot(X, y, \"b.\")\n",
        "plt.xlabel(\"$x_1$\", fontsize=18)\n",
        "plt.ylabel(\"$y$\", rotation=0, fontsize=18)\n",
        "plt.axis([-3, 3, 0, 10])\n",
        "plt.show()"
      ]
    },
    {
      "cell_type": "code",
      "execution_count": null,
      "id": "81c1cbe6",
      "metadata": {
        "id": "81c1cbe6",
        "outputId": "2c7194cf-8bae-4650-a4cd-69913d408b79"
      },
      "outputs": [
        {
          "name": "stdout",
          "output_type": "stream",
          "text": [
            "\n",
            "첫번째 X=[-2.24704289]\n",
            "첫번째 X의 Polynomial term =[-2.24704289  5.04920176]\n",
            "\n",
            "\n"
          ]
        }
      ],
      "source": [
        "from sklearn.preprocessing import PolynomialFeatures\n",
        "\n",
        "poly_features = PolynomialFeatures(degree=2, include_bias = False)\n",
        "X_poly = poly_features.fit_transform(X)\n",
        "print('\\n첫번째 X={}\\n첫번째 X의 Polynomial term ={}\\n\\n'.format(X[0], X_poly[0]))"
      ]
    },
    {
      "cell_type": "code",
      "execution_count": null,
      "id": "3372c695",
      "metadata": {
        "id": "3372c695",
        "outputId": "a208d406-9e41-428b-99b2-a6df79b34d06"
      },
      "outputs": [
        {
          "name": "stdout",
          "output_type": "stream",
          "text": [
            "\n",
            "intercept_=[2.36443673]\n",
            "coef_=[[1.0302171  0.43495544]]\n",
            "\n",
            "\n"
          ]
        }
      ],
      "source": [
        "lin_reg = LinearRegression()\n",
        "lin_reg.fit(X_poly, y)\n",
        "print('\\nintercept_={}\\ncoef_={}\\n\\n'.format(lin_reg.intercept_, lin_reg.coef_))"
      ]
    },
    {
      "cell_type": "code",
      "execution_count": null,
      "id": "fad00e18",
      "metadata": {
        "id": "fad00e18",
        "outputId": "9d52181c-9d4b-4da6-aa46-68ee200a736c"
      },
      "outputs": [
        {
          "data": {
            "image/png": "[encoded data removed]",
            "text/plain": [
              "<Figure size 432x288 with 1 Axes>"
            ]
          },
          "metadata": {
            "needs_background": "light"
          },
          "output_type": "display_data"
        }
      ],
      "source": [
        "X_new=np.linspace(-3, 3, 100).reshape(100, 1)\n",
        "X_new_poly = poly_features.transform(X_new)\n",
        "y_new = lin_reg.predict(X_new_poly)\n",
        "\n",
        "plt.plot(X, y, \"b.\")\n",
        "plt.plot(X_new, y_new, \"r-\", linewidth=2, label=\"Predictions\")\n",
        "plt.xlabel(\"$x$\", fontsize=14)\n",
        "plt.ylabel(\"$y$\", rotation=0, fontsize=14)\n",
        "plt.legend(loc=\"upper left\", fontsize=14)\n",
        "plt.axis([-3, 3, 0, 10])\n",
        "plt.show()"
      ]
    },
    {
      "cell_type": "code",
      "execution_count": null,
      "id": "37da620d",
      "metadata": {
        "id": "37da620d",
        "outputId": "fd9e5224-18b3-4835-8fef-a7d41a4f6b47"
      },
      "outputs": [
        {
          "data": {
            "image/png": "[encoded data removed]",
            "text/plain": [
              "<Figure size 432x288 with 1 Axes>"
            ]
          },
          "metadata": {
            "needs_background": "light"
          },
          "output_type": "display_data"
        },
        {
          "data": {
            "image/png": "[encoded data removed]",
            "text/plain": [
              "<Figure size 432x288 with 1 Axes>"
            ]
          },
          "metadata": {
            "needs_background": "light"
          },
          "output_type": "display_data"
        },
        {
          "data": {
            "image/png": "[encoded data removed]",
            "text/plain": [
              "<Figure size 432x288 with 1 Axes>"
            ]
          },
          "metadata": {
            "needs_background": "light"
          },
          "output_type": "display_data"
        }
      ],
      "source": [
        "from sklearn.preprocessing import StandardScaler\n",
        "from sklearn.pipeline import Pipeline\n",
        "\n",
        "for style, width, degree in ((\"g-\", 1, 300), (\"b--\", 2, 2), (\"r-+\", 2, 1)):\n",
        "   polybig_features = PolynomialFeatures(degree=degree, include_bias=False)\n",
        "   std_scaler = StandardScaler()\n",
        "   lin_reg = LinearRegression()\n",
        "   polynomial_regression = Pipeline((\n",
        "         (\"poly_features\", polybig_features),\n",
        "         (\"std_scaler\", std_scaler),\n",
        "         (\"lin_reg\", lin_reg),\n",
        "     ))\n",
        "   polynomial_regression.fit(X, y)\n",
        "   y_newbig = polynomial_regression.predict(X_new)\n",
        "   plt.plot(X_new, y_newbig, style, label=str(degree), linewidth=width)\n",
        "\n",
        "   plt.plot(X, y, \"b.\", linewidth=3)\n",
        "   plt.legend(loc=\"upper left\")\n",
        "   plt.xlabel(\"$x_1$\", fontsize=18)\n",
        "   plt.ylabel(\"$y$\", rotation=0, fontsize=18)\n",
        "   plt.axis([-3, 3, 0, 10])\n",
        "   plt.show()"
      ]
    },
    {
      "cell_type": "markdown",
      "id": "9a74f473",
      "metadata": {
        "id": "9a74f473"
      },
      "source": [
        "#### (예제 3) Non-linear Regression의 예"
      ]
    },
    {
      "cell_type": "markdown",
      "id": "025da324",
      "metadata": {
        "id": "025da324"
      },
      "source": [
        "### 3. Function Approximation Algorithms방법인 Neural Networks \n",
        "- Machine Learning에서 supervised learning  function approximation으로 설명될 수 있음 <br>\n",
        "\\- 입력 $X \\in R^p$과 출력 $y \\in R^{OUT}$으로 구성된 dataset이 있을 때, $f: X \\rightarrow y$인 Unknown function $f$가 있다고 가정함<br>\n",
        "\\- Supervised Learning Algorithm은 함수 $f$를 근사화하는 방법임"
      ]
    },
    {
      "cell_type": "code",
      "execution_count": null,
      "id": "aa0db6db",
      "metadata": {
        "id": "aa0db6db",
        "outputId": "15674998-b83c-427a-dcda-1543ea3c90f4"
      },
      "outputs": [
        {
          "data": {
            "image/png": "[encoded data removed]",
            "text/plain": [
              "<Figure size 432x288 with 1 Axes>"
            ]
          },
          "metadata": {
            "needs_background": "light"
          },
          "output_type": "display_data"
        }
      ],
      "source": [
        "import matplotlib.pyplot as plt\n",
        "\n",
        "x = [i for i in range(-20,21)]\n",
        "\n",
        "y = [i**2.0 for i in x]\n",
        "\n",
        "plt.scatter(x,y)\n",
        "plt.title('Input (x) versus Output (y)')\n",
        "plt.xlabel('Input Variable (x)')\n",
        "plt.ylabel('Output Variable (y)')\n",
        "plt.show()"
      ]
    },
    {
      "cell_type": "markdown",
      "id": "d3965737",
      "metadata": {
        "id": "d3965737"
      },
      "source": [
        "##### Approximating a Simple Function"
      ]
    },
    {
      "cell_type": "code",
      "execution_count": null,
      "id": "0bf0ee52",
      "metadata": {
        "id": "0bf0ee52",
        "outputId": "919cfd37-6037-4870-85f7-492c7960e629"
      },
      "outputs": [
        {
          "name": "stdout",
          "output_type": "stream",
          "text": [
            "-50 50 0.0 2500.0\n"
          ]
        }
      ],
      "source": [
        "import numpy as np\n",
        "# define the dataset\n",
        "x = np.asarray([i for i in range(-50,51)])\n",
        "y = np.asarray([i**2.0 for i in x])\n",
        "print(x.min(), x.max(), y.min(), y.max())"
      ]
    },
    {
      "cell_type": "code",
      "execution_count": null,
      "id": "b2aa5a1a",
      "metadata": {
        "id": "b2aa5a1a"
      },
      "outputs": [],
      "source": [
        "# reshape arrays into into rows and cols\n",
        "x = x.reshape((len(x), 1))\n",
        "y = y.reshape((len(y), 1))"
      ]
    },
    {
      "cell_type": "code",
      "execution_count": null,
      "id": "b77ce5ea",
      "metadata": {
        "id": "b77ce5ea",
        "outputId": "57ce1aef-7b44-4099-b203-dd90ed900170"
      },
      "outputs": [
        {
          "name": "stdout",
          "output_type": "stream",
          "text": [
            "0.0 1.0 0.0 1.0\n"
          ]
        }
      ],
      "source": [
        "from sklearn.preprocessing import MinMaxScaler\n",
        "# separately scale the input and output variables\n",
        "scale_x = MinMaxScaler()\n",
        "x = scale_x.fit_transform(x)\n",
        "scale_y = MinMaxScaler()\n",
        "y = scale_y.fit_transform(y)\n",
        "print(x.min(), x.max(), y.min(), y.max())"
      ]
    },
    {
      "cell_type": "code",
      "execution_count": null,
      "id": "ef73aa8c",
      "metadata": {
        "id": "ef73aa8c"
      },
      "outputs": [],
      "source": [
        "from keras.layers import Dense, Flatten, Reshape\n",
        "from keras.models import Sequential\n",
        "\n",
        "model = Sequential()\n",
        "model.add(Dense(10, input_dim=1, activation='relu', kernel_initializer='he_uniform'))\n",
        "model.add(Dense(10, activation='relu', kernel_initializer='he_uniform'))\n",
        "model.add(Dense(1))"
      ]
    },
    {
      "cell_type": "code",
      "execution_count": null,
      "id": "93220a4f",
      "metadata": {
        "id": "93220a4f",
        "outputId": "20c8b0c1-61b1-4661-99aa-59e4a8306e48"
      },
      "outputs": [
        {
          "data": {
            "text/plain": [
              "<keras.callbacks.History at 0x18dd31a4fd0>"
            ]
          },
          "execution_count": 34,
          "metadata": {},
          "output_type": "execute_result"
        }
      ],
      "source": [
        "model.compile(loss='mse', optimizer='adam')\n",
        "model.fit(x, y, epochs=500, batch_size=10, verbose=0)"
      ]
    },
    {
      "cell_type": "code",
      "execution_count": null,
      "id": "d69bf0b7",
      "metadata": {
        "id": "d69bf0b7"
      },
      "outputs": [],
      "source": [
        "yhat = model.predict(x)"
      ]
    },
    {
      "cell_type": "code",
      "execution_count": null,
      "id": "82c38cb8",
      "metadata": {
        "id": "82c38cb8"
      },
      "outputs": [],
      "source": [
        "x_plot = scale_x.inverse_transform(x)\n",
        "y_plot = scale_y.inverse_transform(y)\n",
        "yhat_plot = scale_y.inverse_transform(yhat)\n",
        "#print('MSE: {}'.format(mean_squared_error(y_plot, yhat_plot)))"
      ]
    },
    {
      "cell_type": "code",
      "execution_count": null,
      "id": "9cbd995a",
      "metadata": {
        "id": "9cbd995a",
        "outputId": "9ce7fd8e-08a6-43bd-d25b-e4fe5383441b"
      },
      "outputs": [
        {
          "data": {
            "image/png": "[encoded data removed]",
            "text/plain": [
              "<Figure size 432x288 with 1 Axes>"
            ]
          },
          "metadata": {
            "needs_background": "light"
          },
          "output_type": "display_data"
        }
      ],
      "source": [
        "plt.scatter(x_plot,yhat_plot, label='Predicted')\n",
        "plt.title('Input (x) versus Output (y)')\n",
        "plt.xlabel('Input Variable (x)')\n",
        "plt.ylabel('Output Variable (y)')\n",
        "plt.legend()\n",
        "plt.show()"
      ]
    },
    {
      "cell_type": "code",
      "execution_count": null,
      "id": "908117e7",
      "metadata": {
        "id": "908117e7",
        "outputId": "b6f16ad1-836a-4b03-faca-d7a75705b8f4"
      },
      "outputs": [
        {
          "name": "stdout",
          "output_type": "stream",
          "text": [
            "-50 50 0.0 2500.0\n",
            "0.0 1.0 0.0 1.0\n"
          ]
        },
        {
          "data": {
            "image/png": "[encoded data removed]",
            "text/plain": [
              "<Figure size 432x288 with 1 Axes>"
            ]
          },
          "metadata": {
            "needs_background": "light"
          },
          "output_type": "display_data"
        }
      ],
      "source": [
        "from sklearn.metrics import mean_squared_error\n",
        "from keras.models import Sequential\n",
        "from keras.layers import Dense\n",
        "from numpy import asarray\n",
        "from matplotlib import pyplot\n",
        "\n",
        "# define the dataset\n",
        "x = asarray([i for i in range(-50,51)])\n",
        "y = asarray([i**2.0 for i in x])\n",
        "print(x.min(), x.max(), y.min(), y.max())\n",
        "\n",
        "# reshape arrays into into rows and cols\n",
        "x = x.reshape((len(x), 1))\n",
        "y = y.reshape((len(y), 1))\n",
        "\n",
        "# separately scale the input and output variables\n",
        "scale_x = MinMaxScaler()\n",
        "x = scale_x.fit_transform(x)\n",
        "scale_y = MinMaxScaler()\n",
        "y = scale_y.fit_transform(y)\n",
        "print(x.min(), x.max(), y.min(), y.max())\n",
        "# design the neural network model\n",
        "model = Sequential()\n",
        "model.add(Dense(10, input_dim=1, activation='relu', kernel_initializer='he_uniform'))\n",
        "model.add(Dense(10, activation='relu', kernel_initializer='he_uniform'))\n",
        "model.add(Dense(1))\n",
        "\n",
        "# define the loss function and optimization algorithm\n",
        "model.compile(loss='mse', optimizer='adam')\n",
        "\n",
        "# ft the model on the training dataset\n",
        "model.fit(x, y, epochs=500, batch_size=10, verbose=0)\n",
        "\n",
        "# make predictions for the input data\n",
        "yhat = model.predict(x)\n",
        "\n",
        "# inverse transforms\n",
        "x_plot = scale_x.inverse_transform(x)\n",
        "y_plot = scale_y.inverse_transform(y)\n",
        "yhat_plot = scale_y.inverse_transform(yhat)\n",
        "\n",
        "# report model error\n",
        "#print('MSE: %.3f' % mean_squared_error(y_plot, yhat_plot))\n",
        "# plot x vs y\n",
        "plt.scatter(x_plot,y_plot, label='Actual')\n",
        "# plot x vs yhat\n",
        "plt.scatter(x_plot,yhat_plot, label='Predicted')\n",
        "plt.title('Input (x) versus Output (y)')\n",
        "plt.xlabel('Input Variable (x)')\n",
        "plt.ylabel('Output Variable (y)')\n",
        "plt.legend()\n",
        "plt.show()"
      ]
    }
  ],
  "metadata": {
    "kernelspec": {
      "display_name": "Python 3",
      "language": "python",
      "name": "python3"
    },
    "language_info": {
      "codemirror_mode": {
        "name": "ipython",
        "version": 3
      },
      "file_extension": ".py",
      "mimetype": "text/x-python",
      "name": "python",
      "nbconvert_exporter": "python",
      "pygments_lexer": "ipython3",
      "version": "3.8.8"
    },
    "colab": {
      "name": "Approximation방법.ipynb",
      "provenance": [],
      "collapsed_sections": [
        "791e0115",
        "9a74f473"
      ]
    }
  },
  "nbformat": 4,
  "nbformat_minor": 5
}