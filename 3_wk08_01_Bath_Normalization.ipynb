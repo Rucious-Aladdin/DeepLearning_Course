{
  "cells": [
    {
      "cell_type": "markdown",
      "id": "98c7592f",
      "metadata": {
        "id": "98c7592f"
      },
      "source": [
        "**참고문헌: 핸즈온 머신러닝(2판), 올레리앙 제롱 지음, 박해선 옮김, 11장 – 심층 신경망 훈련하기**"
      ]
    },
    {
      "cell_type": "markdown",
      "id": "d64f3e3e",
      "metadata": {
        "id": "d64f3e3e"
      },
      "source": [
        "<table align=\"left\">\n",
        "  <td>\n",
        "    <a target=\"_blank\" href=\"https://colab.research.google.com/github/rickiepark/handson-ml2/blob/master/11_training_deep_neural_networks.ipynb\"><img src=\"https://www.tensorflow.org/images/colab_logo_32px.png\" />구글 코랩에서 실행하기</a>\n",
        "  </td>\n",
        "</table>"
      ]
    },
    {
      "cell_type": "markdown",
      "id": "ac978c5c",
      "metadata": {
        "id": "ac978c5c"
      },
      "source": [
        "# 설정"
      ]
    },
    {
      "cell_type": "markdown",
      "id": "2587df6c",
      "metadata": {
        "id": "2587df6c"
      },
      "source": [
        "먼저 몇 개의 모듈을 임포트합니다. 맷플롯립 그래프를 인라인으로 출력하도록 만들고 그림을 저장하는 함수를 준비합니다. 또한 파이썬 버전이 3.5 이상인지 확인합니다(파이썬 2.x에서도 동작하지만 곧 지원이 중단되므로 파이썬 3을 사용하는 것이 좋습니다). 사이킷런 버전이 0.20 이상인지와 텐서플로 버전이 2.0 이상인지 확인합니다."
      ]
    },
    {
      "cell_type": "code",
      "execution_count": null,
      "id": "3b742d72",
      "metadata": {
        "execution": {
          "iopub.execute_input": "2021-10-10T01:38:48.460540Z",
          "iopub.status.busy": "2021-10-10T01:38:48.459595Z",
          "iopub.status.idle": "2021-10-10T01:38:50.305510Z",
          "shell.execute_reply": "2021-10-10T01:38:50.304882Z"
        },
        "id": "3b742d72"
      },
      "outputs": [],
      "source": [
        "# 파이썬 ≥3.5 필수\n",
        "import sys\n",
        "assert sys.version_info >= (3, 5)\n",
        "\n",
        "# 사이킷런 ≥0.20 필수\n",
        "import sklearn\n",
        "assert sklearn.__version__ >= \"0.20\"\n",
        "\n",
        "# 텐서플로 ≥2.0 필수\n",
        "import tensorflow as tf\n",
        "from tensorflow import keras\n",
        "assert tf.__version__ >= \"2.0\"\n",
        "\n",
        "%load_ext tensorboard\n",
        "\n",
        "# 공통 모듈 임포트\n",
        "import numpy as np\n",
        "import os\n",
        "\n",
        "# 노트북 실행 결과를 동일하게 유지하기 위해\n",
        "np.random.seed(42)\n",
        "\n",
        "# 깔끔한 그래프 출력을 위해\n",
        "%matplotlib inline\n",
        "import matplotlib as mpl\n",
        "import matplotlib.pyplot as plt\n",
        "mpl.rc('axes', labelsize=14)\n",
        "mpl.rc('xtick', labelsize=12)\n",
        "mpl.rc('ytick', labelsize=12)\n",
        "\n",
        "# 그림을 저장할 위치\n",
        "PROJECT_ROOT_DIR = \".\"\n",
        "CHAPTER_ID = \"deep\"\n",
        "IMAGES_PATH = os.path.join(PROJECT_ROOT_DIR, \"images\", CHAPTER_ID)\n",
        "os.makedirs(IMAGES_PATH, exist_ok=True)\n",
        "\n",
        "def save_fig(fig_id, tight_layout=True, fig_extension=\"png\", resolution=300):\n",
        "    path = os.path.join(IMAGES_PATH, fig_id + \".\" + fig_extension)\n",
        "    print(\"그림 저장:\", fig_id)\n",
        "    if tight_layout:\n",
        "        plt.tight_layout()\n",
        "    plt.savefig(path, format=fig_extension, dpi=resolution)"
      ]
    },
    {
      "cell_type": "markdown",
      "id": "314ac252",
      "metadata": {
        "id": "314ac252"
      },
      "source": [
        "# 배치 정규화"
      ]
    },
    {
      "cell_type": "markdown",
      "source": [
        "ELU(또는 다른 ReLU 변종)와 함께 He 초기화를 사용하면 훈련 초기 단계에서 그레이디언트 소실이나 폭주 문제를 크게 감소시킬 수 있지만, 훈련하는 동안 다시 발생하지 않으리란 보장은 없습니다.\n",
        "\n",
        "2015년 한 논문에서 세르게이 이오페(Sergey Ioffe)와 치리슈티언 세게지(Christian Szegedy)가 그레이디언트 소실과 폭주 문제를 해결하기 위한 배치 정규화(batch normalization, BN) 기법(http://proceedings.mlr.press/v37/ioffe15.html)을 제안하였습니다. 이 기법은 각 층에서 활성화 함수를 통과하기 전이나 후에 모델에 연산을 하나 추가합니다. 이 연산은 단순하게 입력을 원점에 맞추고 정규화한 다음, 각 층에서 두개의 새로운 파라미터로 결과값의 스케일을 조정하고 이동 시킵니다. 하나는 스케일 조정에, 다른 하나는 이동에 사용합니다. 많은 경우 신경망의 첫 번째 층으로 배치 정규화를 추가하면 훈련 세트를 (예를 들어 StandardScaler를 사용하여) 표준화할 필요가 없습니다. 배치 정규화 층이 이런 역할을 대신합니다 (한 번에 하나의 배치만 처리하기 때문에 근사적입니다. 또한 입력 특성마다 스케일을 조정하고 이동할 수 있습니다.)"
      ],
      "metadata": {
        "id": "7v0ZkNCO8kon"
      },
      "id": "7v0ZkNCO8kon"
    },
    {
      "cell_type": "markdown",
      "source": [
        "블로그 그림 참조:https://gaussian37.github.io/dl-concept-batchnorm/\n",
        "\n",
        "입력 데이터를 원점에 맞추고 정규화하려면 알고리즘은 평균과 표준편차를 추정해야 합니다. 이를 위해 현재 미니배치에서 입력의 평균과 표준편차를 평가합니다 (그래서 이름이 배치 정규화입니다).\n",
        "\n",
        "\n",
        "**Equation 11-3: Batch Normalization algorithm**\n",
        "\n",
        "$\n",
        "\\begin{split}\n",
        "1.\\quad & \\mathbf{\\mu}_B = \\dfrac{1}{m_B}\\sum\\limits_{i=1}^{m_B}{\\mathbf{x}^{(i)}}\\\\\n",
        "2.\\quad & {\\mathbf{\\sigma}_B}^2 = \\dfrac{1}{m_B}\\sum\\limits_{i=1}^{m_B}{(\\mathbf{x}^{(i)} - \\mathbf{\\mu}_B)^2}\\\\\n",
        "3.\\quad & \\hat{\\mathbf{x}}^{(i)} = \\dfrac{\\mathbf{x}^{(i)} - \\mathbf{\\mu}_B}{\\sqrt{{\\mathbf{\\sigma}_B}^2 + \\epsilon}}\\\\\n",
        "4.\\quad & \\mathbf{z}^{(i)} = \\gamma \\otimes \\hat{\\mathbf{x}}^{(i)} + \\beta\n",
        "\\end{split}\n",
        "$\n"
      ],
      "metadata": {
        "id": "h6hiDUjR-dpH"
      },
      "id": "h6hiDUjR-dpH"
    },
    {
      "cell_type": "markdown",
      "source": [
        "이 알고리즘을 살펴 봅시다. \n",
        "\n",
        "*   ${\\mathbf{\\mu}}_B$는 미니배치 B에 대해 평가한 입력의 평균 벡터입니다 (입력마다 하나의 평균을 가집니다).\n",
        "*   ${\\sigma}_B$도 미니배치에 대해 평가한 입력의 표준편차 벡터입니다.\n",
        "*   $m_B$는 미니배치에 있는 샘플 수 입니다.\n",
        "*  $\\hat{\\mathbf{x}}^{(i)}$는 평균이 0이고 정규화된 샘플 i의 입력입니다.\n",
        "*  $\\gamma$는 층의 출력 스케일 파라미터 벡터입니다 (입력마다 하나의 스케일 파라미터가 있습니다)\n",
        "*  $\\otimes$는 원소별 곱셈(element-wise multiplication)입니다. \n",
        "* ${\\beta}$는 층의 출력 이동 (오프셋) 파라미터 벡터입니다 (입력마다 하나의 스케일 파라미터가 있습니다). 각 입력은 해당 파라미터만큼 이동합니다.\n",
        "* $\\epsilon$은 분모가 0이 되는 것을 막기 위한 작은 숫자(전형적으로 10^-5)입니다. 이를 안전을 위한 항(smoothing term)이라고 합니다.\n",
        "* $\\mathbf{z}^{(i)}$는 배치 정규화 연산의 출력입니다. 즉, 입력의 스케일을 조정하고 이동시킨 것입니다.\n"
      ],
      "metadata": {
        "id": "YVLQlxsv_NX2"
      },
      "id": "YVLQlxsv_NX2"
    },
    {
      "cell_type": "markdown",
      "source": [
        "훈련하는 동안 배치 정규화는 입력을 정규화한 다음 스케일을 조정하고 이동 시킵니다.테스트 시에는 어떻게 할까요? 샘플의 배치가 아니라 샘플 하나에 대한 예측을 만들어야 합니다. 이 경우 입력의 평균과 표준편차를 계산할 방법이 없습니다. 샘플의 배치를 사용한다 하더라도 매우 작거나 독립동일분포(independent indentically distributed)조건을 만족하지 못 할 수 있습니다. 이런 배치 샘플에서 배치 입력과 평균과 표쥰편차로 이 '최종'입력 평균과 표준편차를 대신 사용 할 수 있습니다. 그러나 대부분 배치 정규화 구현은 층의 입력 평균과 표준편차의 이동평균 (moving average)을 사용해 훈련하는 동안 최종 통계를 추정합니다.\n"
      ],
      "metadata": {
        "id": "8rO4TtDWDE8l"
      },
      "id": "8rO4TtDWDE8l"
    },
    {
      "cell_type": "markdown",
      "source": [
        "케라스의 BatchNormalization층은 이를 자동으로 수행합니다. 정리하면 배치 정규화 층마다 네 개의 파라미터 벡터가 학습됩니다. $\\gamma$(출력 스케일 벡터)와 ${\\beta}$(출력 이동벡터) 는 일반적인 역전파를 통해 학습됩니다. ${\\mathbf{\\mu}}$(최종 입력 평균 벡터) 와 ${\\sigma}$(최종 입력 퓨준편차 벡터)는 지수 이동 평균을 사용하여 추정됩니다. ${\\mathbf{\\mu}}$와 ${\\sigma}$는 훈련하는 동안 추정되지만 훈련이 끝난 후에 사용됩니다([식 11-3]에 있는 배치 입력 평균과 표준편차를 대체하기 위해). \n",
        "\n",
        "해당 방법을 통해 이미지넷 분류 작업에서 큰 성과를 냈습니다. 그레이디언트 소실 문제가 크게 감소하여 하이퍼볼릭 탄젠트나 로지스틱 활성화 함수 같은 수렴성을 가진 활성화 함수를 사용할 수 있습니다. 또 가중치 초기화 에 네트워크가 훨씬 덜 민감해집니다."
      ],
      "metadata": {
        "id": "MuOBSWX1D-XM"
      },
      "id": "MuOBSWX1D-XM"
    },
    {
      "cell_type": "markdown",
      "source": [
        "그러나 배치 정규화는 모델의 복잡도를 키웁니다. 더군다나 실행 시간면에서도 손해입니다. 층마다 추가되는 계산이 신경망의 예측을 느리게 합니다. 다행히 훈련이 끝난 후에 이전층과 배치 정규화 층을 합쳐 실행 속도 저하를 피할 수 있습니다. 이전의 가중치를 바꾸어 바로 스케일이 조정되고 이동된 출력을 만듭니다.\n",
        "\n",
        "예를 들면 이전 층이 $\\mathbf{XW+b}$를 계산하면 배치 정규화 층은 $\\gamma \\otimes(\\mathbf{XW+b-{\\mu}})/{\\sigma}+{\\beta}$를 계산합니다(분오에 안전을 위해 추가하는 항인 $\\epsilon$은 무시합니다). 만약 $\\mathbf{W'= \\gamma \\otimes W'/{\\sigma}}$와 $\\mathbf{b'= \\gamma \\otimes (b - \\mu)/{\\sigma}+\\beta}$를 정의하면 이식은  $\\mathbf{XW'+b'}$로 단순화 됩니다. 따라서 이전 층의 가중치와 편향( $\\mathbf{W}$ 와 $\\mathbf{b}$)을 업데이트된 가중치와 편향($\\mathbf{W'}$ 와 $\\mathbf{b'}$)으로 바꾸면 배치 정규화층을 제거 할 수 있습니다. \n",
        "\n",
        "* 배치 정규화를 사용할 때 에포크마다 더 많은 시간이 걸리므로 훈련이 오히려 느려질 수 있습니다. 하지만 배치 정규화를 사용하면 수렴이 훨씬 빨라지므로 보통 상쇄됩니다. 따라서 더 적은 에포크로 동일한 성능에 도달할 수 있습니다. 대체로 실제 걸리는 시간은 보통 더 짧습니다. "
      ],
      "metadata": {
        "id": "oa9VxnYhD-be"
      },
      "id": "oa9VxnYhD-be"
    },
    {
      "cell_type": "code",
      "source": [
        "(X_train_full, y_train_full), (X_test, y_test) = keras.datasets.fashion_mnist.load_data()\n",
        "X_train_full = X_train_full / 255.0\n",
        "X_test = X_test / 255.0\n",
        "X_valid, X_train = X_train_full[:5000], X_train_full[5000:]\n",
        "y_valid, y_train = y_train_full[:5000], y_train_full[5000:]"
      ],
      "metadata": {
        "colab": {
          "base_uri": "https://localhost:8080/"
        },
        "id": "CO3U4dVLaOZt",
        "outputId": "67069072-7d84-489f-ca55-b414c88418bf"
      },
      "id": "CO3U4dVLaOZt",
      "execution_count": null,
      "outputs": [
        {
          "output_type": "stream",
          "name": "stdout",
          "text": [
            "Downloading data from https://storage.googleapis.com/tensorflow/tf-keras-datasets/train-labels-idx1-ubyte.gz\n",
            "32768/29515 [=================================] - 0s 0us/step\n",
            "40960/29515 [=========================================] - 0s 0us/step\n",
            "Downloading data from https://storage.googleapis.com/tensorflow/tf-keras-datasets/train-images-idx3-ubyte.gz\n",
            "26427392/26421880 [==============================] - 0s 0us/step\n",
            "26435584/26421880 [==============================] - 0s 0us/step\n",
            "Downloading data from https://storage.googleapis.com/tensorflow/tf-keras-datasets/t10k-labels-idx1-ubyte.gz\n",
            "16384/5148 [===============================================================================================] - 0s 0us/step\n",
            "Downloading data from https://storage.googleapis.com/tensorflow/tf-keras-datasets/t10k-images-idx3-ubyte.gz\n",
            "4423680/4422102 [==============================] - 0s 0us/step\n",
            "4431872/4422102 [==============================] - 0s 0us/step\n"
          ]
        }
      ]
    },
    {
      "cell_type": "code",
      "execution_count": null,
      "id": "557af7d8",
      "metadata": {
        "execution": {
          "iopub.execute_input": "2021-10-10T01:43:52.857447Z",
          "iopub.status.busy": "2021-10-10T01:43:52.855778Z",
          "iopub.status.idle": "2021-10-10T01:43:52.908296Z",
          "shell.execute_reply": "2021-10-10T01:43:52.907832Z"
        },
        "id": "557af7d8"
      },
      "outputs": [],
      "source": [
        "model = keras.models.Sequential([\n",
        "    keras.layers.Flatten(input_shape=[28, 28]),\n",
        "    keras.layers.BatchNormalization(),\n",
        "    keras.layers.Dense(300, activation=\"relu\"),\n",
        "    keras.layers.BatchNormalization(),\n",
        "    keras.layers.Dense(100, activation=\"relu\"),\n",
        "    keras.layers.BatchNormalization(),\n",
        "    keras.layers.Dense(10, activation=\"softmax\")\n",
        "])"
      ]
    },
    {
      "cell_type": "code",
      "execution_count": null,
      "id": "af786544",
      "metadata": {
        "colab": {
          "base_uri": "https://localhost:8080/"
        },
        "execution": {
          "iopub.execute_input": "2021-10-10T01:43:52.913369Z",
          "iopub.status.busy": "2021-10-10T01:43:52.912925Z",
          "iopub.status.idle": "2021-10-10T01:43:52.916358Z",
          "shell.execute_reply": "2021-10-10T01:43:52.916724Z"
        },
        "id": "af786544",
        "outputId": "339a2440-95e8-40b0-ea62-7339af47df92"
      },
      "outputs": [
        {
          "output_type": "stream",
          "name": "stdout",
          "text": [
            "Model: \"sequential\"\n",
            "_________________________________________________________________\n",
            " Layer (type)                Output Shape              Param #   \n",
            "=================================================================\n",
            " flatten (Flatten)           (None, 784)               0         \n",
            "                                                                 \n",
            " batch_normalization (BatchN  (None, 784)              3136      \n",
            " ormalization)                                                   \n",
            "                                                                 \n",
            " dense (Dense)               (None, 300)               235500    \n",
            "                                                                 \n",
            " batch_normalization_1 (Batc  (None, 300)              1200      \n",
            " hNormalization)                                                 \n",
            "                                                                 \n",
            " dense_1 (Dense)             (None, 100)               30100     \n",
            "                                                                 \n",
            " batch_normalization_2 (Batc  (None, 100)              400       \n",
            " hNormalization)                                                 \n",
            "                                                                 \n",
            " dense_2 (Dense)             (None, 10)                1010      \n",
            "                                                                 \n",
            "=================================================================\n",
            "Total params: 271,346\n",
            "Trainable params: 268,978\n",
            "Non-trainable params: 2,368\n",
            "_________________________________________________________________\n"
          ]
        }
      ],
      "source": [
        "model.summary()"
      ]
    },
    {
      "cell_type": "code",
      "execution_count": null,
      "id": "10361733",
      "metadata": {
        "colab": {
          "base_uri": "https://localhost:8080/"
        },
        "execution": {
          "iopub.execute_input": "2021-10-10T01:43:52.921394Z",
          "iopub.status.busy": "2021-10-10T01:43:52.920950Z",
          "iopub.status.idle": "2021-10-10T01:43:52.925346Z",
          "shell.execute_reply": "2021-10-10T01:43:52.925703Z"
        },
        "id": "10361733",
        "outputId": "dbac165e-a6ef-44bf-fe02-a01b8690f28a",
        "scrolled": true
      },
      "outputs": [
        {
          "output_type": "execute_result",
          "data": {
            "text/plain": [
              "[('batch_normalization/gamma:0', True),\n",
              " ('batch_normalization/beta:0', True),\n",
              " ('batch_normalization/moving_mean:0', False),\n",
              " ('batch_normalization/moving_variance:0', False)]"
            ]
          },
          "metadata": {},
          "execution_count": 5
        }
      ],
      "source": [
        "bn1 = model.layers[1]\n",
        "[(var.name, var.trainable) for var in bn1.variables]"
      ]
    },
    {
      "cell_type": "code",
      "execution_count": null,
      "id": "337822eb",
      "metadata": {
        "execution": {
          "iopub.execute_input": "2021-10-10T01:43:52.928794Z",
          "iopub.status.busy": "2021-10-10T01:43:52.928358Z",
          "iopub.status.idle": "2021-10-10T01:43:52.931377Z",
          "shell.execute_reply": "2021-10-10T01:43:52.931028Z"
        },
        "id": "337822eb"
      },
      "outputs": [],
      "source": [
        "# updates 속성은 향후 삭제될 예정입니다.\n",
        "# bn1.updates"
      ]
    },
    {
      "cell_type": "code",
      "execution_count": null,
      "id": "25699140",
      "metadata": {
        "execution": {
          "iopub.execute_input": "2021-10-10T01:43:52.937867Z",
          "iopub.status.busy": "2021-10-10T01:43:52.937098Z",
          "iopub.status.idle": "2021-10-10T01:43:52.940350Z",
          "shell.execute_reply": "2021-10-10T01:43:52.940702Z"
        },
        "id": "25699140"
      },
      "outputs": [],
      "source": [
        "model.compile(loss=\"sparse_categorical_crossentropy\",\n",
        "              optimizer=keras.optimizers.SGD(learning_rate=1e-3),\n",
        "              metrics=[\"accuracy\"])"
      ]
    },
    {
      "cell_type": "code",
      "execution_count": null,
      "id": "02c22d64",
      "metadata": {
        "colab": {
          "base_uri": "https://localhost:8080/"
        },
        "execution": {
          "iopub.execute_input": "2021-10-10T01:43:52.944268Z",
          "iopub.status.busy": "2021-10-10T01:43:52.943817Z",
          "iopub.status.idle": "2021-10-10T01:44:41.349798Z",
          "shell.execute_reply": "2021-10-10T01:44:41.350233Z"
        },
        "id": "02c22d64",
        "outputId": "13f1b95c-6539-433b-f8ab-3ad24a370caa"
      },
      "outputs": [
        {
          "output_type": "stream",
          "name": "stdout",
          "text": [
            "Epoch 1/10\n",
            "1719/1719 [==============================] - 15s 5ms/step - loss: 0.8912 - accuracy: 0.7006 - val_loss: 0.5663 - val_accuracy: 0.8126\n",
            "Epoch 2/10\n",
            "1719/1719 [==============================] - 8s 5ms/step - loss: 0.5808 - accuracy: 0.8012 - val_loss: 0.4809 - val_accuracy: 0.8380\n",
            "Epoch 3/10\n",
            "1719/1719 [==============================] - 9s 5ms/step - loss: 0.5168 - accuracy: 0.8207 - val_loss: 0.4419 - val_accuracy: 0.8482\n",
            "Epoch 4/10\n",
            "1719/1719 [==============================] - 10s 6ms/step - loss: 0.4796 - accuracy: 0.8334 - val_loss: 0.4203 - val_accuracy: 0.8556\n",
            "Epoch 5/10\n",
            "1719/1719 [==============================] - 8s 5ms/step - loss: 0.4562 - accuracy: 0.8407 - val_loss: 0.4041 - val_accuracy: 0.8608\n",
            "Epoch 6/10\n",
            "1719/1719 [==============================] - 8s 5ms/step - loss: 0.4409 - accuracy: 0.8461 - val_loss: 0.3901 - val_accuracy: 0.8632\n",
            "Epoch 7/10\n",
            "1719/1719 [==============================] - 9s 5ms/step - loss: 0.4240 - accuracy: 0.8492 - val_loss: 0.3827 - val_accuracy: 0.8676\n",
            "Epoch 8/10\n",
            "1719/1719 [==============================] - 8s 5ms/step - loss: 0.4089 - accuracy: 0.8547 - val_loss: 0.3760 - val_accuracy: 0.8698\n",
            "Epoch 9/10\n",
            "1719/1719 [==============================] - 8s 5ms/step - loss: 0.4007 - accuracy: 0.8573 - val_loss: 0.3679 - val_accuracy: 0.8724\n",
            "Epoch 10/10\n",
            "1719/1719 [==============================] - 9s 5ms/step - loss: 0.3906 - accuracy: 0.8604 - val_loss: 0.3628 - val_accuracy: 0.8730\n"
          ]
        }
      ],
      "source": [
        "history = model.fit(X_train, y_train, epochs=10,\n",
        "                    validation_data=(X_valid, y_valid))"
      ]
    },
    {
      "cell_type": "markdown",
      "id": "69a162f2",
      "metadata": {
        "id": "69a162f2"
      },
      "source": [
        "이따금 활성화 함수전에 BN을 적용해도 잘 동작합니다(여기에는 논란의 여지가 있습니다). 또한 `BatchNormalization` 층 이전의 층은 편향을 위한 항이 필요 없습니다. `BatchNormalization` 층이 이를 무효화하기 때문입니다. 따라서 필요 없는 파라미터이므로 `use_bias=False`를 지정하여 층을 만들 수 있습니다:"
      ]
    },
    {
      "cell_type": "code",
      "execution_count": null,
      "id": "13d59195",
      "metadata": {
        "execution": {
          "iopub.execute_input": "2021-10-10T01:44:41.353536Z",
          "iopub.status.busy": "2021-10-10T01:44:41.353031Z",
          "iopub.status.idle": "2021-10-10T01:44:41.410764Z",
          "shell.execute_reply": "2021-10-10T01:44:41.410358Z"
        },
        "id": "13d59195"
      },
      "outputs": [],
      "source": [
        "model = keras.models.Sequential([\n",
        "    keras.layers.Flatten(input_shape=[28, 28]),\n",
        "    keras.layers.BatchNormalization(),\n",
        "    keras.layers.Dense(300, use_bias=False),\n",
        "    keras.layers.BatchNormalization(),\n",
        "    keras.layers.Activation(\"relu\"),\n",
        "    keras.layers.Dense(100, use_bias=False),\n",
        "    keras.layers.BatchNormalization \n",
        "    keras.layers.Activation(\"relu\"),\n",
        "    keras.layers.Dense(10, activation=\"softmax\")\n",
        "])"
      ]
    },
    {
      "cell_type": "code",
      "execution_count": null,
      "id": "2c8feb34",
      "metadata": {
        "execution": {
          "iopub.execute_input": "2021-10-10T01:44:41.418004Z",
          "iopub.status.busy": "2021-10-10T01:44:41.417540Z",
          "iopub.status.idle": "2021-10-10T01:44:41.419833Z",
          "shell.execute_reply": "2021-10-10T01:44:41.419464Z"
        },
        "id": "2c8feb34"
      },
      "outputs": [],
      "source": [
        "model.compile(loss=\"sparse_categorical_crossentropy\",\n",
        "              optimizer=keras.optimizers.SGD(learning_rate=1e-3),\n",
        "              metrics=[\"accuracy\"])"
      ]
    },
    {
      "cell_type": "code",
      "execution_count": null,
      "id": "5a60faba",
      "metadata": {
        "colab": {
          "base_uri": "https://localhost:8080/"
        },
        "execution": {
          "iopub.execute_input": "2021-10-10T01:44:41.423897Z",
          "iopub.status.busy": "2021-10-10T01:44:41.423440Z",
          "iopub.status.idle": "2021-10-10T01:45:29.389120Z",
          "shell.execute_reply": "2021-10-10T01:45:29.389543Z"
        },
        "id": "5a60faba",
        "outputId": "0500902d-7469-4b16-971f-72b5c589b0a1"
      },
      "outputs": [
        {
          "output_type": "stream",
          "name": "stdout",
          "text": [
            "Epoch 1/10\n",
            "1719/1719 [==============================] - 9s 5ms/step - loss: 1.0361 - accuracy: 0.6784 - val_loss: 0.6752 - val_accuracy: 0.7910\n",
            "Epoch 2/10\n",
            "1719/1719 [==============================] - 8s 5ms/step - loss: 0.6807 - accuracy: 0.7831 - val_loss: 0.5563 - val_accuracy: 0.8192\n",
            "Epoch 3/10\n",
            "1719/1719 [==============================] - 8s 5ms/step - loss: 0.5929 - accuracy: 0.8065 - val_loss: 0.4988 - val_accuracy: 0.8360\n",
            "Epoch 4/10\n",
            "1719/1719 [==============================] - 8s 5ms/step - loss: 0.5488 - accuracy: 0.8181 - val_loss: 0.4648 - val_accuracy: 0.8450\n",
            "Epoch 5/10\n",
            "1719/1719 [==============================] - 8s 5ms/step - loss: 0.5159 - accuracy: 0.8258 - val_loss: 0.4412 - val_accuracy: 0.8534\n",
            "Epoch 6/10\n",
            "1719/1719 [==============================] - 8s 5ms/step - loss: 0.4939 - accuracy: 0.8325 - val_loss: 0.4242 - val_accuracy: 0.8588\n",
            "Epoch 7/10\n",
            "1719/1719 [==============================] - 8s 5ms/step - loss: 0.4721 - accuracy: 0.8391 - val_loss: 0.4102 - val_accuracy: 0.8626\n",
            "Epoch 8/10\n",
            "1719/1719 [==============================] - 9s 5ms/step - loss: 0.4565 - accuracy: 0.8436 - val_loss: 0.4002 - val_accuracy: 0.8658\n",
            "Epoch 9/10\n",
            "1719/1719 [==============================] - 8s 5ms/step - loss: 0.4467 - accuracy: 0.8456 - val_loss: 0.3905 - val_accuracy: 0.8688\n",
            "Epoch 10/10\n",
            "1719/1719 [==============================] - 8s 5ms/step - loss: 0.4323 - accuracy: 0.8504 - val_loss: 0.3838 - val_accuracy: 0.8688\n"
          ]
        }
      ],
      "source": [
        "history = model.fit(X_train, y_train, epochs=10,\n",
        "                    validation_data=(X_valid, y_valid))"
      ]
    },
    {
      "cell_type": "markdown",
      "source": [
        "성능 비교를 위해서 동일한 모델을 Batch Normalization 없이 훈련을 해보겠습니다."
      ],
      "metadata": {
        "id": "jXK8lrQFbNX6"
      },
      "id": "jXK8lrQFbNX6"
    },
    {
      "cell_type": "code",
      "source": [
        "model = keras.models.Sequential([\n",
        "    keras.layers.Flatten(input_shape=[28, 28]),\n",
        "#    keras.layers.BatchNormalization(),\n",
        "    keras.layers.Dense(300),\n",
        "# keras.layers.BatchNormalization(),\n",
        "    keras.layers.Activation(\"relu\"),\n",
        "    keras.layers.Dense(100),\n",
        "# keras.layers.BatchNormalization(),\n",
        "    keras.layers.Activation(\"relu\"),\n",
        "    keras.layers.Dense(10, activation=\"softmax\")\n",
        "])"
      ],
      "metadata": {
        "id": "Ehxv6eyMbTyc"
      },
      "id": "Ehxv6eyMbTyc",
      "execution_count": null,
      "outputs": []
    },
    {
      "cell_type": "code",
      "source": [
        "model.compile(loss=\"sparse_categorical_crossentropy\",\n",
        "              optimizer=keras.optimizers.SGD(learning_rate=1e-3),\n",
        "              metrics=[\"accuracy\"])"
      ],
      "metadata": {
        "id": "HCz0nKlnbdKQ"
      },
      "id": "HCz0nKlnbdKQ",
      "execution_count": null,
      "outputs": []
    },
    {
      "cell_type": "code",
      "source": [
        "history = model.fit(X_train, y_train, epochs=10,\n",
        "                    validation_data=(X_valid, y_valid))"
      ],
      "metadata": {
        "colab": {
          "base_uri": "https://localhost:8080/"
        },
        "id": "0LiA3mI2bfOf",
        "outputId": "7c786294-27bd-4dd6-bf3d-164231c8c6e6"
      },
      "id": "0LiA3mI2bfOf",
      "execution_count": null,
      "outputs": [
        {
          "output_type": "stream",
          "name": "stdout",
          "text": [
            "Epoch 1/10\n",
            "1719/1719 [==============================] - 6s 3ms/step - loss: 1.3777 - accuracy: 0.6023 - val_loss: 0.9190 - val_accuracy: 0.7074\n",
            "Epoch 2/10\n",
            "1719/1719 [==============================] - 6s 3ms/step - loss: 0.8237 - accuracy: 0.7266 - val_loss: 0.7332 - val_accuracy: 0.7622\n",
            "Epoch 3/10\n",
            "1719/1719 [==============================] - 6s 3ms/step - loss: 0.7022 - accuracy: 0.7704 - val_loss: 0.6497 - val_accuracy: 0.7930\n",
            "Epoch 4/10\n",
            "1719/1719 [==============================] - 6s 3ms/step - loss: 0.6363 - accuracy: 0.7926 - val_loss: 0.5972 - val_accuracy: 0.8082\n",
            "Epoch 5/10\n",
            "1719/1719 [==============================] - 6s 4ms/step - loss: 0.5927 - accuracy: 0.8057 - val_loss: 0.5629 - val_accuracy: 0.8202\n",
            "Epoch 6/10\n",
            "1719/1719 [==============================] - 6s 3ms/step - loss: 0.5616 - accuracy: 0.8144 - val_loss: 0.5357 - val_accuracy: 0.8284\n",
            "Epoch 7/10\n",
            "1719/1719 [==============================] - 6s 3ms/step - loss: 0.5381 - accuracy: 0.8203 - val_loss: 0.5151 - val_accuracy: 0.8350\n",
            "Epoch 8/10\n",
            "1719/1719 [==============================] - 6s 3ms/step - loss: 0.5197 - accuracy: 0.8255 - val_loss: 0.4996 - val_accuracy: 0.8384\n",
            "Epoch 9/10\n",
            "1719/1719 [==============================] - 6s 3ms/step - loss: 0.5047 - accuracy: 0.8299 - val_loss: 0.4867 - val_accuracy: 0.8416\n",
            "Epoch 10/10\n",
            "1719/1719 [==============================] - 6s 3ms/step - loss: 0.4927 - accuracy: 0.8334 - val_loss: 0.4763 - val_accuracy: 0.8442\n"
          ]
        }
      ]
    }
  ],
  "metadata": {
    "accelerator": "GPU",
    "colab": {
      "provenance": []
    },
    "kernelspec": {
      "display_name": "Python 3",
      "language": "python",
      "name": "python3"
    },
    "language_info": {
      "codemirror_mode": {
        "name": "ipython",
        "version": 3
      },
      "file_extension": ".py",
      "mimetype": "text/x-python",
      "name": "python",
      "nbconvert_exporter": "python",
      "pygments_lexer": "ipython3",
      "version": "3.7.3"
    },
    "nav_menu": {
      "height": "360px",
      "width": "416px"
    },
    "toc": {
      "navigate_menu": true,
      "number_sections": true,
      "sideBar": true,
      "threshold": 6,
      "toc_cell": false,
      "toc_section_display": "block",
      "toc_window_display": false
    }
  },
  "nbformat": 4,
  "nbformat_minor": 5
}