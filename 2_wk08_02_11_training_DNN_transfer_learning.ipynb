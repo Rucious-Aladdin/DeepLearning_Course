{
  "cells": [
    {
      "cell_type": "markdown",
      "id": "98c7592f",
      "metadata": {
        "id": "98c7592f"
      },
      "source": [
        "**참고문헌: 핸즈온 머신러닝(2판), 올레리앙 제롱 지음, 박해선 옮김, 11장 – 심층 신경망 훈련하기**"
      ]
    },
    {
      "cell_type": "markdown",
      "id": "d64f3e3e",
      "metadata": {
        "id": "d64f3e3e"
      },
      "source": [
        "<table align=\"left\">\n",
        "  <td>\n",
        "    <a target=\"_blank\" href=\"https://colab.research.google.com/github/rickiepark/handson-ml2/blob/master/11_training_deep_neural_networks.ipynb\"><img src=\"https://www.tensorflow.org/images/colab_logo_32px.png\" />구글 코랩에서 실행하기</a>\n",
        "  </td>\n",
        "</table>"
      ]
    },
    {
      "cell_type": "markdown",
      "id": "ac978c5c",
      "metadata": {
        "id": "ac978c5c"
      },
      "source": [
        "# 설정"
      ]
    },
    {
      "cell_type": "markdown",
      "id": "2587df6c",
      "metadata": {
        "id": "2587df6c"
      },
      "source": [
        "먼저 몇 개의 모듈을 임포트합니다. 맷플롯립 그래프를 인라인으로 출력하도록 만들고 그림을 저장하는 함수를 준비합니다. 또한 파이썬 버전이 3.5 이상인지 확인합니다(파이썬 2.x에서도 동작하지만 곧 지원이 중단되므로 파이썬 3을 사용하는 것이 좋습니다). 사이킷런 버전이 0.20 이상인지와 텐서플로 버전이 2.0 이상인지 확인합니다."
      ]
    },
    {
      "cell_type": "code",
      "execution_count": null,
      "id": "3b742d72",
      "metadata": {
        "execution": {
          "iopub.execute_input": "2021-10-10T01:38:48.460540Z",
          "iopub.status.busy": "2021-10-10T01:38:48.459595Z",
          "iopub.status.idle": "2021-10-10T01:38:50.305510Z",
          "shell.execute_reply": "2021-10-10T01:38:50.304882Z"
        },
        "id": "3b742d72",
        "colab": {
          "base_uri": "https://localhost:8080/"
        },
        "outputId": "6c70dbd6-eca7-43b4-cacb-6e8479245f27"
      },
      "outputs": [
        {
          "output_type": "stream",
          "name": "stdout",
          "text": [
            "The tensorboard extension is already loaded. To reload it, use:\n",
            "  %reload_ext tensorboard\n"
          ]
        }
      ],
      "source": [
        "# 파이썬 ≥3.5 필수\n",
        "import sys\n",
        "assert sys.version_info >= (3, 5)\n",
        "\n",
        "# 사이킷런 ≥0.20 필수\n",
        "import sklearn\n",
        "assert sklearn.__version__ >= \"0.20\"\n",
        "\n",
        "# 텐서플로 ≥2.0 필수\n",
        "import tensorflow as tf\n",
        "from tensorflow import keras\n",
        "assert tf.__version__ >= \"2.0\"\n",
        "\n",
        "%load_ext tensorboard\n",
        "\n",
        "# 공통 모듈 임포트\n",
        "import numpy as np\n",
        "import os\n",
        "\n",
        "# 노트북 실행 결과를 동일하게 유지하기 위해\n",
        "np.random.seed(42)\n",
        "\n",
        "# 깔끔한 그래프 출력을 위해\n",
        "%matplotlib inline\n",
        "import matplotlib as mpl\n",
        "import matplotlib.pyplot as plt\n",
        "mpl.rc('axes', labelsize=14)\n",
        "mpl.rc('xtick', labelsize=12)\n",
        "mpl.rc('ytick', labelsize=12)\n",
        "\n",
        "# 그림을 저장할 위치\n",
        "PROJECT_ROOT_DIR = \".\"\n",
        "CHAPTER_ID = \"deep\"\n",
        "IMAGES_PATH = os.path.join(PROJECT_ROOT_DIR, \"images\", CHAPTER_ID)\n",
        "os.makedirs(IMAGES_PATH, exist_ok=True)\n",
        "\n",
        "def save_fig(fig_id, tight_layout=True, fig_extension=\"png\", resolution=300):\n",
        "    path = os.path.join(IMAGES_PATH, fig_id + \".\" + fig_extension)\n",
        "    print(\"그림 저장:\", fig_id)\n",
        "    if tight_layout:\n",
        "        plt.tight_layout()\n",
        "    plt.savefig(path, format=fig_extension, dpi=resolution)"
      ]
    },
    {
      "cell_type": "markdown",
      "id": "73c203ed",
      "metadata": {
        "id": "73c203ed"
      },
      "source": [
        "## 사전 훈련된 층 재사용하기: 전이 학습(transfer learning)"
      ]
    },
    {
      "cell_type": "markdown",
      "source": [
        "일반적으로 아주 큰 규모의 DNN을 처음부터 새로 훈련하는 것은 좋은 생각이 아닙니다. 해결하려는 것과 비슷한 유형의 문제를 처리한 신경망이 이미 있는지 찾아 본 다음, 그 신경망의 하위층을 재사용하는 것이 좋을 수 있습니다. 이를 전이 학습(transfer learning)이라고 합니다. 이 방법은 훈련 속도를 크게 높일 뿐만 아니라 필요한 훈련 데이터도 크게 줄여줍니다."
      ],
      "metadata": {
        "id": "VmwyDX2wSdWZ"
      },
      "id": "VmwyDX2wSdWZ"
    },
    {
      "cell_type": "markdown",
      "source": [
        "동물, 식물, 자동차, 생활용품을 포함해 카테고리 100개로 구분된 이미지를 분류하도록 훈련한 DNN을 가지고 있다고 가정합시다. 그리고 이제 구체적인 자동차의 종류를 분류하는 DNN을 훈련하려고 합니다. 이런 작업들은 비슷한 점이 많고 심지어 일부 겹치기도 하므로 첫 번째 신경망의 일부를 재사용해봐야합니다. \n",
        "\n",
        "<figure>\n",
        "<img src=\"https://raw.githubusercontent.com/Hyun-chul/DeepLearning/main/%EA%B7%B8%EB%A6%BC11-4%20%EC%82%AC%EC%A0%84%ED%9B%88%EB%A0%A8%EB%90%9C%20%EC%B8%B5%20%EC%9E%AC%EC%82%AC%EC%9A%A9%ED%95%98%EA%B8%B0.png\"/>\n",
        "</figure>"
      ],
      "metadata": {
        "id": "hJzgsOwPS3GV"
      },
      "id": "hJzgsOwPS3GV"
    },
    {
      "cell_type": "markdown",
      "source": [
        "**NOTE:**  만약 원래 문제에서 사용한 것과 크기가 다른 이미지를 입력으로 사용한다면 원본 모델에 맞는 크키로 변경하는 전처리 단계를 추가해야합니다. 일반적으로 전이 학습은 저수준 특성이 비슷한 입력에서 잘 작동합니다."
      ],
      "metadata": {
        "id": "iPLhbpm9T1lq"
      },
      "id": "iPLhbpm9T1lq"
    },
    {
      "cell_type": "markdown",
      "source": [
        "보통 원본 모델의 출력층을 바꿔야합니다. 이 층이 새로운 작업에 가장 유용하지 않는 층이고 새로운 작업에 필요한 출력 개수와 맞지 않을 수도 있습니다. 비슷하게 원본 모델의 상위 은닉층은 하위 은닉층보다 덜 유용합니다. 새로운 작업에 유용한 고수준 특성은 원본 작업에서 유용했던 특성과는 상당히 다르기 때문입니다. 재사용할 층 개수를 잘 선정하는 것이 필요합니다.\n",
        "\n",
        "**Tip: 작업이 비슷할수록(낮은 층부터 시작해서) 더 많은 층을 재사용하세요. 아주 비슷한 작업이라면 모든 은닉층을 유지하고 출력층만 교체합니다.**"
      ],
      "metadata": {
        "id": "yEDDqV9OUF8u"
      },
      "id": "yEDDqV9OUF8u"
    },
    {
      "cell_type": "markdown",
      "id": "8077ae0c",
      "metadata": {
        "id": "8077ae0c"
      },
      "source": [
        "### 케라스 모델 재사용하기"
      ]
    },
    {
      "cell_type": "markdown",
      "id": "08e04873",
      "metadata": {
        "id": "08e04873"
      },
      "source": [
        "패션 MNIST 훈련 세트를 두 개로 나누어 보죠:\n",
        "* `X_train_A`: 샌달과 셔츠(클래스 5와 6)을 제외한 모든 이미지\n",
        "* `X_train_B`: 샌달과 셔츠 이미지 중 처음 200개만 가진 작은 훈련 세트\n",
        "\n",
        "검증 세트와 테스트 세트도 이렇게 나눕니다. 하지만 이미지 개수는 제한하지 않습니다.\n",
        "\n",
        "A 세트(8개의 클래스를 가진 분류 문제)에서 모델을 훈련하고 이를 재사용하여 B 세트(이진 분류)를 해결해 보겠습니다. A 작업에서 B 작업으로 약간의 지식이 전달되기를 기대합니다. 왜냐하면 A 세트의 클래스(스니커즈, 앵클 부츠, 코트, 티셔츠 등)가 B 세트에 있는 클래스(샌달과 셔츠)와 조금 비슷하기 때문입니다. 하지만 `Dense` 층을 사용하기 때문에 동일한 위치에 나타난 패턴만 재사용할 수 있습니다(반대로 합성곱 층은 훨씬 많은 정보를 전송합니다. 학습한 패턴을 이미지의 어느 위치에서나 감지할 수 있기 때문입니다. CNN 장에서 자세히 알아 보겠습니다)."
      ]
    },
    {
      "cell_type": "code",
      "source": [
        "import numpy as np\n",
        "import tensorflow as tf\n",
        "import matplotlib.pyplot as plt\n",
        "import sklearn\n",
        "import sklearn.datasets\n",
        "%matplotlib inline\n",
        "\n",
        "\n",
        "(X_train_full, y_train_full), (X_test, y_test) = keras.datasets.fashion_mnist.load_data()\n",
        "X_train_full = X_train_full / 255.0\n",
        "X_test = X_test / 255.0\n",
        "X_valid, X_train = X_train_full[:5000], X_train_full[5000:]\n",
        "y_valid, y_train = y_train_full[:5000], y_train_full[5000:]"
      ],
      "metadata": {
        "id": "Q5LBtx_zVBmM"
      },
      "id": "Q5LBtx_zVBmM",
      "execution_count": null,
      "outputs": []
    },
    {
      "cell_type": "code",
      "execution_count": null,
      "id": "82c75561",
      "metadata": {
        "execution": {
          "iopub.execute_input": "2021-10-10T01:45:29.406937Z",
          "iopub.status.busy": "2021-10-10T01:45:29.406265Z",
          "iopub.status.idle": "2021-10-10T01:45:29.545344Z",
          "shell.execute_reply": "2021-10-10T01:45:29.545764Z"
        },
        "id": "82c75561"
      },
      "outputs": [],
      "source": [
        "def split_dataset(X, y):\n",
        "    y_5_or_6 = (y == 5) | (y == 6) # sandals or shirts\n",
        "    y_A = y[~y_5_or_6]\n",
        "    y_A[y_A > 6] -= 2 # class indices 7, 8, 9 should be moved to 5, 6, 7\n",
        "    y_B = (y[y_5_or_6] == 6).astype(np.float32) # binary classification task: is it a shirt (class 6)?\n",
        "    return ((X[~y_5_or_6], y_A),\n",
        "            (X[y_5_or_6], y_B))\n",
        "\n",
        "(X_train_A, y_train_A), (X_train_B, y_train_B) = split_dataset(X_train, y_train)\n",
        "(X_valid_A, y_valid_A), (X_valid_B, y_valid_B) = split_dataset(X_valid, y_valid)\n",
        "(X_test_A, y_test_A), (X_test_B, y_test_B) = split_dataset(X_test, y_test)\n",
        "X_train_B = X_train_B[:200]\n",
        "y_train_B = y_train_B[:200]"
      ]
    },
    {
      "cell_type": "code",
      "execution_count": null,
      "id": "6a06d79f",
      "metadata": {
        "colab": {
          "base_uri": "https://localhost:8080/"
        },
        "execution": {
          "iopub.execute_input": "2021-10-10T01:45:29.549685Z",
          "iopub.status.busy": "2021-10-10T01:45:29.549250Z",
          "iopub.status.idle": "2021-10-10T01:45:29.552047Z",
          "shell.execute_reply": "2021-10-10T01:45:29.552460Z"
        },
        "id": "6a06d79f",
        "outputId": "235a75b6-3c29-481c-86f9-af607e2ee064"
      },
      "outputs": [
        {
          "output_type": "execute_result",
          "data": {
            "text/plain": [
              "(43986, 28, 28)"
            ]
          },
          "metadata": {},
          "execution_count": 25
        }
      ],
      "source": [
        "X_train_A.shape"
      ]
    },
    {
      "cell_type": "code",
      "execution_count": null,
      "id": "45d00e30",
      "metadata": {
        "colab": {
          "base_uri": "https://localhost:8080/"
        },
        "execution": {
          "iopub.execute_input": "2021-10-10T01:45:29.556359Z",
          "iopub.status.busy": "2021-10-10T01:45:29.555909Z",
          "iopub.status.idle": "2021-10-10T01:45:29.560168Z",
          "shell.execute_reply": "2021-10-10T01:45:29.559793Z"
        },
        "id": "45d00e30",
        "outputId": "68949a1b-7e1b-40e7-86f5-b8e1552f9345"
      },
      "outputs": [
        {
          "output_type": "execute_result",
          "data": {
            "text/plain": [
              "(200, 28, 28)"
            ]
          },
          "metadata": {},
          "execution_count": 26
        }
      ],
      "source": [
        "X_train_B.shape"
      ]
    },
    {
      "cell_type": "code",
      "execution_count": null,
      "id": "d1fa5a76",
      "metadata": {
        "colab": {
          "base_uri": "https://localhost:8080/"
        },
        "execution": {
          "iopub.execute_input": "2021-10-10T01:45:29.566054Z",
          "iopub.status.busy": "2021-10-10T01:45:29.564814Z",
          "iopub.status.idle": "2021-10-10T01:45:29.568414Z",
          "shell.execute_reply": "2021-10-10T01:45:29.567976Z"
        },
        "id": "d1fa5a76",
        "outputId": "81d7e0a4-7a64-47db-854d-a659a05da48b"
      },
      "outputs": [
        {
          "output_type": "execute_result",
          "data": {
            "text/plain": [
              "array([4, 0, 5, 7, 7, 7, 4, 4, 3, 4, 0, 1, 6, 3, 4, 3, 2, 6, 5, 3, 4, 5,\n",
              "       1, 3, 4, 2, 0, 6, 7, 1], dtype=uint8)"
            ]
          },
          "metadata": {},
          "execution_count": 27
        }
      ],
      "source": [
        "y_train_A[:30]"
      ]
    },
    {
      "cell_type": "code",
      "execution_count": null,
      "id": "e9075792",
      "metadata": {
        "colab": {
          "base_uri": "https://localhost:8080/"
        },
        "execution": {
          "iopub.execute_input": "2021-10-10T01:45:29.573570Z",
          "iopub.status.busy": "2021-10-10T01:45:29.573056Z",
          "iopub.status.idle": "2021-10-10T01:45:29.575830Z",
          "shell.execute_reply": "2021-10-10T01:45:29.576238Z"
        },
        "id": "e9075792",
        "outputId": "cd32e9db-02a4-4456-89e5-6fecd1480838"
      },
      "outputs": [
        {
          "output_type": "execute_result",
          "data": {
            "text/plain": [
              "array([1., 1., 0., 0., 0., 0., 1., 1., 1., 0., 0., 1., 1., 0., 0., 0., 0.,\n",
              "       0., 0., 1., 1., 0., 0., 1., 1., 0., 1., 1., 1., 1.], dtype=float32)"
            ]
          },
          "metadata": {},
          "execution_count": 28
        }
      ],
      "source": [
        "y_train_B[:30]"
      ]
    },
    {
      "cell_type": "code",
      "execution_count": null,
      "id": "8520c732",
      "metadata": {
        "execution": {
          "iopub.execute_input": "2021-10-10T01:45:29.601104Z",
          "iopub.status.busy": "2021-10-10T01:45:29.599747Z",
          "iopub.status.idle": "2021-10-10T01:45:29.601831Z",
          "shell.execute_reply": "2021-10-10T01:45:29.602225Z"
        },
        "id": "8520c732"
      },
      "outputs": [],
      "source": [
        "tf.random.set_seed(42)\n",
        "np.random.seed(42)"
      ]
    },
    {
      "cell_type": "code",
      "execution_count": null,
      "id": "68b52689",
      "metadata": {
        "execution": {
          "iopub.execute_input": "2021-10-10T01:45:29.607726Z",
          "iopub.status.busy": "2021-10-10T01:45:29.606975Z",
          "iopub.status.idle": "2021-10-10T01:45:29.648838Z",
          "shell.execute_reply": "2021-10-10T01:45:29.649280Z"
        },
        "id": "68b52689"
      },
      "outputs": [],
      "source": [
        "model_A = keras.models.Sequential()\n",
        "model_A.add(keras.layers.Flatten(input_shape=[28, 28]))\n",
        "for n_hidden in (300, 100, 50, 50, 50):\n",
        "    model_A.add(keras.layers.Dense(n_hidden, activation=\"selu\"))\n",
        "model_A.add(keras.layers.Dense(8, activation=\"softmax\"))"
      ]
    },
    {
      "cell_type": "code",
      "execution_count": null,
      "id": "915efbd9",
      "metadata": {
        "execution": {
          "iopub.execute_input": "2021-10-10T01:45:29.656414Z",
          "iopub.status.busy": "2021-10-10T01:45:29.655721Z",
          "iopub.status.idle": "2021-10-10T01:45:29.658744Z",
          "shell.execute_reply": "2021-10-10T01:45:29.658227Z"
        },
        "id": "915efbd9"
      },
      "outputs": [],
      "source": [
        "model_A.compile(loss=\"sparse_categorical_crossentropy\",\n",
        "                optimizer=keras.optimizers.SGD(learning_rate=1e-3),\n",
        "                metrics=[\"accuracy\"])"
      ]
    },
    {
      "cell_type": "code",
      "execution_count": null,
      "id": "83358be5",
      "metadata": {
        "colab": {
          "base_uri": "https://localhost:8080/"
        },
        "execution": {
          "iopub.execute_input": "2021-10-10T01:45:29.661972Z",
          "iopub.status.busy": "2021-10-10T01:45:29.661579Z",
          "iopub.status.idle": "2021-10-10T01:46:51.964978Z",
          "shell.execute_reply": "2021-10-10T01:46:51.965446Z"
        },
        "id": "83358be5",
        "outputId": "639222f5-0819-49f8-f8b4-2efe9720f1fd"
      },
      "outputs": [
        {
          "output_type": "stream",
          "name": "stdout",
          "text": [
            "Epoch 1/20\n",
            "1375/1375 [==============================] - 6s 4ms/step - loss: 0.5926 - accuracy: 0.8104 - val_loss: 0.3896 - val_accuracy: 0.8662\n",
            "Epoch 2/20\n",
            "1375/1375 [==============================] - 5s 4ms/step - loss: 0.3523 - accuracy: 0.8785 - val_loss: 0.3288 - val_accuracy: 0.8824\n",
            "Epoch 3/20\n",
            "1375/1375 [==============================] - 5s 4ms/step - loss: 0.3171 - accuracy: 0.8896 - val_loss: 0.3014 - val_accuracy: 0.8984\n",
            "Epoch 4/20\n",
            "1375/1375 [==============================] - 5s 4ms/step - loss: 0.2973 - accuracy: 0.8975 - val_loss: 0.2894 - val_accuracy: 0.9018\n",
            "Epoch 5/20\n",
            "1375/1375 [==============================] - 5s 4ms/step - loss: 0.2835 - accuracy: 0.9020 - val_loss: 0.2776 - val_accuracy: 0.9066\n",
            "Epoch 6/20\n",
            "1375/1375 [==============================] - 5s 4ms/step - loss: 0.2730 - accuracy: 0.9061 - val_loss: 0.2734 - val_accuracy: 0.9063\n",
            "Epoch 7/20\n",
            "1375/1375 [==============================] - 6s 4ms/step - loss: 0.2641 - accuracy: 0.9092 - val_loss: 0.2716 - val_accuracy: 0.9088\n",
            "Epoch 8/20\n",
            "1375/1375 [==============================] - 5s 4ms/step - loss: 0.2573 - accuracy: 0.9126 - val_loss: 0.2589 - val_accuracy: 0.9141\n",
            "Epoch 9/20\n",
            "1375/1375 [==============================] - 5s 4ms/step - loss: 0.2518 - accuracy: 0.9135 - val_loss: 0.2562 - val_accuracy: 0.9143\n",
            "Epoch 10/20\n",
            "1375/1375 [==============================] - 6s 4ms/step - loss: 0.2469 - accuracy: 0.9152 - val_loss: 0.2541 - val_accuracy: 0.9160\n",
            "Epoch 11/20\n",
            "1375/1375 [==============================] - 5s 4ms/step - loss: 0.2423 - accuracy: 0.9175 - val_loss: 0.2495 - val_accuracy: 0.9150\n",
            "Epoch 12/20\n",
            "1375/1375 [==============================] - 5s 4ms/step - loss: 0.2382 - accuracy: 0.9187 - val_loss: 0.2511 - val_accuracy: 0.9133\n",
            "Epoch 13/20\n",
            "1375/1375 [==============================] - 5s 4ms/step - loss: 0.2351 - accuracy: 0.9199 - val_loss: 0.2445 - val_accuracy: 0.9158\n",
            "Epoch 14/20\n",
            "1375/1375 [==============================] - 5s 4ms/step - loss: 0.2316 - accuracy: 0.9213 - val_loss: 0.2413 - val_accuracy: 0.9173\n",
            "Epoch 15/20\n",
            "1375/1375 [==============================] - 5s 4ms/step - loss: 0.2287 - accuracy: 0.9212 - val_loss: 0.2449 - val_accuracy: 0.9193\n",
            "Epoch 16/20\n",
            "1375/1375 [==============================] - 5s 4ms/step - loss: 0.2254 - accuracy: 0.9223 - val_loss: 0.2384 - val_accuracy: 0.9193\n",
            "Epoch 17/20\n",
            "1375/1375 [==============================] - 5s 4ms/step - loss: 0.2231 - accuracy: 0.9232 - val_loss: 0.2409 - val_accuracy: 0.9170\n",
            "Epoch 18/20\n",
            "1375/1375 [==============================] - 6s 4ms/step - loss: 0.2201 - accuracy: 0.9245 - val_loss: 0.2425 - val_accuracy: 0.9150\n",
            "Epoch 19/20\n",
            "1375/1375 [==============================] - 6s 4ms/step - loss: 0.2178 - accuracy: 0.9252 - val_loss: 0.2330 - val_accuracy: 0.9195\n",
            "Epoch 20/20\n",
            "1375/1375 [==============================] - 5s 4ms/step - loss: 0.2156 - accuracy: 0.9260 - val_loss: 0.2335 - val_accuracy: 0.9203\n"
          ]
        }
      ],
      "source": [
        "history = model_A.fit(X_train_A, y_train_A, epochs=20,\n",
        "                    validation_data=(X_valid_A, y_valid_A))"
      ]
    },
    {
      "cell_type": "markdown",
      "source": [
        "작업 A를 해결하는 모델을 만들고 훈련해 꽤 좋은 성능(>90% 정확도)을 얻었습니다. 이 모델을 '모델 A'로 부르겠습니다. 해당 모델을 저장하겠습니다."
      ],
      "metadata": {
        "id": "6IXn69eRVqfW"
      },
      "id": "6IXn69eRVqfW"
    },
    {
      "cell_type": "code",
      "execution_count": null,
      "id": "316296a1",
      "metadata": {
        "execution": {
          "iopub.execute_input": "2021-10-10T01:46:51.971496Z",
          "iopub.status.busy": "2021-10-10T01:46:51.967801Z",
          "iopub.status.idle": "2021-10-10T01:46:51.986661Z",
          "shell.execute_reply": "2021-10-10T01:46:51.986206Z"
        },
        "id": "316296a1"
      },
      "outputs": [],
      "source": [
        "model_A.save(\"my_model_A.h5\")"
      ]
    },
    {
      "cell_type": "markdown",
      "source": [
        "다음은 샌들과 셔츠 이미즈를 구분하는 작업 B를 해결하기 위해 이진 분류기를 훈련하려고 합니다(양성=셔츠, 음성=샌들). 레이블된 이미지는 겨우 200개로 준비된 데이터는 매우 적습니다. 이를 위해서 모델 A와 구조가 거의 비슷한 '모델 B'라는 새 모델을 만들어 보겠습니다. "
      ],
      "metadata": {
        "id": "HLkrEzZmV8D5"
      },
      "id": "HLkrEzZmV8D5"
    },
    {
      "cell_type": "code",
      "execution_count": null,
      "id": "a93aeaa8",
      "metadata": {
        "execution": {
          "iopub.execute_input": "2021-10-10T01:46:51.992264Z",
          "iopub.status.busy": "2021-10-10T01:46:51.991799Z",
          "iopub.status.idle": "2021-10-10T01:46:52.034071Z",
          "shell.execute_reply": "2021-10-10T01:46:52.034444Z"
        },
        "id": "a93aeaa8"
      },
      "outputs": [],
      "source": [
        "model_B = keras.models.Sequential()\n",
        "model_B.add(keras.layers.Flatten(input_shape=[28, 28]))\n",
        "for n_hidden in (300, 100, 50, 50, 50):\n",
        "    model_B.add(keras.layers.Dense(n_hidden, activation=\"selu\"))\n",
        "model_B.add(keras.layers.Dense(1, activation=\"sigmoid\"))"
      ]
    },
    {
      "cell_type": "code",
      "execution_count": null,
      "id": "997de873",
      "metadata": {
        "execution": {
          "iopub.execute_input": "2021-10-10T01:46:52.040832Z",
          "iopub.status.busy": "2021-10-10T01:46:52.039574Z",
          "iopub.status.idle": "2021-10-10T01:46:52.043035Z",
          "shell.execute_reply": "2021-10-10T01:46:52.043394Z"
        },
        "id": "997de873"
      },
      "outputs": [],
      "source": [
        "model_B.compile(loss=\"binary_crossentropy\",\n",
        "                optimizer=keras.optimizers.SGD(learning_rate=1e-3),\n",
        "                metrics=[\"accuracy\"])"
      ]
    },
    {
      "cell_type": "code",
      "execution_count": null,
      "id": "f8f7dcf8",
      "metadata": {
        "colab": {
          "base_uri": "https://localhost:8080/"
        },
        "execution": {
          "iopub.execute_input": "2021-10-10T01:46:52.046830Z",
          "iopub.status.busy": "2021-10-10T01:46:52.046371Z",
          "iopub.status.idle": "2021-10-10T01:46:53.827991Z",
          "shell.execute_reply": "2021-10-10T01:46:53.827549Z"
        },
        "id": "f8f7dcf8",
        "outputId": "6a90edb5-371e-47e5-8925-6d4ecd3ad889",
        "scrolled": true
      },
      "outputs": [
        {
          "output_type": "stream",
          "name": "stdout",
          "text": [
            "Epoch 1/20\n",
            "7/7 [==============================] - 1s 61ms/step - loss: 0.9573 - accuracy: 0.4650 - val_loss: 0.6314 - val_accuracy: 0.6004\n",
            "Epoch 2/20\n",
            "7/7 [==============================] - 0s 19ms/step - loss: 0.5692 - accuracy: 0.7450 - val_loss: 0.4784 - val_accuracy: 0.8529\n",
            "Epoch 3/20\n",
            "7/7 [==============================] - 0s 20ms/step - loss: 0.4503 - accuracy: 0.8650 - val_loss: 0.4102 - val_accuracy: 0.8945\n",
            "Epoch 4/20\n",
            "7/7 [==============================] - 0s 20ms/step - loss: 0.3879 - accuracy: 0.8950 - val_loss: 0.3647 - val_accuracy: 0.9178\n",
            "Epoch 5/20\n",
            "7/7 [==============================] - 0s 31ms/step - loss: 0.3435 - accuracy: 0.9250 - val_loss: 0.3300 - val_accuracy: 0.9320\n",
            "Epoch 6/20\n",
            "7/7 [==============================] - 0s 31ms/step - loss: 0.3081 - accuracy: 0.9300 - val_loss: 0.3019 - val_accuracy: 0.9402\n",
            "Epoch 7/20\n",
            "7/7 [==============================] - 0s 31ms/step - loss: 0.2800 - accuracy: 0.9350 - val_loss: 0.2804 - val_accuracy: 0.9422\n",
            "Epoch 8/20\n",
            "7/7 [==============================] - 0s 31ms/step - loss: 0.2564 - accuracy: 0.9450 - val_loss: 0.2606 - val_accuracy: 0.9473\n",
            "Epoch 9/20\n",
            "7/7 [==============================] - 0s 19ms/step - loss: 0.2362 - accuracy: 0.9550 - val_loss: 0.2428 - val_accuracy: 0.9523\n",
            "Epoch 10/20\n",
            "7/7 [==============================] - 0s 21ms/step - loss: 0.2188 - accuracy: 0.9600 - val_loss: 0.2281 - val_accuracy: 0.9544\n",
            "Epoch 11/20\n",
            "7/7 [==============================] - 0s 19ms/step - loss: 0.2036 - accuracy: 0.9700 - val_loss: 0.2150 - val_accuracy: 0.9584\n",
            "Epoch 12/20\n",
            "7/7 [==============================] - 0s 31ms/step - loss: 0.1898 - accuracy: 0.9700 - val_loss: 0.2036 - val_accuracy: 0.9584\n",
            "Epoch 13/20\n",
            "7/7 [==============================] - 0s 19ms/step - loss: 0.1773 - accuracy: 0.9750 - val_loss: 0.1931 - val_accuracy: 0.9615\n",
            "Epoch 14/20\n",
            "7/7 [==============================] - 0s 21ms/step - loss: 0.1668 - accuracy: 0.9800 - val_loss: 0.1838 - val_accuracy: 0.9635\n",
            "Epoch 15/20\n",
            "7/7 [==============================] - 0s 31ms/step - loss: 0.1570 - accuracy: 0.9900 - val_loss: 0.1746 - val_accuracy: 0.9686\n",
            "Epoch 16/20\n",
            "7/7 [==============================] - 0s 19ms/step - loss: 0.1481 - accuracy: 0.9900 - val_loss: 0.1674 - val_accuracy: 0.9686\n",
            "Epoch 17/20\n",
            "7/7 [==============================] - 0s 31ms/step - loss: 0.1406 - accuracy: 0.9900 - val_loss: 0.1604 - val_accuracy: 0.9706\n",
            "Epoch 18/20\n",
            "7/7 [==============================] - 0s 31ms/step - loss: 0.1334 - accuracy: 0.9900 - val_loss: 0.1539 - val_accuracy: 0.9706\n",
            "Epoch 19/20\n",
            "7/7 [==============================] - 0s 20ms/step - loss: 0.1268 - accuracy: 0.9900 - val_loss: 0.1482 - val_accuracy: 0.9716\n",
            "Epoch 20/20\n",
            "7/7 [==============================] - 0s 20ms/step - loss: 0.1208 - accuracy: 0.9900 - val_loss: 0.1431 - val_accuracy: 0.9716\n"
          ]
        }
      ],
      "source": [
        "history = model_B.fit(X_train_B, y_train_B, epochs=20,\n",
        "                      validation_data=(X_valid_B, y_valid_B))"
      ]
    },
    {
      "cell_type": "markdown",
      "source": [
        "모델 B는 꽤 좋은 성능을 냈습니다 (>97% 정확도). "
      ],
      "metadata": {
        "id": "EOtL5LmfWers"
      },
      "id": "EOtL5LmfWers"
    },
    {
      "cell_type": "code",
      "execution_count": null,
      "id": "a5eecd6e",
      "metadata": {
        "colab": {
          "base_uri": "https://localhost:8080/"
        },
        "execution": {
          "iopub.execute_input": "2021-10-10T01:46:53.833367Z",
          "iopub.status.busy": "2021-10-10T01:46:53.832924Z",
          "iopub.status.idle": "2021-10-10T01:46:53.835776Z",
          "shell.execute_reply": "2021-10-10T01:46:53.836116Z"
        },
        "id": "a5eecd6e",
        "outputId": "2255b661-16a9-4834-c4a8-a69b6528b7ed"
      },
      "outputs": [
        {
          "output_type": "stream",
          "name": "stdout",
          "text": [
            "Model: \"sequential_5\"\n",
            "_________________________________________________________________\n",
            " Layer (type)                Output Shape              Param #   \n",
            "=================================================================\n",
            " flatten_3 (Flatten)         (None, 784)               0         \n",
            "                                                                 \n",
            " dense_20 (Dense)            (None, 300)               235500    \n",
            "                                                                 \n",
            " dense_21 (Dense)            (None, 100)               30100     \n",
            "                                                                 \n",
            " dense_22 (Dense)            (None, 50)                5050      \n",
            "                                                                 \n",
            " dense_23 (Dense)            (None, 50)                2550      \n",
            "                                                                 \n",
            " dense_24 (Dense)            (None, 50)                2550      \n",
            "                                                                 \n",
            " dense_25 (Dense)            (None, 1)                 51        \n",
            "                                                                 \n",
            "=================================================================\n",
            "Total params: 275,801\n",
            "Trainable params: 275,801\n",
            "Non-trainable params: 0\n",
            "_________________________________________________________________\n"
          ]
        }
      ],
      "source": [
        "model_B.summary()"
      ]
    },
    {
      "cell_type": "markdown",
      "source": [
        "하지만 모델 B는 클래스가 두 개뿐인 매우 쉬운 문제이므로 우리는 더 좋은 성능을 내고 싶습니다. 곰곰히 생각해보면 작업 B는 모델 A가 해결하는 작업 A와 매우 비슷하다는 것을 알 수 있습니다. 혹시 전이 학습이 도움이 될 수 있는지 확인해 보겠습니다.\n",
        "\n",
        "먼저 모델 A를 로드하고 이 모델의 층을 기반으로 새로운 모델(model_B_on_A)을 만듭니다. 출력층만 제외하고 모든 층을 재사용 하겠습니다. "
      ],
      "metadata": {
        "id": "8NQi4qwvXCu5"
      },
      "id": "8NQi4qwvXCu5"
    },
    {
      "cell_type": "code",
      "execution_count": null,
      "id": "9cbf5787",
      "metadata": {
        "execution": {
          "iopub.execute_input": "2021-10-10T01:46:53.842610Z",
          "iopub.status.busy": "2021-10-10T01:46:53.840154Z",
          "iopub.status.idle": "2021-10-10T01:46:53.926739Z",
          "shell.execute_reply": "2021-10-10T01:46:53.927163Z"
        },
        "id": "9cbf5787"
      },
      "outputs": [],
      "source": [
        "model_A = keras.models.load_model(\"my_model_A.h5\")\n",
        "model_B_on_A = keras.models.Sequential(model_A.layers[:-1])\n",
        "model_B_on_A.add(keras.layers.Dense(1, activation=\"sigmoid\"))"
      ]
    },
    {
      "cell_type": "markdown",
      "id": "ed52bf43",
      "metadata": {
        "id": "ed52bf43"
      },
      "source": [
        "`model_B_on_A`와 `model_A`는 층을 공유하기 때문에 하나를 훈련하면 두 모델이 업데이트됩니다. 이를 피하려면 `model_A`를 클론한 것을 사용해 `model_B_on_A`를 만들어야 합니다. Clone_mode() 메서드로 모델 A의 구조를 복제한 후 가중치를 복사합니다(clone_model() 메서드는 가중치를 복제하지 않습니다.)"
      ]
    },
    {
      "cell_type": "code",
      "execution_count": null,
      "id": "561c8824",
      "metadata": {
        "execution": {
          "iopub.execute_input": "2021-10-10T01:46:53.936775Z",
          "iopub.status.busy": "2021-10-10T01:46:53.936286Z",
          "iopub.status.idle": "2021-10-10T01:46:54.007785Z",
          "shell.execute_reply": "2021-10-10T01:46:54.007229Z"
        },
        "id": "561c8824"
      },
      "outputs": [],
      "source": [
        "model_A_clone = keras.models.clone_model(model_A)\n",
        "model_A_clone.set_weights(model_A.get_weights())\n",
        "model_B_on_A = keras.models.Sequential(model_A_clone.layers[:-1])\n",
        "model_B_on_A.add(keras.layers.Dense(1, activation=\"sigmoid\"))"
      ]
    },
    {
      "cell_type": "markdown",
      "source": [
        "이제 작업 B를 위해 model_B_on_A을 훈련할 수 있습니다. 하지만 새로운 출력층이 랜덤하게 초기화되어 있으므로 큰 오차를 만들 것입니다 (적어도 처음 몇 번의 에포크 동안). 따라서 큰 오차 그레이디언트가 재사용된 가중치를 망칠 수 있습니다. 이를 피하는 한 가지 방법은 처음 몇번의 에포크 동안 재사용된 층을 동결하고 새로운 층에게 적절한 가중치를 학습할 시간을 주는 것입니다. 이를 위해 모든 층의 trainable 속성을 False로 지정하고 모델을 컴파일 합니다."
      ],
      "metadata": {
        "id": "HaLIbFRKXtDy"
      },
      "id": "HaLIbFRKXtDy"
    },
    {
      "cell_type": "code",
      "execution_count": null,
      "id": "89216111",
      "metadata": {
        "execution": {
          "iopub.execute_input": "2021-10-10T01:46:54.012491Z",
          "iopub.status.busy": "2021-10-10T01:46:54.012052Z",
          "iopub.status.idle": "2021-10-10T01:46:54.017729Z",
          "shell.execute_reply": "2021-10-10T01:46:54.018102Z"
        },
        "id": "89216111",
        "colab": {
          "base_uri": "https://localhost:8080/"
        },
        "outputId": "589680c0-202b-4dde-e35e-b3671ecc1ebb"
      },
      "outputs": [
        {
          "output_type": "stream",
          "name": "stdout",
          "text": [
            "Epoch 1/20\n",
            "7/7 [==============================] - 1s 58ms/step - loss: 0.2643 - accuracy: 0.9400 - val_loss: 0.2789 - val_accuracy: 0.9280\n",
            "Epoch 2/20\n",
            "7/7 [==============================] - 0s 18ms/step - loss: 0.2547 - accuracy: 0.9400 - val_loss: 0.2694 - val_accuracy: 0.9300\n",
            "Epoch 3/20\n",
            "7/7 [==============================] - 0s 19ms/step - loss: 0.2454 - accuracy: 0.9400 - val_loss: 0.2607 - val_accuracy: 0.9341\n",
            "Epoch 4/20\n",
            "7/7 [==============================] - 0s 30ms/step - loss: 0.2369 - accuracy: 0.9400 - val_loss: 0.2526 - val_accuracy: 0.9381\n",
            "Epoch 5/20\n",
            "7/7 [==============================] - 0s 19ms/step - loss: 0.2289 - accuracy: 0.9450 - val_loss: 0.2451 - val_accuracy: 0.9391\n",
            "Epoch 6/20\n",
            "7/7 [==============================] - 0s 30ms/step - loss: 0.2216 - accuracy: 0.9450 - val_loss: 0.2379 - val_accuracy: 0.9422\n",
            "Epoch 7/20\n",
            "7/7 [==============================] - 0s 30ms/step - loss: 0.2146 - accuracy: 0.9500 - val_loss: 0.2313 - val_accuracy: 0.9432\n",
            "Epoch 8/20\n",
            "7/7 [==============================] - 0s 21ms/step - loss: 0.2081 - accuracy: 0.9500 - val_loss: 0.2251 - val_accuracy: 0.9483\n",
            "Epoch 9/20\n",
            "7/7 [==============================] - 0s 20ms/step - loss: 0.2020 - accuracy: 0.9500 - val_loss: 0.2191 - val_accuracy: 0.9523\n",
            "Epoch 10/20\n",
            "7/7 [==============================] - 0s 30ms/step - loss: 0.1961 - accuracy: 0.9500 - val_loss: 0.2136 - val_accuracy: 0.9544\n",
            "Epoch 11/20\n",
            "7/7 [==============================] - 0s 19ms/step - loss: 0.1908 - accuracy: 0.9500 - val_loss: 0.2081 - val_accuracy: 0.9604\n",
            "Epoch 12/20\n",
            "7/7 [==============================] - 0s 30ms/step - loss: 0.1854 - accuracy: 0.9500 - val_loss: 0.2030 - val_accuracy: 0.9625\n",
            "Epoch 13/20\n",
            "7/7 [==============================] - 0s 30ms/step - loss: 0.1804 - accuracy: 0.9500 - val_loss: 0.1982 - val_accuracy: 0.9655\n",
            "Epoch 14/20\n",
            "7/7 [==============================] - 0s 20ms/step - loss: 0.1756 - accuracy: 0.9500 - val_loss: 0.1938 - val_accuracy: 0.9655\n",
            "Epoch 15/20\n",
            "7/7 [==============================] - 0s 31ms/step - loss: 0.1713 - accuracy: 0.9500 - val_loss: 0.1894 - val_accuracy: 0.9665\n",
            "Epoch 16/20\n",
            "7/7 [==============================] - 0s 30ms/step - loss: 0.1670 - accuracy: 0.9500 - val_loss: 0.1853 - val_accuracy: 0.9665\n",
            "Epoch 17/20\n",
            "7/7 [==============================] - 0s 30ms/step - loss: 0.1630 - accuracy: 0.9500 - val_loss: 0.1813 - val_accuracy: 0.9675\n",
            "Epoch 18/20\n",
            "7/7 [==============================] - 0s 19ms/step - loss: 0.1590 - accuracy: 0.9500 - val_loss: 0.1774 - val_accuracy: 0.9686\n",
            "Epoch 19/20\n",
            "7/7 [==============================] - 0s 19ms/step - loss: 0.1552 - accuracy: 0.9500 - val_loss: 0.1737 - val_accuracy: 0.9696\n",
            "Epoch 20/20\n",
            "7/7 [==============================] - 0s 21ms/step - loss: 0.1515 - accuracy: 0.9550 - val_loss: 0.1705 - val_accuracy: 0.9696\n"
          ]
        }
      ],
      "source": [
        "for layer in model_B_on_A.layers[:-1]:\n",
        "    layer.trainable = False\n",
        "\n",
        "model_B_on_A.compile(loss=\"binary_crossentropy\",\n",
        "                     optimizer=keras.optimizers.SGD(learning_rate=1e-3),\n",
        "                     metrics=[\"accuracy\"])\n",
        "\n",
        "history = model_B_on_A.fit(X_train_B, y_train_B, epochs=20,\n",
        "                           validation_data=(X_valid_B, y_valid_B))"
      ]
    },
    {
      "cell_type": "markdown",
      "source": [
        "**NOTE:** 층을 동결하거나 동결을 해제한 후 반드시 모델을 컴파일 해야합니다."
      ],
      "metadata": {
        "id": "ILT3LWVdYR3l"
      },
      "id": "ILT3LWVdYR3l"
    },
    {
      "cell_type": "code",
      "source": [
        "\n",
        "for layer in model_B_on_A.layers[:-1]:\n",
        "    layer.trainable = True\n",
        "\n",
        "model_B_on_A.compile(loss=\"binary_crossentropy\",\n",
        "                     optimizer=keras.optimizers.SGD(learning_rate=1e-3),\n",
        "                     metrics=[\"accuracy\"])\n",
        "history = model_B_on_A.fit(X_train_B, y_train_B, epochs=16,\n",
        "                           validation_data=(X_valid_B, y_valid_B))"
      ],
      "metadata": {
        "colab": {
          "base_uri": "https://localhost:8080/"
        },
        "id": "KHP-3kHj802-",
        "outputId": "26c23208-f569-4205-e86a-940b76823af6"
      },
      "id": "KHP-3kHj802-",
      "execution_count": null,
      "outputs": [
        {
          "output_type": "stream",
          "name": "stdout",
          "text": [
            "Epoch 1/16\n",
            "7/7 [==============================] - 1s 46ms/step - loss: 0.1404 - accuracy: 0.9700 - val_loss: 0.1476 - val_accuracy: 0.9787\n",
            "Epoch 2/16\n",
            "7/7 [==============================] - 0s 30ms/step - loss: 0.1193 - accuracy: 0.9750 - val_loss: 0.1309 - val_accuracy: 0.9838\n",
            "Epoch 3/16\n",
            "7/7 [==============================] - 0s 19ms/step - loss: 0.1039 - accuracy: 0.9900 - val_loss: 0.1181 - val_accuracy: 0.9858\n",
            "Epoch 4/16\n",
            "7/7 [==============================] - 0s 31ms/step - loss: 0.0916 - accuracy: 0.9900 - val_loss: 0.1080 - val_accuracy: 0.9878\n",
            "Epoch 5/16\n",
            "7/7 [==============================] - 0s 20ms/step - loss: 0.0822 - accuracy: 0.9950 - val_loss: 0.1002 - val_accuracy: 0.9878\n",
            "Epoch 6/16\n",
            "7/7 [==============================] - 0s 30ms/step - loss: 0.0747 - accuracy: 0.9950 - val_loss: 0.0937 - val_accuracy: 0.9878\n",
            "Epoch 7/16\n",
            "7/7 [==============================] - 0s 31ms/step - loss: 0.0685 - accuracy: 0.9950 - val_loss: 0.0882 - val_accuracy: 0.9878\n",
            "Epoch 8/16\n",
            "7/7 [==============================] - 0s 31ms/step - loss: 0.0634 - accuracy: 0.9950 - val_loss: 0.0834 - val_accuracy: 0.9878\n",
            "Epoch 9/16\n",
            "7/7 [==============================] - 0s 19ms/step - loss: 0.0589 - accuracy: 1.0000 - val_loss: 0.0791 - val_accuracy: 0.9888\n",
            "Epoch 10/16\n",
            "7/7 [==============================] - 0s 33ms/step - loss: 0.0547 - accuracy: 1.0000 - val_loss: 0.0755 - val_accuracy: 0.9888\n",
            "Epoch 11/16\n",
            "7/7 [==============================] - 0s 19ms/step - loss: 0.0514 - accuracy: 1.0000 - val_loss: 0.0722 - val_accuracy: 0.9878\n",
            "Epoch 12/16\n",
            "7/7 [==============================] - 0s 30ms/step - loss: 0.0482 - accuracy: 1.0000 - val_loss: 0.0693 - val_accuracy: 0.9878\n",
            "Epoch 13/16\n",
            "7/7 [==============================] - 0s 19ms/step - loss: 0.0454 - accuracy: 1.0000 - val_loss: 0.0667 - val_accuracy: 0.9878\n",
            "Epoch 14/16\n",
            "7/7 [==============================] - 0s 31ms/step - loss: 0.0429 - accuracy: 1.0000 - val_loss: 0.0645 - val_accuracy: 0.9878\n",
            "Epoch 15/16\n",
            "7/7 [==============================] - 0s 18ms/step - loss: 0.0408 - accuracy: 1.0000 - val_loss: 0.0625 - val_accuracy: 0.9878\n",
            "Epoch 16/16\n",
            "7/7 [==============================] - 0s 31ms/step - loss: 0.0389 - accuracy: 1.0000 - val_loss: 0.0606 - val_accuracy: 0.9878\n"
          ]
        }
      ]
    },
    {
      "cell_type": "markdown",
      "source": [
        "이 모델의 테스트 정확도가 >99% 입니다. 전이 학습이 오차를 많이 줄여줬습니다."
      ],
      "metadata": {
        "id": "klqK6xb-Yawk"
      },
      "id": "klqK6xb-Yawk"
    },
    {
      "cell_type": "markdown",
      "source": [
        "데이터 크기-유사성에 따른 Fine-tuning 방법 (참고 블로그: https://jeinalog.tistory.com/13)"
      ],
      "metadata": {
        "id": "ZHORU3gIgBlW"
      },
      "id": "ZHORU3gIgBlW"
    },
    {
      "cell_type": "markdown",
      "source": [
        "<figure>\n",
        "<img src=\"https://raw.githubusercontent.com/Hyun-chul/DeepLearning/main/%EA%B7%B8%EB%A6%BC11-6%20transfer%20learning.png\"/>\n",
        "</figure>"
      ],
      "metadata": {
        "id": "x1N3-kLrgGg-"
      },
      "id": "x1N3-kLrgGg-"
    }
  ],
  "metadata": {
    "accelerator": "GPU",
    "colab": {
      "provenance": []
    },
    "kernelspec": {
      "display_name": "Python 3",
      "language": "python",
      "name": "python3"
    },
    "language_info": {
      "codemirror_mode": {
        "name": "ipython",
        "version": 3
      },
      "file_extension": ".py",
      "mimetype": "text/x-python",
      "name": "python",
      "nbconvert_exporter": "python",
      "pygments_lexer": "ipython3",
      "version": "3.7.3"
    },
    "nav_menu": {
      "height": "360px",
      "width": "416px"
    },
    "toc": {
      "navigate_menu": true,
      "number_sections": true,
      "sideBar": true,
      "threshold": 6,
      "toc_cell": false,
      "toc_section_display": "block",
      "toc_window_display": false
    }
  },
  "nbformat": 4,
  "nbformat_minor": 5
}