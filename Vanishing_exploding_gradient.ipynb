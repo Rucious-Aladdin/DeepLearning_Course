{
  "cells": [
    {
      "cell_type": "markdown",
      "id": "98c7592f",
      "metadata": {
        "id": "98c7592f"
      },
      "source": [
        "**참고문헌: 핸즈온 머신러닝(2판), 올레리앙 제롱 지음, 박해선 옮김, 11장 – 심층 신경망 훈련하기**"
      ]
    },
    {
      "cell_type": "markdown",
      "id": "d64f3e3e",
      "metadata": {
        "id": "d64f3e3e"
      },
      "source": [
        "<table align=\"left\">\n",
        "  <td>\n",
        "    <a target=\"_blank\" href=\"https://colab.research.google.com/github/rickiepark/handson-ml2/blob/master/11_training_deep_neural_networks.ipynb\"><img src=\"https://www.tensorflow.org/images/colab_logo_32px.png\" />구글 코랩에서 실행하기</a>\n",
        "  </td>\n",
        "</table>"
      ]
    },
    {
      "cell_type": "markdown",
      "id": "ac978c5c",
      "metadata": {
        "id": "ac978c5c"
      },
      "source": [
        "# 설정"
      ]
    },
    {
      "cell_type": "markdown",
      "id": "2587df6c",
      "metadata": {
        "id": "2587df6c"
      },
      "source": [
        "먼저 몇 개의 모듈을 임포트합니다. 맷플롯립 그래프를 인라인으로 출력하도록 만들고 그림을 저장하는 함수를 준비합니다. 또한 파이썬 버전이 3.5 이상인지 확인합니다(파이썬 2.x에서도 동작하지만 곧 지원이 중단되므로 파이썬 3을 사용하는 것이 좋습니다). 사이킷런 버전이 0.20 이상인지와 텐서플로 버전이 2.0 이상인지 확인합니다."
      ]
    },
    {
      "cell_type": "code",
      "execution_count": null,
      "id": "3b742d72",
      "metadata": {
        "execution": {
          "iopub.execute_input": "2021-10-10T01:38:48.460540Z",
          "iopub.status.busy": "2021-10-10T01:38:48.459595Z",
          "iopub.status.idle": "2021-10-10T01:38:50.305510Z",
          "shell.execute_reply": "2021-10-10T01:38:50.304882Z"
        },
        "id": "3b742d72"
      },
      "outputs": [],
      "source": [
        "# 파이썬 ≥3.5 필수\n",
        "import sys\n",
        "assert sys.version_info >= (3, 5)\n",
        "\n",
        "# 사이킷런 ≥0.20 필수\n",
        "import sklearn\n",
        "assert sklearn.__version__ >= \"0.20\"\n",
        "\n",
        "# 텐서플로 ≥2.0 필수\n",
        "import tensorflow as tf\n",
        "from tensorflow import keras\n",
        "assert tf.__version__ >= \"2.0\"\n",
        "\n",
        "%load_ext tensorboard\n",
        "\n",
        "# 공통 모듈 임포트\n",
        "import numpy as np\n",
        "import os\n",
        "\n",
        "# 노트북 실행 결과를 동일하게 유지하기 위해\n",
        "np.random.seed(42)\n",
        "\n",
        "# 깔끔한 그래프 출력을 위해\n",
        "%matplotlib inline\n",
        "import matplotlib as mpl\n",
        "import matplotlib.pyplot as plt\n",
        "mpl.rc('axes', labelsize=14)\n",
        "mpl.rc('xtick', labelsize=12)\n",
        "mpl.rc('ytick', labelsize=12)\n",
        "\n",
        "# 그림을 저장할 위치\n",
        "PROJECT_ROOT_DIR = \".\"\n",
        "CHAPTER_ID = \"deep\"\n",
        "IMAGES_PATH = os.path.join(PROJECT_ROOT_DIR, \"images\", CHAPTER_ID)\n",
        "os.makedirs(IMAGES_PATH, exist_ok=True)\n",
        "\n",
        "def save_fig(fig_id, tight_layout=True, fig_extension=\"png\", resolution=300):\n",
        "    path = os.path.join(IMAGES_PATH, fig_id + \".\" + fig_extension)\n",
        "    print(\"그림 저장:\", fig_id)\n",
        "    if tight_layout:\n",
        "        plt.tight_layout()\n",
        "    plt.savefig(path, format=fig_extension, dpi=resolution)"
      ]
    },
    {
      "cell_type": "markdown",
      "id": "0c1608c4",
      "metadata": {
        "id": "0c1608c4"
      },
      "source": [
        "# 그레이디언트 소실과 폭주 문제"
      ]
    },
    {
      "cell_type": "markdown",
      "source": [
        "역전파 알고리즘은 출력층에서 입력층으로 오차 그레이디언트를 전파하면서 진행됩니다. 알고리즘이 신경망의 모든 파라미터에 대한 오차 함수의 그레이디언트를 계산하면 경사 하강법 단계에서 이 그레이디언트를 사용하여 각 파라미터를 수정합니다."
      ],
      "metadata": {
        "id": "IfFxa8_dJhmP"
      },
      "id": "IfFxa8_dJhmP"
    },
    {
      "cell_type": "markdown",
      "source": [
        "그런데 알고리즘 하위층으로 진행될수도록 그레이디언트가 점점 작아지는 경우가 많습니다. 경사 하강법이 하위층의 연결 가중치를 변경되지 않은 채로 둔다면 안타깝게도 훈련이 좋은 솔류션으로 수렴되지 않을 것입니다. 이 문제를 그레이디언트 소실(vanishing gradient)라고 합니다. 어떤 경우엔 반대 현상이 일어날수 있습니다. 그레이디언트가 점점 커져서 여러 층이 비정상적으로 큰 가중치로 갱신되면 알고리즘은 발산(diverse)합니다. 이 문제를 그레이디언트 폭주(exploding gradient)라고 하며, 순환 신경망에서 주로 나타압니다."
      ],
      "metadata": {
        "id": "rlWmPSpCJzHh"
      },
      "id": "rlWmPSpCJzHh"
    },
    {
      "cell_type": "markdown",
      "source": [
        "이런 좋지 않은 학습 패턴이 꽤 오랫동안 경험적으로 촨측되었습니다. 2000년 초까지 심층 신경망이 거의 방치되었던 이유 중 하나입니다.  심층 신경망을 훈련할 때 그레이디언트를 불안정하게 만드는 원인이 무엇인지 명확하지 않았습니다. 심층 신경망을 훈련할 때 그레이디언트를 불안정하게 만드는 원이이 무엇인지 명확하지 않았습니다. 2010년 세이비어 클로럿(Xavier Glorot)과 요슈아 벤지오(Yoshua Bengio)가 발표한 논문(http://proceedings.mlr.press/v9/glorot10a) 덕분에 이에 대한 이해가 많이 진전 되었습니다. 저자들은 의심되는 원인을 몇 가지 발견했는데, 그중에는 많이 사용되는 로지스틱 시크모이드 활성화 함수와 그 당시 가장 인기 있던 가중치 초기화 방법(즉, 평균이 0이고 표준편차 1인 정규분포)의 조합이었습니다. 이 ㅅ활성화 함수와 초기화 방식을 사용했을 때 각 층에서 출력의 분삭이 입력의 분산보다 더 크다는 것을 밝혔습니다. 신경망의 위쪽으로 갈수록 층을 지날 때마다 분산이 계속 커져 가장 높은 층에서는 활성화 함수가 0 이나 1로 수렴합니다. 이는 로지스틱 함수의 평균이 0이 아니고 0.5라는 사실 때문에 더 나빠집니다. "
      ],
      "metadata": {
        "id": "a_dWpJ6sKOba"
      },
      "id": "a_dWpJ6sKOba"
    },
    {
      "cell_type": "markdown",
      "source": [
        "로지스틱 활성화 함수를 보면 입력 커지면 0이나 1로 수렴해서 기울기가 0에 매우 가까워지는 것을 알 수 있습니다. 그래서 역전파가 될 때 사실상 신경망으로 전파할 그레이디언트가 거의 없고 조금 있는 그레이디언트는 최상위층에서부터 역전파가 진행되면서 점차 약해져서 실제로 아래쪽 층에 아무것도 도달하지 않게 됩니다.\n"
      ],
      "metadata": {
        "id": "LDUUhVYMLVWt"
      },
      "id": "LDUUhVYMLVWt"
    },
    {
      "cell_type": "code",
      "execution_count": null,
      "id": "23aaa4bf",
      "metadata": {
        "execution": {
          "iopub.execute_input": "2021-10-10T01:38:50.309533Z",
          "iopub.status.busy": "2021-10-10T01:38:50.309024Z",
          "iopub.status.idle": "2021-10-10T01:38:50.312073Z",
          "shell.execute_reply": "2021-10-10T01:38:50.311605Z"
        },
        "id": "23aaa4bf"
      },
      "outputs": [],
      "source": [
        "def logit(z):\n",
        "    return 1 / (1 + np.exp(-z))"
      ]
    },
    {
      "cell_type": "code",
      "execution_count": null,
      "id": "311c5ece",
      "metadata": {
        "colab": {
          "base_uri": "https://localhost:8080/",
          "height": 315
        },
        "execution": {
          "iopub.execute_input": "2021-10-10T01:38:50.332774Z",
          "iopub.status.busy": "2021-10-10T01:38:50.331093Z",
          "iopub.status.idle": "2021-10-10T01:38:50.828592Z",
          "shell.execute_reply": "2021-10-10T01:38:50.828047Z"
        },
        "id": "311c5ece",
        "outputId": "4498d843-61b7-4a5a-e5b8-67139dc1bd34"
      },
      "outputs": [
        {
          "output_type": "stream",
          "name": "stdout",
          "text": [
            "그림 저장: sigmoid_saturation_plot\n"
          ]
        },
        {
          "output_type": "display_data",
          "data": {
            "text/plain": [
              "<Figure size 432x288 with 1 Axes>"
            ],
            "image/png": "[encoded data removed]"
          },
          "metadata": {
            "needs_background": "light"
          }
        }
      ],
      "source": [
        "z = np.linspace(-5, 5, 200)\n",
        "\n",
        "plt.plot([-5, 5], [0, 0], 'k-')\n",
        "plt.plot([-5, 5], [1, 1], 'k--')\n",
        "plt.plot([0, 0], [-0.2, 1.2], 'k-')\n",
        "plt.plot([-5, 5], [-3/4, 7/4], 'g--')\n",
        "plt.plot(z, logit(z), \"b-\", linewidth=2)\n",
        "props = dict(facecolor='black', shrink=0.1)\n",
        "plt.annotate('Saturating', xytext=(3.5, 0.7), xy=(5, 1), arrowprops=props, fontsize=14, ha=\"center\")\n",
        "plt.annotate('Saturating', xytext=(-3.5, 0.3), xy=(-5, 0), arrowprops=props, fontsize=14, ha=\"center\")\n",
        "plt.annotate('Linear', xytext=(2, 0.2), xy=(0, 0.5), arrowprops=props, fontsize=14, ha=\"center\")\n",
        "plt.grid(True)\n",
        "plt.title(\"Sigmoid activation function\", fontsize=14)\n",
        "plt.axis([-5, 5, -0.2, 1.2])\n",
        "\n",
        "save_fig(\"sigmoid_saturation_plot\")\n",
        "plt.show()"
      ]
    },
    {
      "cell_type": "markdown",
      "source": [],
      "metadata": {
        "id": "N_SRSlCFOnqS"
      },
      "id": "N_SRSlCFOnqS"
    },
    {
      "cell_type": "markdown",
      "id": "554274f8",
      "metadata": {
        "id": "554274f8"
      },
      "source": [
        "## Xavier 초기화 (2010년)와 He 초기화(2015년)"
      ]
    },
    {
      "cell_type": "markdown",
      "source": [
        "글로럿과 벤지오는 논문에서 불안정한 그레이디언트 문제를 크게 완화하는 방법을 제안합니다. 예측을 할 때는 정방향으로, 그레이디언트를 역전파할 때는 역방향으로 양방향 신호가 적절하게 흘러야합니다. 신호가 죽거나 폴주 또는 소멸하지 않아야합니다. 저자들은 적절한 신호가 흐르기 위해서는 각 층의 출력에 대한 분산이 입력에 대한 분산과 같아야 한다고 주장합니다. \n",
        "\n",
        "그리고 역방향에서 층을 통과하기 전과 후의 그레이디언트 분산이 동일해야 합니다 (). 사실 층의 입력과 출력 연결 개수(이 개수를 층의 팬-인(fan-in)과 팬-아웃(fan-out)이라고 부릅니다)가 같지 않다면 이 두가지를 보장할 수 없습니다. 하지만 글로럿과 벤지오는 실전에서 매우 잘 작동한다고 입증된 대안을 제안하였습니다. 각 층의 연결 가중치를**[식11-1]**에 기술한 방식대로 무작위로 초기화하는 것입니다. \n",
        "\n",
        "\n",
        "**Equation 11-1: Xavier initialization (when using the logistic activation function)**\n",
        "\n",
        "$\n",
        "\\begin{split}\n",
        "& \\text{Normal distribution with mean 0 and standard deviation }\n",
        "\\sigma = \\sqrt{\\dfrac{2}{n_\\text{inputs} + n_\\text{outputs}}}\\\\\n",
        "& \\text{Or a uniform distribution between -r and +r, with }\n",
        "r = \\sqrt{\\dfrac{6}{n_\\text{inputs} + n_\\text{outputs}}}\n",
        "\\end{split}\n",
        "$"
      ],
      "metadata": {
        "id": "ESCPyc0NKYxO"
      },
      "id": "ESCPyc0NKYxO"
    },
    {
      "cell_type": "code",
      "execution_count": null,
      "id": "e9ae4771",
      "metadata": {
        "colab": {
          "base_uri": "https://localhost:8080/"
        },
        "execution": {
          "iopub.execute_input": "2021-10-10T01:38:50.833228Z",
          "iopub.status.busy": "2021-10-10T01:38:50.832616Z",
          "iopub.status.idle": "2021-10-10T01:38:51.066605Z",
          "shell.execute_reply": "2021-10-10T01:38:51.066207Z"
        },
        "id": "e9ae4771",
        "outputId": "6b3fc0ee-d69d-48ce-f83f-81fdf7e577c1"
      },
      "outputs": [
        {
          "output_type": "execute_result",
          "data": {
            "text/plain": [
              "['Constant',\n",
              " 'GlorotNormal',\n",
              " 'GlorotUniform',\n",
              " 'HeNormal',\n",
              " 'HeUniform',\n",
              " 'Identity',\n",
              " 'Initializer',\n",
              " 'LecunNormal',\n",
              " 'LecunUniform',\n",
              " 'Ones',\n",
              " 'Orthogonal',\n",
              " 'RandomNormal',\n",
              " 'RandomUniform',\n",
              " 'TruncatedNormal',\n",
              " 'VarianceScaling',\n",
              " 'Zeros',\n",
              " 'constant',\n",
              " 'deserialize',\n",
              " 'get',\n",
              " 'glorot_normal',\n",
              " 'glorot_uniform',\n",
              " 'he_normal',\n",
              " 'he_uniform',\n",
              " 'identity',\n",
              " 'lecun_normal',\n",
              " 'lecun_uniform',\n",
              " 'ones',\n",
              " 'orthogonal',\n",
              " 'random_normal',\n",
              " 'random_uniform',\n",
              " 'serialize',\n",
              " 'truncated_normal',\n",
              " 'variance_scaling',\n",
              " 'zeros']"
            ]
          },
          "metadata": {},
          "execution_count": 4
        }
      ],
      "source": [
        "[name for name in dir(keras.initializers) if not name.startswith(\"_\")]"
      ]
    },
    {
      "cell_type": "markdown",
      "source": [
        "**Equation 11-1: He initialization**\n",
        "\n",
        "$\n",
        "\\begin{split}\n",
        "& \\text{Normal distribution with mean 0 and standard deviation }\n",
        "\\sigma = \\sqrt{\\dfrac{2}{n_\\text{inputs} }}\\\\\n",
        "& \\text{Or a uniform distribution between -r and +r, with }\n",
        "r = \\sqrt{\\dfrac{6}{n_\\text{inputs}}}\n",
        "\\end{split}\n",
        "$"
      ],
      "metadata": {
        "id": "6K8ljeVyPP6e"
      },
      "id": "6K8ljeVyPP6e"
    },
    {
      "cell_type": "markdown",
      "source": [
        "케라스는 기본적으로 균등분포의 글로럿 초기화를 사용합니다. 다음과 같이 층을 만들 때  kernel_initializer=\"he_uniform\"이나 kernel_initializer=\"he_normal\"로 바꾸어 He 초기화를 사용할 수 있습니다."
      ],
      "metadata": {
        "id": "pbgYma3sS_Pf"
      },
      "id": "pbgYma3sS_Pf"
    },
    {
      "cell_type": "code",
      "execution_count": null,
      "id": "4cd1bb45",
      "metadata": {
        "colab": {
          "base_uri": "https://localhost:8080/"
        },
        "execution": {
          "iopub.execute_input": "2021-10-10T01:38:51.069690Z",
          "iopub.status.busy": "2021-10-10T01:38:51.068919Z",
          "iopub.status.idle": "2021-10-10T01:38:51.079268Z",
          "shell.execute_reply": "2021-10-10T01:38:51.079684Z"
        },
        "id": "4cd1bb45",
        "outputId": "47ee2a70-b279-446a-fe67-28ef8828c5f2"
      },
      "outputs": [
        {
          "output_type": "execute_result",
          "data": {
            "text/plain": [
              "<keras.layers.core.dense.Dense at 0x7f2b999a2650>"
            ]
          },
          "metadata": {},
          "execution_count": 5
        }
      ],
      "source": [
        "keras.layers.Dense(10, activation=\"relu\", kernel_initializer=\"he_normal\")"
      ]
    },
    {
      "cell_type": "markdown",
      "source": [
        "fan_in 대신 fan_avg 기반의 균등분포 He 초기화를 사용하고 싶다면 다음과 같이 Variance Scaling을 사용할 수 있습니다. "
      ],
      "metadata": {
        "id": "onJzaAJCTRdJ"
      },
      "id": "onJzaAJCTRdJ"
    },
    {
      "cell_type": "code",
      "execution_count": null,
      "id": "41fcc466",
      "metadata": {
        "colab": {
          "base_uri": "https://localhost:8080/"
        },
        "execution": {
          "iopub.execute_input": "2021-10-10T01:38:51.082808Z",
          "iopub.status.busy": "2021-10-10T01:38:51.081918Z",
          "iopub.status.idle": "2021-10-10T01:38:51.089362Z",
          "shell.execute_reply": "2021-10-10T01:38:51.088952Z"
        },
        "id": "41fcc466",
        "outputId": "2a406474-bbac-4bae-aef0-850a9c935b38"
      },
      "outputs": [
        {
          "output_type": "execute_result",
          "data": {
            "text/plain": [
              "<keras.layers.core.dense.Dense at 0x7f2b99a14410>"
            ]
          },
          "metadata": {},
          "execution_count": 6
        }
      ],
      "source": [
        "init = keras.initializers.VarianceScaling(scale=2., mode='fan_avg',\n",
        "                                          distribution='uniform')\n",
        "keras.layers.Dense(10, activation=\"relu\", kernel_initializer=init)"
      ]
    },
    {
      "cell_type": "markdown",
      "source": [
        "* VarianceScaling 클래스의 매개 변수 기본값은 scale=1.0, mode ='fan_in',  distribution='truncated_normal'입니다. 절단 정규분포(distribution='truncated_normal')경우에는 분포 = 1.3 x scale/mode로 계싼됩니다. 정규 분포 (distribution='untruncated_normal')일 경우에는 분포 = scale/mode)로 계산됩니다. 케라스 층의 kernel_initializer 매개 변수의 기본값은 'glorot_uniform\"으로 VarianceScaling(scale=1.0, mode ='fan_avg',  distribution='uniform')을 사용합니다. 'he_normal' 경우  VarianceScaling(scale=2.0, mode ='fan_in',  distribution='truncated_normal')을 사용합니다. 'lecun_normal'일 경우 VarianceScaling 클래스의 기본값을 사용합니다."
      ],
      "metadata": {
        "id": "Zbf0p61ATeQ7"
      },
      "id": "Zbf0p61ATeQ7"
    },
    {
      "cell_type": "markdown",
      "source": [
        "**Table 11-1: Initialization parameters for each type of activation function**\n",
        "\n",
        "* Logistic uniform: $ r = \\sqrt{\\dfrac{6}{n_\\text{inputs} + n_\\text{outputs}}} $\n",
        "* Logistic normal: $ \\sigma = \\sqrt{\\dfrac{2}{n_\\text{inputs} + n_\\text{outputs}}} $\n",
        "* Hyperbolic tangent uniform: $ r = 4 \\sqrt{\\dfrac{6}{n_\\text{inputs} + n_\\text{outputs}}} $\n",
        "* Hyperbolic tangent normal: $ \\sigma = 4 \\sqrt{\\dfrac{2}{n_\\text{inputs} + n_\\text{outputs}}} $\n",
        "* ReLU (and its variants) uniform: $ r = \\sqrt{2} \\sqrt{\\dfrac{6}{n_\\text{inputs} + n_\\text{outputs}}} $\n",
        "* ReLU (and its variants) normal: $ \\sigma = \\sqrt{2} \\sqrt{\\dfrac{2}{n_\\text{inputs} + n_\\text{outputs}}} $\n"
      ],
      "metadata": {
        "id": "lsVmy_1fO9Mh"
      },
      "id": "lsVmy_1fO9Mh"
    },
    {
      "cell_type": "markdown",
      "source": [
        "# [예제] Initialization 초기화 \n",
        "출처: https://junstar92.tistory.com/101 \n",
        "\n",
        "초기화하는 방법에 따라서, Gradient Descent의 수렴 속도를 증가시킬 수 있고 training error를 더 낮게 학습할 수 있습니다.\n",
        "\n",
        "실습에서는 numpy를 사용해서 1) 0으로 초기화, 2) random 초기화(np.random.randn), 3) he 초기화를 사용했습니다.\n",
        " \n",
        "우선 테스트하기 전 필요한 함수들과 data를 읽어오겠습니다.\n",
        "\n",
        "\n",
        "\n"
      ],
      "metadata": {
        "id": "USKZhZmOQzn6"
      },
      "id": "USKZhZmOQzn6"
    },
    {
      "cell_type": "code",
      "source": [
        "import numpy as np\n",
        "import tensorflow as tf\n",
        "import matplotlib.pyplot as plt\n",
        "import sklearn\n",
        "import sklearn.datasets\n",
        "%matplotlib inline\n",
        "\n",
        "plt.rcParams['figure.figsize'] = (7.0, 4.0) # set default size of plots\n",
        "plt.rcParams['image.interpolation'] = 'nearest'\n",
        "plt.rcParams['image.cmap'] = 'gray'\n",
        "\n",
        "def load_dataset():\n",
        "    np.random.seed(1)\n",
        "    train_X, train_Y = sklearn.datasets.make_circles(n_samples=300, noise=.05)\n",
        "    np.random.seed(2)\n",
        "    test_X, test_Y = sklearn.datasets.make_circles(n_samples=100, noise=.05)\n",
        "    # Visualize the data\n",
        "    plt.scatter(train_X[:, 0], train_X[:, 1], c=train_Y, s=40, cmap=plt.cm.Spectral);\n",
        "    return train_X, train_Y, test_X, test_Y\n",
        "\n",
        "\n",
        "# load image dataset: blue/red dots in circles\n",
        "train_X, train_Y, test_X, test_Y = load_dataset()\n",
        "\n",
        "def plot_decision_boundary(model, X, y):\n",
        "    # Set min and max values and give it some padding\n",
        "    x_min, x_max = X[:, 0].min() - 1, X[:, 0].max() + 1\n",
        "    y_min, y_max = X[:, 1].min() - 1, X[:, 1].max() + 1\n",
        "    h = 0.01\n",
        "    # Generate a grid of points with distance h between them\n",
        "    xx, yy = np.meshgrid(np.arange(x_min, x_max, h), np.arange(y_min, y_max, h))\n",
        "    # Predict the function value for the whole grid\n",
        "    Z = model(np.c_[xx.ravel(), yy.ravel()])\n",
        "    Z = Z.reshape(xx.shape)\n",
        "    # Plot the contour and training examples\n",
        "    plt.contourf(xx, yy, Z, cmap=plt.cm.Spectral)\n",
        "    plt.ylabel('x2')\n",
        "    plt.xlabel('x1')\n",
        "    plt.scatter(X[:, 0], X[:, 1], c=y, cmap=plt.cm.Spectral)\n",
        "    plt.show()"
      ],
      "metadata": {
        "colab": {
          "base_uri": "https://localhost:8080/",
          "height": 267
        },
        "id": "CET7Xl55QNYW",
        "outputId": "46df1791-a1ec-4c79-c00a-303a589fa10d"
      },
      "id": "CET7Xl55QNYW",
      "execution_count": null,
      "outputs": [
        {
          "output_type": "display_data",
          "data": {
            "text/plain": [
              "<Figure size 504x288 with 1 Axes>"
            ],
            "image/png": "[encoded data removed]"
          },
          "metadata": {
            "needs_background": "light"
          }
        }
      ]
    },
    {
      "cell_type": "markdown",
      "source": [
        "그리고 매번 동일한 랜덤값을 얻기 위한 global seed 설정과 operation seed로 사용할 값을 지정합니다.\n"
      ],
      "metadata": {
        "id": "UEAzkpBlQhbT"
      },
      "id": "UEAzkpBlQhbT"
    },
    {
      "cell_type": "code",
      "source": [
        "def set_global_seed():\n",
        "    tf.random.set_seed(2)\n",
        "SEED = 1\n"
      ],
      "metadata": {
        "id": "kP-IJlB3QfC9"
      },
      "id": "kP-IJlB3QfC9",
      "execution_count": null,
      "outputs": []
    },
    {
      "cell_type": "markdown",
      "source": [
        "##  1. Neural Network Model 구현\n"
      ],
      "metadata": {
        "id": "bsi6v7u0QjVa"
      },
      "id": "bsi6v7u0QjVa"
    },
    {
      "cell_type": "markdown",
      "source": [
        "테스트에 사용할 NN은 3개의 layer를 가진 NN입니다.  input -> 1st layer(10 units, relu) -> 2nd layer(5 units, relu) -> output layer(sigmoid) -> output 로 이루어져있습니다."
      ],
      "metadata": {
        "id": "sCpgYub-QmBI"
      },
      "id": "sCpgYub-QmBI"
    },
    {
      "cell_type": "code",
      "source": [
        "layers_dims = [train_X.shape[1], 10, 5, 1]\n",
        " \n",
        "def Model(layers_dims, learning_rate=0.01, initialization='random'):\n",
        "    set_global_seed()\n",
        "    \n",
        "    model = tf.keras.models.Sequential()\n",
        "    model.add(tf.keras.layers.Input(shape=(layers_dims[0],)))\n",
        "    \n",
        "    if initialization=='zeros':\n",
        "        initializer=init_zeros\n",
        "    elif initialization=='random':\n",
        "        initializer=init_random\n",
        "    elif initialization=='he':\n",
        "        initializer=init_he\n",
        "        \n",
        "    n_layer = len(layers_dims)\n",
        "    for i in range(1, n_layer):\n",
        "        if i != n_layer-1:\n",
        "            model.add(tf.keras.layers.Dense(\n",
        "                layers_dims[i], activation='relu', kernel_initializer=initializer\n",
        "            ))\n",
        "        else:\n",
        "            model.add(tf.keras.layers.Dense(\n",
        "                layers_dims[i], activation='sigmoid', kernel_initializer=initializer\n",
        "            ))\n",
        "    \n",
        "    model.compile(optimizer=tf.keras.optimizers.SGD(learning_rate=learning_rate),\n",
        "                 loss='binary_crossentropy',\n",
        "                 metrics=['accuracy'])\n",
        "    \n",
        "    # print('파라미터: ', model.get_weights()[0])\n",
        "    \n",
        "    return model\n"
      ],
      "metadata": {
        "id": "RQoDSEK1Qrf4"
      },
      "id": "RQoDSEK1Qrf4",
      "execution_count": null,
      "outputs": []
    },
    {
      "cell_type": "markdown",
      "source": [
        "각각의 초기화는 init_zero, init_random, init_he를 통해서 정해지고, 자세한 확인은 초기화 class를 만들고나서 해보도록 하겠습니다. bias_initializer는 설정하지 않으면 자동으로 0으로 초기화되므로 따로 설정하지 않았습니다.\n",
        "\n",
        "그리고 모델을 생성할 때마다 동일하게 초기화하기 위해서 global seed를 모델을 생성하기 전에 지정해주도록 했습니다."
      ],
      "metadata": {
        "id": "2tDPqEvfQu1Z"
      },
      "id": "2tDPqEvfQu1Z"
    },
    {
      "cell_type": "markdown",
      "source": [
        "## 2. Initialization Class 구현\n"
      ],
      "metadata": {
        "id": "wF5zXmrFQxi4"
      },
      "id": "wF5zXmrFQxi4"
    },
    {
      "cell_type": "markdown",
      "source": [
        "initializer는 tf.keras.initializers.Initializer를 상속하는 class를 생성해서 model의 layer를 추가할때, kernel_initializer의 인자로 사용할 것입니다\n"
      ],
      "metadata": {
        "id": "YmfFwBcnRE75"
      },
      "id": "YmfFwBcnRE75"
    },
    {
      "cell_type": "markdown",
      "source": [
        "***Zero initialization***\n",
        "zero 초기화 class구현은 간단합니다. __init__을 따로 정의할 필요는 없고, 해당 class를 사용할 때, __call__을 통해서 파라미터를 반환하게 되는데, 단순 0으로 초기화할 것이므로 tf.zeros를 통해서 0으로 초기화된 Tensor를 반환하면 됩니다. 직접 구현하지 않고, tf.keras.initializers.Zeros()를 사용해도 됩니다 !"
      ],
      "metadata": {
        "id": "wOHRyyosRT0A"
      },
      "id": "wOHRyyosRT0A"
    },
    {
      "cell_type": "code",
      "source": [
        "class init_zeros(tf.keras.initializers.Initializer):\n",
        "    def __call__(self, shape, dtype=None):\n",
        "        return tf.zeros(shape, dtype=dtype, name=None)"
      ],
      "metadata": {
        "id": "6qiNUODrRGdU"
      },
      "id": "6qiNUODrRGdU",
      "execution_count": null,
      "outputs": []
    },
    {
      "cell_type": "markdown",
      "source": [
        "***random initialization***\n",
        "\n",
        "실습에서 random 초기화에 np.random.randn을 사용했습니다. 이 함수는 평균이 0, 분산이 1인 가우시안 정규분포로 이 값들 중에서 임의로 초기화를 하게 됩니다. 테스트를 정확하게 하기 위해서 tf.random.normal에 seed를 설정해주었습니다. 그리고 초기화한 파라미터에 10을 곱해주었습니다.\n"
      ],
      "metadata": {
        "id": "94rq3GueRQDy"
      },
      "id": "94rq3GueRQDy"
    },
    {
      "cell_type": "code",
      "source": [
        "class init_random(tf.keras.initializers.Initializer):\n",
        "    def __init__(self, mean=0, stddev=1):\n",
        "        self.mean = mean\n",
        "        self.stddev = stddev\n",
        "    \n",
        "    def __call__(self, shape, dtype=None):\n",
        "        return tf.random.normal(\n",
        "            shape, mean=self.mean, stddev=self.stddev, seed=SEED, dtype=dtype)*10"
      ],
      "metadata": {
        "id": "plCKuVrnRaNo"
      },
      "id": "plCKuVrnRaNo",
      "execution_count": null,
      "outputs": []
    },
    {
      "cell_type": "markdown",
      "source": [
        "***he initialization***\n",
        "\n"
      ],
      "metadata": {
        "id": "6Ld-sfAbRbli"
      },
      "id": "6Ld-sfAbRbli"
    },
    {
      "cell_type": "code",
      "source": [
        "class init_he(tf.keras.initializers.Initializer):\n",
        "    def __init__(self, mean=0, stddev=1):\n",
        "        self.mean = mean\n",
        "        self.stddev = stddev\n",
        "    \n",
        "    def __call__(self, shape, dtype=None):\n",
        "        return tf.random.normal(\n",
        "            shape, mean=self.mean, stddev=self.stddev, seed=SEED, dtype=dtype)*np.sqrt(2/shape[0])\n"
      ],
      "metadata": {
        "id": "DSNGP9bQRgAr"
      },
      "id": "DSNGP9bQRgAr",
      "execution_count": null,
      "outputs": []
    },
    {
      "cell_type": "markdown",
      "source": [
        "이렇게 3개의 초기화 class를 만들어주었습니다. 각각의 모델을 생성하게 되면, 다음과 같이 초기화된 것을 확인할 수 있습니다. "
      ],
      "metadata": {
        "id": "KYuAJOe7Rhrk"
      },
      "id": "KYuAJOe7Rhrk"
    },
    {
      "cell_type": "code",
      "source": [
        "Model(layers_dims, initialization='zeros')\n",
        "Model(layers_dims, initialization='random')\n",
        "Model(layers_dims, initialization='he')"
      ],
      "metadata": {
        "colab": {
          "base_uri": "https://localhost:8080/"
        },
        "id": "eVrpDFhWRipZ",
        "outputId": "7a6d9391-cd12-471a-c02c-f98e2b09d1c9"
      },
      "id": "eVrpDFhWRipZ",
      "execution_count": null,
      "outputs": [
        {
          "output_type": "execute_result",
          "data": {
            "text/plain": [
              "<keras.engine.sequential.Sequential at 0x7f2b9c6dc990>"
            ]
          },
          "metadata": {},
          "execution_count": 13
        }
      ]
    },
    {
      "cell_type": "markdown",
      "source": [
        "이제부턴 print는 주석처리하고 진행하도록 합니다 !"
      ],
      "metadata": {
        "id": "6-rMWbdLRl4s"
      },
      "id": "6-rMWbdLRl4s"
    },
    {
      "cell_type": "markdown",
      "source": [
        "## 3. 학습\n",
        "\n",
        "***zero initialization의 경우***"
      ],
      "metadata": {
        "id": "54IxemQLRpzC"
      },
      "id": "54IxemQLRpzC"
    },
    {
      "cell_type": "code",
      "source": [
        "zero_init_model=Model(layers_dims, initialization='zeros')\n",
        "hist_zero = zero_init_model.fit(train_X, train_Y, epochs=15000, verbose=0)\n",
        " \n",
        "# plot the cost\n",
        "plt.plot(np.squeeze(hist_zero.history['loss']))\n",
        "plt.ylabel('cost')\n",
        "plt.xlabel('iterations')\n",
        "plt.title(\"Learning rate =\" + str(0.01))\n",
        "plt.ylim([0, 1])\n",
        "plt.show()\n",
        " \n",
        "print(f\"After training, Cost: {hist_zero.history['loss'][-1]} - Accuracy: {hist_zero.history['accuracy'][-1]}\")"
      ],
      "metadata": {
        "colab": {
          "base_uri": "https://localhost:8080/",
          "height": 320
        },
        "id": "v7TvKwUTRpMX",
        "outputId": "ad2513a9-4ce4-4f73-b4bf-130865375ffe"
      },
      "id": "v7TvKwUTRpMX",
      "execution_count": null,
      "outputs": [
        {
          "output_type": "display_data",
          "data": {
            "text/plain": [
              "<Figure size 504x288 with 1 Axes>"
            ],
            "image/png": "[encoded data removed]"
          },
          "metadata": {
            "needs_background": "light"
          }
        },
        {
          "output_type": "stream",
          "name": "stdout",
          "text": [
            "After training, Cost: 0.6931883692741394 - Accuracy: 0.5\n"
          ]
        }
      ]
    },
    {
      "cell_type": "markdown",
      "source": [
        "딥러닝에서 0으로 초기화하는 경우 네트워크는 break symmetry에 실패하기 때문에, 각 layer들의 unit이 모두 같은 값으로 학습이 되어서 모든 layer가 unit이 1개인 것처럼 동작하게 됩니다."
      ],
      "metadata": {
        "id": "VBV0JiUjRvzS"
      },
      "id": "VBV0JiUjRvzS"
    },
    {
      "cell_type": "code",
      "source": [
        "plt.title(\"Model with Zeros initialization\")\n",
        "axes = plt.gca()\n",
        "axes.set_xlim([-1.5,1.5])\n",
        "axes.set_ylim([-1.5,1.5])\n",
        "plot_decision_boundary(lambda x: zero_init_model.predict(x) > 0.5, train_X, train_Y)"
      ],
      "metadata": {
        "colab": {
          "base_uri": "https://localhost:8080/",
          "height": 302
        },
        "id": "snLIlmEqRzN0",
        "outputId": "e1d9f79e-9a85-4cf5-f7d8-802e8daed10b"
      },
      "id": "snLIlmEqRzN0",
      "execution_count": null,
      "outputs": [
        {
          "output_type": "display_data",
          "data": {
            "text/plain": [
              "<Figure size 504x288 with 1 Axes>"
            ],
            "image/png": "[encoded data removed]"
          },
          "metadata": {
            "needs_background": "light"
          }
        }
      ]
    },
    {
      "cell_type": "markdown",
      "source": [
        "***random initialization***\n",
        "\n",
        "\n",
        "random 초기화로 수행하면 어떻게 되는지 살펴보겠습니다."
      ],
      "metadata": {
        "id": "UR7GMKGqR3Pn"
      },
      "id": "UR7GMKGqR3Pn"
    },
    {
      "cell_type": "code",
      "source": [
        "random_init_model = Model(layers_dims, initialization='random')\n",
        "random_model_hist = random_init_model.fit(train_X, train_Y, epochs=15000, verbose=0)\n",
        " \n",
        "# plot the cost\n",
        "plt.plot(np.squeeze(random_model_hist.history['loss']))\n",
        "plt.ylabel('cost')\n",
        "plt.xlabel('iterations')\n",
        "plt.title(\"Learning rate =\" + str(0.01))\n",
        "plt.ylim([0, 1])\n",
        "plt.show()\n",
        " \n",
        "print(f\"After training, Cost: {random_model_hist.history['loss'][-1]} - Accuracy: {random_model_hist.history['accuracy'][-1]}\")\n",
        "zero_init_model.evaluate(test_X, test_Y)"
      ],
      "metadata": {
        "colab": {
          "base_uri": "https://localhost:8080/",
          "height": 357
        },
        "id": "SgCDASXxR7aY",
        "outputId": "2de6f8e0-1f0e-4f35-de67-1ca1b3194f62"
      },
      "id": "SgCDASXxR7aY",
      "execution_count": null,
      "outputs": [
        {
          "output_type": "display_data",
          "data": {
            "text/plain": [
              "<Figure size 504x288 with 1 Axes>"
            ],
            "image/png": "[encoded data removed]"
          },
          "metadata": {
            "needs_background": "light"
          }
        },
        {
          "output_type": "stream",
          "name": "stdout",
          "text": [
            "After training, Cost: 0.4185068905353546 - Accuracy: 0.7633333206176758\n",
            "4/4 [==============================] - 0s 5ms/step - loss: 0.6932 - accuracy: 0.5000\n"
          ]
        },
        {
          "output_type": "execute_result",
          "data": {
            "text/plain": [
              "[0.6931503415107727, 0.5]"
            ]
          },
          "metadata": {},
          "execution_count": 48
        }
      ]
    },
    {
      "cell_type": "markdown",
      "source": [
        "이전보다는 꽤 괜찮은 결과를 얻었습니다. "
      ],
      "metadata": {
        "id": "v-g_79mvR_Wx"
      },
      "id": "v-g_79mvR_Wx"
    },
    {
      "cell_type": "code",
      "source": [
        "plt.title(\"Model with Random initialization\")\n",
        "axes = plt.gca()\n",
        "axes.set_xlim([-1.5,1.5])\n",
        "axes.set_ylim([-1.5,1.5])\n",
        "plot_decision_boundary(lambda x: random_init_model.predict(x) > 0.5, train_X, train_Y)"
      ],
      "metadata": {
        "colab": {
          "base_uri": "https://localhost:8080/",
          "height": 302
        },
        "id": "GVr-WqT6SAwj",
        "outputId": "9dd2c0b2-e358-4b1e-e41b-b6274b774b9a"
      },
      "id": "GVr-WqT6SAwj",
      "execution_count": null,
      "outputs": [
        {
          "output_type": "display_data",
          "data": {
            "text/plain": [
              "<Figure size 504x288 with 1 Axes>"
            ],
            "image/png": "[encoded data removed]"
          },
          "metadata": {
            "needs_background": "light"
          }
        }
      ]
    },
    {
      "cell_type": "markdown",
      "source": [
        "***He initialization***\n",
        "\n",
        "마지막으로 he initialization을 사용해서 학습해보도록 하겠습니다.\n"
      ],
      "metadata": {
        "id": "KK-e10OfSDSH"
      },
      "id": "KK-e10OfSDSH"
    },
    {
      "cell_type": "code",
      "source": [
        "he_init_model = Model(layers_dims, initialization='he')\n",
        "hist_he = he_init_model.fit(train_X, train_Y, epochs=15000, verbose=0)\n",
        " \n",
        "# plot the cost\n",
        "plt.plot(np.squeeze(hist_he.history['loss']))\n",
        "plt.ylabel('cost')\n",
        "plt.xlabel('iterations')\n",
        "plt.title(\"Learning rate =\" + str(0.01))\n",
        "plt.ylim([0, 1])\n",
        "plt.show()\n",
        " \n",
        "print(f\"After training, Cost: {hist_he.history['loss'][-1]} - Accuracy: {hist_he.history['accuracy'][-1]}\")\n",
        "he_init_model.evaluate(test_X, test_Y)"
      ],
      "metadata": {
        "colab": {
          "base_uri": "https://localhost:8080/",
          "height": 357
        },
        "id": "-usXFWlHSGzH",
        "outputId": "7118c6d0-f79b-4bdb-803c-a26aca5a07c6"
      },
      "id": "-usXFWlHSGzH",
      "execution_count": null,
      "outputs": [
        {
          "output_type": "display_data",
          "data": {
            "text/plain": [
              "<Figure size 504x288 with 1 Axes>"
            ],
            "image/png": "[encoded data removed]"
          },
          "metadata": {
            "needs_background": "light"
          }
        },
        {
          "output_type": "stream",
          "name": "stdout",
          "text": [
            "After training, Cost: 0.01141868345439434 - Accuracy: 0.996666669845581\n",
            "4/4 [==============================] - 0s 4ms/step - loss: 0.2134 - accuracy: 0.9400\n"
          ]
        },
        {
          "output_type": "execute_result",
          "data": {
            "text/plain": [
              "[0.21344056725502014, 0.9399999976158142]"
            ]
          },
          "metadata": {},
          "execution_count": 18
        }
      ]
    },
    {
      "cell_type": "markdown",
      "source": [
        "99%의 training 정확도와 94%의 test 정확도를 얻었습니다. 이전과 비교하면 확실히 좋은 결과를 얻게 되었습니다. 아래 decision boundary를 확인해도 꽤 정확한 것을 볼 수 있습니다."
      ],
      "metadata": {
        "id": "BkaYLC88SIxu"
      },
      "id": "BkaYLC88SIxu"
    },
    {
      "cell_type": "code",
      "source": [
        "plt.title(\"Model with He initialization\")\n",
        "axes = plt.gca()\n",
        "axes.set_xlim([-1.5,1.5])\n",
        "axes.set_ylim([-1.5,1.5])\n",
        "plot_decision_boundary(lambda x: he_init_model.predict(x) > 0.5, train_X, train_Y)"
      ],
      "metadata": {
        "colab": {
          "base_uri": "https://localhost:8080/",
          "height": 302
        },
        "id": "Lxc2HT6ySKpH",
        "outputId": "ba91a1e4-5b5b-4cb0-c647-add03e469a09"
      },
      "id": "Lxc2HT6ySKpH",
      "execution_count": null,
      "outputs": [
        {
          "output_type": "display_data",
          "data": {
            "text/plain": [
              "<Figure size 504x288 with 1 Axes>"
            ],
            "image/png": "[encoded data removed]"
          },
          "metadata": {
            "needs_background": "light"
          }
        }
      ]
    },
    {
      "cell_type": "markdown",
      "source": [
        "확실히 초기화를 어떻게 하느냐에 따라서 학습에 많은 영향을 미치는 것으로 확인이 됩니다.\n",
        "\n",
        "keras에서는 초기화 방법을 설정하지 않으면 기본적으로 tf.kears.initializiers.GlorotNormal이 적용되는데, 이것은 Xavier normal initilizer를 의미합니다."
      ],
      "metadata": {
        "id": "8GA9ndWFSNGI"
      },
      "id": "8GA9ndWFSNGI"
    },
    {
      "cell_type": "markdown",
      "id": "96bcf452",
      "metadata": {
        "id": "96bcf452"
      },
      "source": [
        "## 수렴하지 않는 활성화 함수"
      ]
    },
    {
      "cell_type": "markdown",
      "source": [
        "글로럿과 벤지오의 2010년 논문에서 얻은 통찰 중 하나는 활성화 함수를 잘못 선택하면 자칫그레이디언트의 소실이나 폭주로 이어질 수 있다는 것입니다. 그전에는 대부분 생물학적 뉴런의 방식과 비슷한 시그모이드 활성화 함수가 최선의 선택일 것이라고 생각했습니다. 하지만 다른 활성화 함수가 심층 신경망에서 훨씬 더 잘 작동한다는 사실이 밝혀졌습니다. 특히 ReLU함수는 특정 양숫값에 수렴하지 않는다는 큰 장점이 있습니다. \n",
        "\n",
        "안타깝게도 ReLU 함수는 완벽하지 않습니다., 죽은 ReLU로 알려진 문제가 있습니다.  즉 가중치 합이 음수이면 ReLU함수의 그레이디언트가 0이 되므로 경사 하강법이 더는 작동하지 않습니다.\n",
        "\n",
        "이 무제를 해결하기 위해 LeakyReLU 같은 ReLU 함수의 변종을 사용합니다."
      ],
      "metadata": {
        "id": "GPhPPyRyW5CI"
      },
      "id": "GPhPPyRyW5CI"
    },
    {
      "cell_type": "markdown",
      "id": "f8f59f9e",
      "metadata": {
        "id": "f8f59f9e"
      },
      "source": [
        "### LeakyReLU (Bing Xu et al., 2015)"
      ]
    },
    {
      "cell_type": "markdown",
      "source": [
        "$\n",
        "\\operatorname{LeakyReLU}_\\alpha(z) = max(\\alpha x,x)\n",
        "$"
      ],
      "metadata": {
        "id": "vXABhqtrUndF"
      },
      "id": "vXABhqtrUndF"
    },
    {
      "cell_type": "code",
      "execution_count": null,
      "id": "05495910",
      "metadata": {
        "execution": {
          "iopub.execute_input": "2021-10-10T01:38:51.093592Z",
          "iopub.status.busy": "2021-10-10T01:38:51.092825Z",
          "iopub.status.idle": "2021-10-10T01:38:51.095060Z",
          "shell.execute_reply": "2021-10-10T01:38:51.094664Z"
        },
        "id": "05495910"
      },
      "outputs": [],
      "source": [
        "def leaky_relu(z, alpha=0.01):\n",
        "    return np.maximum(alpha*z, z)"
      ]
    },
    {
      "cell_type": "code",
      "execution_count": null,
      "id": "51324951",
      "metadata": {
        "colab": {
          "base_uri": "https://localhost:8080/",
          "height": 315
        },
        "execution": {
          "iopub.execute_input": "2021-10-10T01:38:51.115275Z",
          "iopub.status.busy": "2021-10-10T01:38:51.113109Z",
          "iopub.status.idle": "2021-10-10T01:38:51.472111Z",
          "shell.execute_reply": "2021-10-10T01:38:51.472494Z"
        },
        "id": "51324951",
        "outputId": "26e676a6-4991-450c-eee2-ab0000281f27"
      },
      "outputs": [
        {
          "output_type": "stream",
          "name": "stdout",
          "text": [
            "그림 저장: leaky_relu_plot\n"
          ]
        },
        {
          "output_type": "display_data",
          "data": {
            "text/plain": [
              "<Figure size 504x288 with 1 Axes>"
            ],
            "image/png": "[encoded data removed]"
          },
          "metadata": {
            "needs_background": "light"
          }
        }
      ],
      "source": [
        "plt.plot(z, leaky_relu(z, 0.05), \"b-\", linewidth=2)\n",
        "plt.plot([-5, 5], [0, 0], 'k-')\n",
        "plt.plot([0, 0], [-0.5, 4.2], 'k-')\n",
        "plt.grid(True)\n",
        "props = dict(facecolor='black', shrink=0.1)\n",
        "plt.annotate('Leak', xytext=(-3.5, 0.5), xy=(-5, -0.2), arrowprops=props, fontsize=14, ha=\"center\")\n",
        "plt.title(\"Leaky ReLU activation function\", fontsize=14)\n",
        "plt.axis([-5, 5, -0.5, 4.2])\n",
        "\n",
        "save_fig(\"leaky_relu_plot\")\n",
        "plt.show()"
      ]
    },
    {
      "cell_type": "code",
      "execution_count": null,
      "id": "e9096e34",
      "metadata": {
        "execution": {
          "iopub.execute_input": "2021-10-10T01:38:51.477786Z",
          "iopub.status.busy": "2021-10-10T01:38:51.477118Z",
          "iopub.status.idle": "2021-10-10T01:38:51.479835Z",
          "shell.execute_reply": "2021-10-10T01:38:51.480201Z"
        },
        "id": "e9096e34",
        "colab": {
          "base_uri": "https://localhost:8080/"
        },
        "outputId": "87e7721a-5d0a-4b40-f687-d2087d75fe9b"
      },
      "outputs": [
        {
          "output_type": "execute_result",
          "data": {
            "text/plain": [
              "['deserialize',\n",
              " 'elu',\n",
              " 'exponential',\n",
              " 'gelu',\n",
              " 'get',\n",
              " 'hard_sigmoid',\n",
              " 'linear',\n",
              " 'relu',\n",
              " 'selu',\n",
              " 'serialize',\n",
              " 'sigmoid',\n",
              " 'softmax',\n",
              " 'softplus',\n",
              " 'softsign',\n",
              " 'swish',\n",
              " 'tanh']"
            ]
          },
          "metadata": {},
          "execution_count": 22
        }
      ],
      "source": [
        "[m for m in dir(keras.activations) if not m.startswith(\"_\")]"
      ]
    },
    {
      "cell_type": "code",
      "execution_count": null,
      "id": "53b492c3",
      "metadata": {
        "execution": {
          "iopub.execute_input": "2021-10-10T01:38:51.484467Z",
          "iopub.status.busy": "2021-10-10T01:38:51.483860Z",
          "iopub.status.idle": "2021-10-10T01:38:51.487056Z",
          "shell.execute_reply": "2021-10-10T01:38:51.486549Z"
        },
        "id": "53b492c3",
        "colab": {
          "base_uri": "https://localhost:8080/"
        },
        "outputId": "86a559c6-bef7-4a21-b5d5-9cff593e4c21"
      },
      "outputs": [
        {
          "output_type": "execute_result",
          "data": {
            "text/plain": [
              "['LeakyReLU', 'PReLU', 'ReLU', 'ThresholdedReLU']"
            ]
          },
          "metadata": {},
          "execution_count": 23
        }
      ],
      "source": [
        "[m for m in dir(keras.layers) if \"relu\" in m.lower()]"
      ]
    },
    {
      "cell_type": "markdown",
      "id": "d0423ff4",
      "metadata": {
        "id": "d0423ff4"
      },
      "source": [
        "LeakyReLU를 사용해 패션 MNIST에서 신경망을 훈련해 보죠:"
      ]
    },
    {
      "cell_type": "code",
      "execution_count": null,
      "id": "e8d26b2f",
      "metadata": {
        "execution": {
          "iopub.execute_input": "2021-10-10T01:38:51.491570Z",
          "iopub.status.busy": "2021-10-10T01:38:51.490837Z",
          "iopub.status.idle": "2021-10-10T01:38:52.134589Z",
          "shell.execute_reply": "2021-10-10T01:38:52.135056Z"
        },
        "id": "e8d26b2f",
        "colab": {
          "base_uri": "https://localhost:8080/"
        },
        "outputId": "b6a8a6ba-bfd7-43db-db73-5ce0297cc19e"
      },
      "outputs": [
        {
          "output_type": "stream",
          "name": "stdout",
          "text": [
            "Downloading data from https://storage.googleapis.com/tensorflow/tf-keras-datasets/train-labels-idx1-ubyte.gz\n",
            "32768/29515 [=================================] - 0s 0us/step\n",
            "40960/29515 [=========================================] - 0s 0us/step\n",
            "Downloading data from https://storage.googleapis.com/tensorflow/tf-keras-datasets/train-images-idx3-ubyte.gz\n",
            "26427392/26421880 [==============================] - 0s 0us/step\n",
            "26435584/26421880 [==============================] - 0s 0us/step\n",
            "Downloading data from https://storage.googleapis.com/tensorflow/tf-keras-datasets/t10k-labels-idx1-ubyte.gz\n",
            "16384/5148 [===============================================================================================] - 0s 0us/step\n",
            "Downloading data from https://storage.googleapis.com/tensorflow/tf-keras-datasets/t10k-images-idx3-ubyte.gz\n",
            "4423680/4422102 [==============================] - 0s 0us/step\n",
            "4431872/4422102 [==============================] - 0s 0us/step\n"
          ]
        }
      ],
      "source": [
        "(X_train_full, y_train_full), (X_test, y_test) = keras.datasets.fashion_mnist.load_data()\n",
        "X_train_full = X_train_full / 255.0\n",
        "X_test = X_test / 255.0\n",
        "X_valid, X_train = X_train_full[:5000], X_train_full[5000:]\n",
        "y_valid, y_train = y_train_full[:5000], y_train_full[5000:]"
      ]
    },
    {
      "cell_type": "code",
      "execution_count": null,
      "id": "544a464a",
      "metadata": {
        "execution": {
          "iopub.execute_input": "2021-10-10T01:38:52.138875Z",
          "iopub.status.busy": "2021-10-10T01:38:52.137680Z",
          "iopub.status.idle": "2021-10-10T01:38:52.183038Z",
          "shell.execute_reply": "2021-10-10T01:38:52.183455Z"
        },
        "id": "544a464a"
      },
      "outputs": [],
      "source": [
        "tf.random.set_seed(42)\n",
        "np.random.seed(42)\n",
        "\n",
        "model = keras.models.Sequential([\n",
        "    keras.layers.Flatten(input_shape=[28, 28]),\n",
        "    keras.layers.Dense(300, kernel_initializer=\"he_normal\"),\n",
        "    keras.layers.LeakyReLU(),\n",
        "    keras.layers.Dense(100, kernel_initializer=\"he_normal\"),\n",
        "    keras.layers.LeakyReLU(),\n",
        "    keras.layers.Dense(10, activation=\"softmax\")\n",
        "])"
      ]
    },
    {
      "cell_type": "code",
      "execution_count": null,
      "id": "ab3a5e0e",
      "metadata": {
        "execution": {
          "iopub.execute_input": "2021-10-10T01:38:52.188151Z",
          "iopub.status.busy": "2021-10-10T01:38:52.187685Z",
          "iopub.status.idle": "2021-10-10T01:38:52.196173Z",
          "shell.execute_reply": "2021-10-10T01:38:52.196553Z"
        },
        "id": "ab3a5e0e"
      },
      "outputs": [],
      "source": [
        "model.compile(loss=\"sparse_categorical_crossentropy\",\n",
        "              optimizer=keras.optimizers.SGD(learning_rate=1e-3),\n",
        "              metrics=[\"accuracy\"])"
      ]
    },
    {
      "cell_type": "code",
      "execution_count": null,
      "id": "d53fe85f",
      "metadata": {
        "execution": {
          "iopub.execute_input": "2021-10-10T01:38:52.199552Z",
          "iopub.status.busy": "2021-10-10T01:38:52.199069Z",
          "iopub.status.idle": "2021-10-10T01:39:25.601210Z",
          "shell.execute_reply": "2021-10-10T01:39:25.601692Z"
        },
        "id": "d53fe85f",
        "scrolled": true,
        "colab": {
          "base_uri": "https://localhost:8080/"
        },
        "outputId": "4e5e46ef-2b99-40c4-bfed-dfdffb96384d"
      },
      "outputs": [
        {
          "output_type": "stream",
          "name": "stdout",
          "text": [
            "Epoch 1/10\n",
            "1719/1719 [==============================] - 7s 4ms/step - loss: 1.2819 - accuracy: 0.6229 - val_loss: 0.8886 - val_accuracy: 0.7160\n",
            "Epoch 2/10\n",
            "1719/1719 [==============================] - 7s 4ms/step - loss: 0.7955 - accuracy: 0.7362 - val_loss: 0.7130 - val_accuracy: 0.7656\n",
            "Epoch 3/10\n",
            "1719/1719 [==============================] - 6s 3ms/step - loss: 0.6816 - accuracy: 0.7721 - val_loss: 0.6427 - val_accuracy: 0.7900\n",
            "Epoch 4/10\n",
            "1719/1719 [==============================] - 6s 3ms/step - loss: 0.6217 - accuracy: 0.7944 - val_loss: 0.5900 - val_accuracy: 0.8066\n",
            "Epoch 5/10\n",
            "1719/1719 [==============================] - 7s 4ms/step - loss: 0.5832 - accuracy: 0.8074 - val_loss: 0.5582 - val_accuracy: 0.8202\n",
            "Epoch 6/10\n",
            "1719/1719 [==============================] - 6s 4ms/step - loss: 0.5553 - accuracy: 0.8157 - val_loss: 0.5350 - val_accuracy: 0.8238\n",
            "Epoch 7/10\n",
            "1719/1719 [==============================] - 6s 3ms/step - loss: 0.5338 - accuracy: 0.8225 - val_loss: 0.5157 - val_accuracy: 0.8304\n",
            "Epoch 8/10\n",
            "1719/1719 [==============================] - 6s 3ms/step - loss: 0.5172 - accuracy: 0.8273 - val_loss: 0.5079 - val_accuracy: 0.8282\n",
            "Epoch 9/10\n",
            "1719/1719 [==============================] - 6s 3ms/step - loss: 0.5040 - accuracy: 0.8288 - val_loss: 0.4895 - val_accuracy: 0.8386\n",
            "Epoch 10/10\n",
            "1719/1719 [==============================] - 6s 3ms/step - loss: 0.4924 - accuracy: 0.8320 - val_loss: 0.4817 - val_accuracy: 0.8396\n"
          ]
        }
      ],
      "source": [
        "history = model.fit(X_train, y_train, epochs=10,\n",
        "                    validation_data=(X_valid, y_valid))"
      ]
    },
    {
      "cell_type": "markdown",
      "source": [
        "LeakyReLU 말고도 PReLU (parametric leaky ReLU)도 사용 할 수 있습니다."
      ],
      "metadata": {
        "id": "zWqOahhLXmlI"
      },
      "id": "zWqOahhLXmlI"
    },
    {
      "cell_type": "markdown",
      "id": "aac165c0",
      "metadata": {
        "id": "aac165c0"
      },
      "source": [
        "### PReLU (Bing Xu et al., 2015)"
      ]
    },
    {
      "cell_type": "markdown",
      "source": [
        "\n",
        "$\n",
        "\\operatorname{PReLU}_\\alpha(z) =\n",
        "\\begin{cases}\n",
        "\\alpha(z) & \\text{if } z < 0\\\\ z & if z \\ge 0\n",
        "\\end{cases}\n",
        "$"
      ],
      "metadata": {
        "id": "UW8GimOLX-t2"
      },
      "id": "UW8GimOLX-t2"
    },
    {
      "cell_type": "code",
      "execution_count": null,
      "id": "be0b9842",
      "metadata": {
        "execution": {
          "iopub.execute_input": "2021-10-10T01:39:25.612504Z",
          "iopub.status.busy": "2021-10-10T01:39:25.609687Z",
          "iopub.status.idle": "2021-10-10T01:39:25.647517Z",
          "shell.execute_reply": "2021-10-10T01:39:25.647024Z"
        },
        "id": "be0b9842"
      },
      "outputs": [],
      "source": [
        "tf.random.set_seed(42)\n",
        "np.random.seed(42)\n",
        "\n",
        "model = keras.models.Sequential([\n",
        "    keras.layers.Flatten(input_shape=[28, 28]),\n",
        "    keras.layers.Dense(300, kernel_initializer=\"he_normal\"),\n",
        "    keras.layers.PReLU(),\n",
        "    keras.layers.Dense(100, kernel_initializer=\"he_normal\"),\n",
        "    keras.layers.PReLU(),\n",
        "    keras.layers.Dense(10, activation=\"softmax\")\n",
        "])"
      ]
    },
    {
      "cell_type": "code",
      "execution_count": null,
      "id": "b29dc5b4",
      "metadata": {
        "execution": {
          "iopub.execute_input": "2021-10-10T01:39:25.653376Z",
          "iopub.status.busy": "2021-10-10T01:39:25.652888Z",
          "iopub.status.idle": "2021-10-10T01:39:25.657907Z",
          "shell.execute_reply": "2021-10-10T01:39:25.658260Z"
        },
        "id": "b29dc5b4"
      },
      "outputs": [],
      "source": [
        "model.compile(loss=\"sparse_categorical_crossentropy\",\n",
        "              optimizer=keras.optimizers.SGD(learning_rate=1e-3),\n",
        "              metrics=[\"accuracy\"])"
      ]
    },
    {
      "cell_type": "code",
      "execution_count": null,
      "id": "f5605421",
      "metadata": {
        "execution": {
          "iopub.execute_input": "2021-10-10T01:39:25.662822Z",
          "iopub.status.busy": "2021-10-10T01:39:25.661910Z",
          "iopub.status.idle": "2021-10-10T01:40:02.780206Z",
          "shell.execute_reply": "2021-10-10T01:40:02.780614Z"
        },
        "id": "f5605421",
        "colab": {
          "base_uri": "https://localhost:8080/"
        },
        "outputId": "44800802-fa58-4bc0-e915-155e55e59d75"
      },
      "outputs": [
        {
          "output_type": "stream",
          "name": "stdout",
          "text": [
            "Epoch 1/10\n",
            "1719/1719 [==============================] - 7s 4ms/step - loss: 1.3461 - accuracy: 0.6209 - val_loss: 0.9255 - val_accuracy: 0.7186\n",
            "Epoch 2/10\n",
            "1719/1719 [==============================] - 6s 4ms/step - loss: 0.8197 - accuracy: 0.7355 - val_loss: 0.7305 - val_accuracy: 0.7632\n",
            "Epoch 3/10\n",
            "1719/1719 [==============================] - 6s 4ms/step - loss: 0.6966 - accuracy: 0.7693 - val_loss: 0.6565 - val_accuracy: 0.7880\n",
            "Epoch 4/10\n",
            "1719/1719 [==============================] - 7s 4ms/step - loss: 0.6331 - accuracy: 0.7909 - val_loss: 0.6003 - val_accuracy: 0.8046\n",
            "Epoch 5/10\n",
            "1719/1719 [==============================] - 6s 4ms/step - loss: 0.5917 - accuracy: 0.8057 - val_loss: 0.5656 - val_accuracy: 0.8180\n",
            "Epoch 6/10\n",
            "1719/1719 [==============================] - 6s 4ms/step - loss: 0.5618 - accuracy: 0.8134 - val_loss: 0.5406 - val_accuracy: 0.8238\n",
            "Epoch 7/10\n",
            "1719/1719 [==============================] - 6s 4ms/step - loss: 0.5390 - accuracy: 0.8205 - val_loss: 0.5196 - val_accuracy: 0.8312\n",
            "Epoch 8/10\n",
            "1719/1719 [==============================] - 7s 4ms/step - loss: 0.5213 - accuracy: 0.8258 - val_loss: 0.5113 - val_accuracy: 0.8318\n",
            "Epoch 9/10\n",
            "1719/1719 [==============================] - 7s 4ms/step - loss: 0.5070 - accuracy: 0.8289 - val_loss: 0.4916 - val_accuracy: 0.8380\n",
            "Epoch 10/10\n",
            "1719/1719 [==============================] - 6s 4ms/step - loss: 0.4945 - accuracy: 0.8315 - val_loss: 0.4826 - val_accuracy: 0.8396\n"
          ]
        }
      ],
      "source": [
        "history = model.fit(X_train, y_train, epochs=10,\n",
        "                    validation_data=(X_valid, y_valid))"
      ]
    },
    {
      "cell_type": "markdown",
      "id": "12ed519a",
      "metadata": {
        "id": "12ed519a"
      },
      "source": [
        "### ELU (Djork-Arne Clevert et al., 2016)"
      ]
    },
    {
      "cell_type": "markdown",
      "source": [
        "\n",
        "$\n",
        "\\operatorname{ELU}_\\alpha(z) =\n",
        "\\begin{cases}\n",
        "\\alpha(\\exp(z) - 1) & \\text{if } z < 0\\\\\n",
        "z & if z \\ge 0\n",
        "\\end{cases}\n",
        "$"
      ],
      "metadata": {
        "id": "Fg-2QlIvUl_1"
      },
      "id": "Fg-2QlIvUl_1"
    },
    {
      "cell_type": "code",
      "execution_count": null,
      "id": "c4b29c37",
      "metadata": {
        "execution": {
          "iopub.execute_input": "2021-10-10T01:40:02.783470Z",
          "iopub.status.busy": "2021-10-10T01:40:02.782940Z",
          "iopub.status.idle": "2021-10-10T01:40:02.786174Z",
          "shell.execute_reply": "2021-10-10T01:40:02.786530Z"
        },
        "id": "c4b29c37"
      },
      "outputs": [],
      "source": [
        "def elu(z, alpha=1):\n",
        "    return np.where(z < 0, alpha * (np.exp(z) - 1), z)"
      ]
    },
    {
      "cell_type": "code",
      "execution_count": null,
      "id": "ba9352d6",
      "metadata": {
        "execution": {
          "iopub.execute_input": "2021-10-10T01:40:02.789002Z",
          "iopub.status.busy": "2021-10-10T01:40:02.788539Z",
          "iopub.status.idle": "2021-10-10T01:40:03.203810Z",
          "shell.execute_reply": "2021-10-10T01:40:03.204222Z"
        },
        "id": "ba9352d6",
        "colab": {
          "base_uri": "https://localhost:8080/",
          "height": 315
        },
        "outputId": "337ceafa-6bf2-4d91-ac7e-3c8f62d30489"
      },
      "outputs": [
        {
          "output_type": "stream",
          "name": "stdout",
          "text": [
            "그림 저장: elu_plot\n"
          ]
        },
        {
          "output_type": "display_data",
          "data": {
            "text/plain": [
              "<Figure size 504x288 with 1 Axes>"
            ],
            "image/png": "[encoded data removed]"
          },
          "metadata": {
            "needs_background": "light"
          }
        }
      ],
      "source": [
        "plt.plot(z, elu(z), \"b-\", linewidth=2)\n",
        "plt.plot([-5, 5], [0, 0], 'k-')\n",
        "plt.plot([-5, 5], [-1, -1], 'k--')\n",
        "plt.plot([0, 0], [-2.2, 3.2], 'k-')\n",
        "plt.grid(True)\n",
        "plt.title(r\"ELU activation function ($\\alpha=1$)\", fontsize=14)\n",
        "plt.axis([-5, 5, -2.2, 3.2])\n",
        "\n",
        "save_fig(\"elu_plot\")\n",
        "plt.show()"
      ]
    },
    {
      "cell_type": "markdown",
      "id": "4d2deb70",
      "metadata": {
        "id": "4d2deb70"
      },
      "source": [
        "텐서플로에서 쉽게 ELU를 적용할 수 있습니다. 층을 만들 때 활성화 함수로 지정하면 됩니다:"
      ]
    },
    {
      "cell_type": "code",
      "execution_count": null,
      "id": "f8fa1983",
      "metadata": {
        "execution": {
          "iopub.execute_input": "2021-10-10T01:40:03.206818Z",
          "iopub.status.busy": "2021-10-10T01:40:03.206357Z",
          "iopub.status.idle": "2021-10-10T01:40:03.210866Z",
          "shell.execute_reply": "2021-10-10T01:40:03.211283Z"
        },
        "id": "f8fa1983",
        "colab": {
          "base_uri": "https://localhost:8080/"
        },
        "outputId": "c16ace74-18a0-428c-aba3-503a224e38d6"
      },
      "outputs": [
        {
          "output_type": "execute_result",
          "data": {
            "text/plain": [
              "<keras.layers.core.dense.Dense at 0x7f2b1f4d2fd0>"
            ]
          },
          "metadata": {},
          "execution_count": 33
        }
      ],
      "source": [
        "keras.layers.Dense(10, activation=\"elu\")"
      ]
    },
    {
      "cell_type": "markdown",
      "id": "a31ab87d",
      "metadata": {
        "id": "a31ab87d"
      },
      "source": [
        "### SELU (Gunter Klambauer et al., 2017)"
      ]
    },
    {
      "cell_type": "markdown",
      "source": [
        "$\n",
        "\\operatorname{SELU}_{\\alpha,\\lambda}(z) = \\lambda\n",
        "\\begin{cases}\n",
        "\\alpha(\\exp(z) - 1) & \\text{if } z < 0\\\\\n",
        "z & if z \\ge 0\n",
        "\\end{cases}\n",
        "$"
      ],
      "metadata": {
        "id": "BKxH4Fs-VPwF"
      },
      "id": "BKxH4Fs-VPwF"
    },
    {
      "cell_type": "markdown",
      "id": "02124728",
      "metadata": {
        "id": "02124728"
      },
      "source": [
        "Günter Klambauer, Thomas Unterthiner, Andreas Mayr는 2017년 한 [훌륭한 논문](https://arxiv.org/pdf/1706.02515.pdf)에서 SELU 활성화 함수를 소개했습니다. 훈련하는 동안 완전 연결 층만 쌓아서 신경망을 만들고 SELU 활성화 함수와 LeCun 초기화를 사용한다면 자기 정규화됩니다. 각 층의 출력이 평균과\n",
        "표준편차를 보존하는 경향이 있습니다. 이는 그레이디언트 소실과 폭주 문제를 막아줍니다. 그 결과로 SELU 활성화 함수는 이런 종류의 네트워크(특히 아주 깊은 네트워크)에서 다른 활성화 함수보다 뛰어난 성능을 종종 냅니다. 따라서 꼭 시도해 봐야 합니다. 하지만 SELU 활성화 함수의 자기 정규화 특징은 쉽게 깨집니다. ℓ<sub>1</sub>나 ℓ<sub>2</sub> 정규화, 드롭아웃, 맥스 노름, 스킵 연결이나 시퀀셜하지 않은 다른 토폴로지를 사용할 수 없습니다(즉 순환 신경망은 자기 정규화되지 않습니다). 하지만 실전에서 시퀀셜 CNN과 잘 동작합니다. 자기 정규화가 깨지면 SELU가 다른 활성화 함수보다 더 나은 성능을 내지 않을 것입니다."
      ]
    },
    {
      "cell_type": "code",
      "execution_count": null,
      "id": "b80ad1b3",
      "metadata": {
        "execution": {
          "iopub.execute_input": "2021-10-10T01:40:03.213673Z",
          "iopub.status.busy": "2021-10-10T01:40:03.213180Z",
          "iopub.status.idle": "2021-10-10T01:40:03.217737Z",
          "shell.execute_reply": "2021-10-10T01:40:03.218145Z"
        },
        "id": "b80ad1b3"
      },
      "outputs": [],
      "source": [
        "from scipy.special import erfc\n",
        "\n",
        "# alpha와 scale은 평균 0과 표준 편차 1로 자기 정규화합니다\n",
        "# (논문에 있는 식 14 참조):\n",
        "alpha_0_1 = -np.sqrt(2 / np.pi) / (erfc(1/np.sqrt(2)) * np.exp(1/2) - 1)\n",
        "scale_0_1 = (1 - erfc(1 / np.sqrt(2)) * np.sqrt(np.e)) * np.sqrt(2 * np.pi) * (2 * erfc(np.sqrt(2))*np.e**2 + np.pi*erfc(1/np.sqrt(2))**2*np.e - 2*(2+np.pi)*erfc(1/np.sqrt(2))*np.sqrt(np.e)+np.pi+2)**(-1/2)"
      ]
    },
    {
      "cell_type": "code",
      "execution_count": null,
      "id": "03790259",
      "metadata": {
        "execution": {
          "iopub.execute_input": "2021-10-10T01:40:03.221270Z",
          "iopub.status.busy": "2021-10-10T01:40:03.220422Z",
          "iopub.status.idle": "2021-10-10T01:40:03.223128Z",
          "shell.execute_reply": "2021-10-10T01:40:03.223501Z"
        },
        "id": "03790259"
      },
      "outputs": [],
      "source": [
        "def selu(z, scale=scale_0_1, alpha=alpha_0_1):\n",
        "    return scale * elu(z, alpha)"
      ]
    },
    {
      "cell_type": "code",
      "execution_count": null,
      "id": "fd534656",
      "metadata": {
        "execution": {
          "iopub.execute_input": "2021-10-10T01:40:03.241211Z",
          "iopub.status.busy": "2021-10-10T01:40:03.240655Z",
          "iopub.status.idle": "2021-10-10T01:40:03.533608Z",
          "shell.execute_reply": "2021-10-10T01:40:03.533982Z"
        },
        "id": "fd534656",
        "colab": {
          "base_uri": "https://localhost:8080/",
          "height": 315
        },
        "outputId": "dc60f07e-7df9-43ed-e38a-a3dddc970a95"
      },
      "outputs": [
        {
          "output_type": "stream",
          "name": "stdout",
          "text": [
            "그림 저장: selu_plot\n"
          ]
        },
        {
          "output_type": "display_data",
          "data": {
            "text/plain": [
              "<Figure size 504x288 with 1 Axes>"
            ],
            "image/png": "[encoded data removed]"
          },
          "metadata": {
            "needs_background": "light"
          }
        }
      ],
      "source": [
        "plt.plot(z, selu(z), \"b-\", linewidth=2)\n",
        "plt.plot([-5, 5], [0, 0], 'k-')\n",
        "plt.plot([-5, 5], [-1.758, -1.758], 'k--')\n",
        "plt.plot([0, 0], [-2.2, 3.2], 'k-')\n",
        "plt.grid(True)\n",
        "plt.title(\"SELU activation function\", fontsize=14)\n",
        "plt.axis([-5, 5, -2.2, 3.2])\n",
        "\n",
        "save_fig(\"selu_plot\")\n",
        "plt.show()"
      ]
    },
    {
      "cell_type": "markdown",
      "id": "f2175cbc",
      "metadata": {
        "id": "f2175cbc"
      },
      "source": [
        "기본적으로 SELU 하이퍼파라미터(`scale`과 `alpha`)는 각 뉴런의 평균 출력이 0에 가깝고 표준 편차는 1에 가깝도록 조정됩니다(입력은 평균이 0이고 표준 편차 1로 표준화되었다고 가정합니다). 이 활성화 함수를 사용하면 1,000개의 층이 있는 심층 신경망도 모든 층에 걸쳐 거의 평균이 0이고 표준 편차를 1로 유지합니다. 이를 통해 그레이디언트 폭주와 소실 문제를 피할 수 있습니다:"
      ]
    },
    {
      "cell_type": "code",
      "execution_count": null,
      "id": "141c7123",
      "metadata": {
        "execution": {
          "iopub.execute_input": "2021-10-10T01:40:03.539386Z",
          "iopub.status.busy": "2021-10-10T01:40:03.538932Z",
          "iopub.status.idle": "2021-10-10T01:40:07.250188Z",
          "shell.execute_reply": "2021-10-10T01:40:07.251429Z"
        },
        "id": "141c7123",
        "colab": {
          "base_uri": "https://localhost:8080/"
        },
        "outputId": "3cf5fc45-9dbb-4607-e578-40994feb8077"
      },
      "outputs": [
        {
          "output_type": "stream",
          "name": "stdout",
          "text": [
            "Layer 0: mean -0.00, std deviation 1.00\n",
            "Layer 100: mean 0.02, std deviation 0.96\n",
            "Layer 200: mean 0.01, std deviation 0.90\n",
            "Layer 300: mean -0.02, std deviation 0.92\n",
            "Layer 400: mean 0.05, std deviation 0.89\n",
            "Layer 500: mean 0.01, std deviation 0.93\n",
            "Layer 600: mean 0.02, std deviation 0.92\n",
            "Layer 700: mean -0.02, std deviation 0.90\n",
            "Layer 800: mean 0.05, std deviation 0.83\n",
            "Layer 900: mean 0.02, std deviation 1.00\n"
          ]
        }
      ],
      "source": [
        "np.random.seed(42)\n",
        "Z = np.random.normal(size=(500, 100)) # 표준화된 입력\n",
        "for layer in range(1000):\n",
        "    W = np.random.normal(size=(100, 100), scale=np.sqrt(1 / 100)) # LeCun 초기화\n",
        "    Z = selu(np.dot(Z, W))\n",
        "    means = np.mean(Z, axis=0).mean()\n",
        "    stds = np.std(Z, axis=0).mean()\n",
        "    if layer % 100 == 0:\n",
        "        print(\"Layer {}: mean {:.2f}, std deviation {:.2f}\".format(layer, means, stds))"
      ]
    },
    {
      "cell_type": "markdown",
      "id": "5011c95e",
      "metadata": {
        "id": "5011c95e"
      },
      "source": [
        "쉽게 SELU를 사용할 수 있습니다:"
      ]
    },
    {
      "cell_type": "code",
      "execution_count": null,
      "id": "3dadf4d2",
      "metadata": {
        "execution": {
          "iopub.execute_input": "2021-10-10T01:40:07.257295Z",
          "iopub.status.busy": "2021-10-10T01:40:07.255545Z",
          "iopub.status.idle": "2021-10-10T01:40:07.269371Z",
          "shell.execute_reply": "2021-10-10T01:40:07.270536Z"
        },
        "id": "3dadf4d2",
        "colab": {
          "base_uri": "https://localhost:8080/"
        },
        "outputId": "46f00821-d84b-4b4b-fc0b-b5dbb0e8e7d7"
      },
      "outputs": [
        {
          "output_type": "execute_result",
          "data": {
            "text/plain": [
              "<keras.layers.core.dense.Dense at 0x7f2b1f445b10>"
            ]
          },
          "metadata": {},
          "execution_count": 38
        }
      ],
      "source": [
        "keras.layers.Dense(10, activation=\"selu\",\n",
        "                   kernel_initializer=\"lecun_normal\")"
      ]
    },
    {
      "cell_type": "markdown",
      "id": "4c33c252",
      "metadata": {
        "id": "4c33c252"
      },
      "source": [
        "100개의 은닉층과 SELU 활성화 함수를 사용한 패션 MNIST를 위한 신경망을 만들어 보죠:"
      ]
    },
    {
      "cell_type": "code",
      "execution_count": null,
      "id": "23635697",
      "metadata": {
        "execution": {
          "iopub.execute_input": "2021-10-10T01:40:07.275974Z",
          "iopub.status.busy": "2021-10-10T01:40:07.274312Z",
          "iopub.status.idle": "2021-10-10T01:40:07.283888Z",
          "shell.execute_reply": "2021-10-10T01:40:07.285055Z"
        },
        "id": "23635697"
      },
      "outputs": [],
      "source": [
        "np.random.seed(42)\n",
        "tf.random.set_seed(42)"
      ]
    },
    {
      "cell_type": "code",
      "execution_count": null,
      "id": "d663b5a8",
      "metadata": {
        "execution": {
          "iopub.execute_input": "2021-10-10T01:40:07.291458Z",
          "iopub.status.busy": "2021-10-10T01:40:07.289894Z",
          "iopub.status.idle": "2021-10-10T01:40:08.085708Z",
          "shell.execute_reply": "2021-10-10T01:40:08.086330Z"
        },
        "id": "d663b5a8"
      },
      "outputs": [],
      "source": [
        "model = keras.models.Sequential()\n",
        "model.add(keras.layers.Flatten(input_shape=[28, 28]))\n",
        "model.add(keras.layers.Dense(300, activation=\"selu\",\n",
        "                             kernel_initializer=\"lecun_normal\"))\n",
        "for layer in range(99):\n",
        "    model.add(keras.layers.Dense(100, activation=\"selu\",\n",
        "                                 kernel_initializer=\"lecun_normal\"))\n",
        "model.add(keras.layers.Dense(10, activation=\"softmax\"))"
      ]
    },
    {
      "cell_type": "code",
      "execution_count": null,
      "id": "6efec7df",
      "metadata": {
        "execution": {
          "iopub.execute_input": "2021-10-10T01:40:08.089221Z",
          "iopub.status.busy": "2021-10-10T01:40:08.088664Z",
          "iopub.status.idle": "2021-10-10T01:40:08.095267Z",
          "shell.execute_reply": "2021-10-10T01:40:08.095829Z"
        },
        "id": "6efec7df"
      },
      "outputs": [],
      "source": [
        "model.compile(loss=\"sparse_categorical_crossentropy\",\n",
        "              optimizer=keras.optimizers.SGD(learning_rate=1e-3),\n",
        "              metrics=[\"accuracy\"])"
      ]
    },
    {
      "cell_type": "markdown",
      "id": "4c422a54",
      "metadata": {
        "id": "4c422a54"
      },
      "source": [
        "이제 훈련해 보죠. 입력을 평균 0과 표준 편차 1로 바꾸어야 한다는 것을 잊지 마세요:"
      ]
    },
    {
      "cell_type": "code",
      "execution_count": null,
      "id": "7b2c3016",
      "metadata": {
        "execution": {
          "iopub.execute_input": "2021-10-10T01:40:08.098323Z",
          "iopub.status.busy": "2021-10-10T01:40:08.097870Z",
          "iopub.status.idle": "2021-10-10T01:40:08.654523Z",
          "shell.execute_reply": "2021-10-10T01:40:08.654961Z"
        },
        "id": "7b2c3016"
      },
      "outputs": [],
      "source": [
        "pixel_means = X_train.mean(axis=0, keepdims=True)\n",
        "pixel_stds = X_train.std(axis=0, keepdims=True)\n",
        "X_train_scaled = (X_train - pixel_means) / pixel_stds\n",
        "X_valid_scaled = (X_valid - pixel_means) / pixel_stds\n",
        "X_test_scaled = (X_test - pixel_means) / pixel_stds"
      ]
    },
    {
      "cell_type": "code",
      "execution_count": null,
      "id": "2bbf68a5",
      "metadata": {
        "execution": {
          "iopub.execute_input": "2021-10-10T01:40:08.657500Z",
          "iopub.status.busy": "2021-10-10T01:40:08.657029Z",
          "iopub.status.idle": "2021-10-10T01:42:09.522758Z",
          "shell.execute_reply": "2021-10-10T01:42:09.521960Z"
        },
        "id": "2bbf68a5",
        "colab": {
          "base_uri": "https://localhost:8080/"
        },
        "outputId": "26d3d878-69f3-4dd4-fc1a-e12878131d86"
      },
      "outputs": [
        {
          "output_type": "stream",
          "name": "stdout",
          "text": [
            "Epoch 1/5\n",
            "1719/1719 [==============================] - 39s 20ms/step - loss: 1.0909 - accuracy: 0.5887 - val_loss: 0.8581 - val_accuracy: 0.6928\n",
            "Epoch 2/5\n",
            "1719/1719 [==============================] - 34s 20ms/step - loss: 0.7349 - accuracy: 0.7327 - val_loss: 0.6277 - val_accuracy: 0.7676\n",
            "Epoch 3/5\n",
            "1719/1719 [==============================] - 37s 22ms/step - loss: 0.7406 - accuracy: 0.7261 - val_loss: 0.7095 - val_accuracy: 0.7268\n",
            "Epoch 4/5\n",
            "1719/1719 [==============================] - 34s 20ms/step - loss: 0.6736 - accuracy: 0.7534 - val_loss: 0.6066 - val_accuracy: 0.7864\n",
            "Epoch 5/5\n",
            "1719/1719 [==============================] - 34s 20ms/step - loss: 0.6338 - accuracy: 0.7650 - val_loss: 0.5682 - val_accuracy: 0.7870\n"
          ]
        }
      ],
      "source": [
        "history = model.fit(X_train_scaled, y_train, epochs=5,\n",
        "                    validation_data=(X_valid_scaled, y_valid))"
      ]
    },
    {
      "cell_type": "markdown",
      "id": "bb46e1bd",
      "metadata": {
        "id": "bb46e1bd"
      },
      "source": [
        "대신 ReLU 활성화 함수를 사용하면 어떤 일이 일어나는지 확인해 보죠:"
      ]
    },
    {
      "cell_type": "code",
      "execution_count": null,
      "id": "c837991b",
      "metadata": {
        "execution": {
          "iopub.execute_input": "2021-10-10T01:42:09.541494Z",
          "iopub.status.busy": "2021-10-10T01:42:09.540952Z",
          "iopub.status.idle": "2021-10-10T01:42:09.543422Z",
          "shell.execute_reply": "2021-10-10T01:42:09.543033Z"
        },
        "id": "c837991b"
      },
      "outputs": [],
      "source": [
        "np.random.seed(42)\n",
        "tf.random.set_seed(42)"
      ]
    },
    {
      "cell_type": "code",
      "execution_count": null,
      "id": "bb550fbb",
      "metadata": {
        "execution": {
          "iopub.execute_input": "2021-10-10T01:42:09.549347Z",
          "iopub.status.busy": "2021-10-10T01:42:09.548879Z",
          "iopub.status.idle": "2021-10-10T01:42:10.308513Z",
          "shell.execute_reply": "2021-10-10T01:42:10.308977Z"
        },
        "id": "bb550fbb"
      },
      "outputs": [],
      "source": [
        "model = keras.models.Sequential()\n",
        "model.add(keras.layers.Flatten(input_shape=[28, 28]))\n",
        "model.add(keras.layers.Dense(300, activation=\"relu\", kernel_initializer=\"he_normal\"))\n",
        "for layer in range(99):\n",
        "    model.add(keras.layers.Dense(100, activation=\"relu\", kernel_initializer=\"he_normal\"))\n",
        "model.add(keras.layers.Dense(10, activation=\"softmax\"))"
      ]
    },
    {
      "cell_type": "code",
      "execution_count": null,
      "id": "0d170009",
      "metadata": {
        "execution": {
          "iopub.execute_input": "2021-10-10T01:42:10.314880Z",
          "iopub.status.busy": "2021-10-10T01:42:10.314399Z",
          "iopub.status.idle": "2021-10-10T01:42:10.318079Z",
          "shell.execute_reply": "2021-10-10T01:42:10.318470Z"
        },
        "id": "0d170009"
      },
      "outputs": [],
      "source": [
        "model.compile(loss=\"sparse_categorical_crossentropy\",\n",
        "              optimizer=keras.optimizers.SGD(learning_rate=1e-3),\n",
        "              metrics=[\"accuracy\"])"
      ]
    },
    {
      "cell_type": "code",
      "execution_count": null,
      "id": "3f2ee0f4",
      "metadata": {
        "execution": {
          "iopub.execute_input": "2021-10-10T01:42:10.322386Z",
          "iopub.status.busy": "2021-10-10T01:42:10.321978Z",
          "iopub.status.idle": "2021-10-10T01:43:52.844818Z",
          "shell.execute_reply": "2021-10-10T01:43:52.844361Z"
        },
        "id": "3f2ee0f4",
        "colab": {
          "base_uri": "https://localhost:8080/"
        },
        "outputId": "5483aa90-5a79-45d0-b0fb-0c0692f5b634"
      },
      "outputs": [
        {
          "output_type": "stream",
          "name": "stdout",
          "text": [
            "Epoch 1/5\n",
            "1719/1719 [==============================] - 38s 20ms/step - loss: 1.9234 - accuracy: 0.2386 - val_loss: 1.6214 - val_accuracy: 0.2986\n",
            "Epoch 2/5\n",
            "1719/1719 [==============================] - 34s 20ms/step - loss: 1.1655 - accuracy: 0.5068 - val_loss: 0.9771 - val_accuracy: 0.5684\n",
            "Epoch 3/5\n",
            "1719/1719 [==============================] - 34s 20ms/step - loss: 0.9411 - accuracy: 0.6145 - val_loss: 1.0792 - val_accuracy: 0.5612\n",
            "Epoch 4/5\n",
            "1719/1719 [==============================] - 33s 19ms/step - loss: 0.8507 - accuracy: 0.6608 - val_loss: 0.7339 - val_accuracy: 0.6998\n",
            "Epoch 5/5\n",
            "1719/1719 [==============================] - 34s 20ms/step - loss: 0.7169 - accuracy: 0.7121 - val_loss: 0.6812 - val_accuracy: 0.7330\n"
          ]
        }
      ],
      "source": [
        "history = model.fit(X_train_scaled, y_train, epochs=5,\n",
        "                    validation_data=(X_valid_scaled, y_valid))"
      ]
    },
    {
      "cell_type": "markdown",
      "id": "3de938f6",
      "metadata": {
        "id": "3de938f6"
      },
      "source": [
        "좋지 않군요. 그레이디언트 폭주나 소실 문제가 발생한 것입니다."
      ]
    },
    {
      "cell_type": "markdown",
      "source": [
        "### Tip\n",
        "\n",
        "심층 신경망의 은닉층에는 어떤 활성화 함수를 써야 할까요? 사람마다 다르겠지만 일반적으로 SELU > ELU > LeakyReLU(그리고 변종들) > ReLU > tanh > 로지스틱 순입니다. 네트워크가 자기 정규화되지 못하는 구조라면 ELU가 SELU보다 성능이 더 나을 수 있습니다 (SELU가 z= 0에서 연속적이지 않기 때문에). 실행 속도가 중요하다면 LeakyReLU를 선택할 수 있습니다. 하이퍼파라미터를 더 추가하고 싶지 않다면 케라스에 사용하는 기본값을 사용합니다. 시간과 컴퓨팅 파워가 충분하다면 교차 검증을 사용해 여러 활성화 함수를 평가해볼 수 있습니다. 특히 신경망이 과대적합되었다면 PReLU를 포함시키면 좋습니다. ReLU가 지금까지 가장 널리 사용되는 활성화 함수이므로 많은 라이브러리와 하드웨어 가속기들은 ReLU에 특화되어 최적화되어있습니다. 따라서 속도가 중요하다면 ReLU가 가장 좋은 선택입니다. "
      ],
      "metadata": {
        "id": "IlAo94ENZTUB"
      },
      "id": "IlAo94ENZTUB"
    }
  ],
  "metadata": {
    "accelerator": "GPU",
    "colab": {
      "provenance": []
    },
    "kernelspec": {
      "display_name": "Python 3",
      "language": "python",
      "name": "python3"
    },
    "language_info": {
      "codemirror_mode": {
        "name": "ipython",
        "version": 3
      },
      "file_extension": ".py",
      "mimetype": "text/x-python",
      "name": "python",
      "nbconvert_exporter": "python",
      "pygments_lexer": "ipython3",
      "version": "3.7.3"
    },
    "nav_menu": {
      "height": "360px",
      "width": "416px"
    },
    "toc": {
      "navigate_menu": true,
      "number_sections": true,
      "sideBar": true,
      "threshold": 6,
      "toc_cell": false,
      "toc_section_display": "block",
      "toc_window_display": false
    }
  },
  "nbformat": 4,
  "nbformat_minor": 5
}